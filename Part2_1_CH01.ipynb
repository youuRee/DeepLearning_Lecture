{
  "nbformat": 4,
  "nbformat_minor": 0,
  "metadata": {
    "colab": {
      "name": "Part2-1_CH01.ipynb",
      "provenance": [],
      "collapsed_sections": [],
      "authorship_tag": "ABX9TyPeloixh8hexVpA3W6DTrGw",
      "include_colab_link": true
    },
    "kernelspec": {
      "name": "python3",
      "display_name": "Python 3"
    },
    "language_info": {
      "name": "python"
    }
  },
  "cells": [
    {
      "cell_type": "markdown",
      "metadata": {
        "id": "view-in-github",
        "colab_type": "text"
      },
      "source": [
        "<a href=\"https://colab.research.google.com/github/youuRee/DeepLearning_Lecture/blob/main/Part2_1_CH01.ipynb\" target=\"_parent\"><img src=\"https://colab.research.google.com/assets/colab-badge.svg\" alt=\"Open In Colab\"/></a>"
      ]
    },
    {
      "cell_type": "markdown",
      "source": [
        "1-1: Affine Functions with 1 Feature"
      ],
      "metadata": {
        "id": "42bHCa6JPkkT"
      }
    },
    {
      "cell_type": "code",
      "execution_count": null,
      "metadata": {
        "colab": {
          "base_uri": "https://localhost:8080/"
        },
        "id": "L3PamzNbw04y",
        "outputId": "f7684c5c-e313-40d7-989b-a9f673c10ea2"
      },
      "outputs": [
        {
          "output_type": "stream",
          "name": "stdout",
          "text": [
            "===== Input/weight/bias =====\n",
            "x: (1, 1)\n",
            "[[10.]]\n",
            "\n",
            "W: (1, 1)\n",
            "[[1.3821293]]\n",
            "\n",
            "B: (1,)\n",
            "[0.]\n",
            "\n",
            "===== Output =====\n",
            "y(Tensorflow): (1, 1)\n",
            "[[13.821293]]\n",
            "\n",
            "y(Manual): (1, 1)\n",
            "[[13.821293]]\n",
            "\n"
          ]
        }
      ],
      "source": [
        "# Code.1-1-1: Affine Function\n",
        "\n",
        "import tensorflow as tf\n",
        "from tensorflow.keras.layers import Dense\n",
        "\n",
        "x = tf.constant([[10.]])\n",
        "\n",
        "dense = Dense(units=1, activation='linear')\n",
        "\n",
        "y_tf = dense(x)\n",
        "\n",
        "W, B = dense.get_weights()\n",
        "\n",
        "y_man = tf.linalg.matmul(x, W) + B\n",
        "\n",
        "print('===== Input/weight/bias =====')\n",
        "print(\"x: {}\\n{}\\n\".format(x.shape, x.numpy()))\n",
        "print(\"W: {}\\n{}\\n\".format(W.shape, W))\n",
        "print(\"B: {}\\n{}\\n\".format(B.shape, B))\n",
        "\n",
        "print('===== Output =====')\n",
        "print(\"y(Tensorflow): {}\\n{}\\n\".format(y_tf.shape, y_tf.numpy()))\n",
        "print(\"y(Manual): {}\\n{}\\n\".format(y_man.shape, y_man.numpy()))"
      ]
    },
    {
      "cell_type": "code",
      "source": [
        "# Code.1-1-2: Params Initialization\n",
        "\n",
        "import tensorflow as tf\n",
        "\n",
        "from tensorflow.keras.layers import Dense\n",
        "from tensorflow.keras.initializers import Constant # Constant -> 원하는 값으로 initializers(초기화)\n",
        "\n",
        "x = tf.constant([[10.]])\n",
        "\n",
        "# weight/bias setting\n",
        "w, b = tf.constant(10.), tf.constant(20.) # 텐서플로우는 기본적으로 float -> 따라서 10.\n",
        "w_init, b_init = Constant(w), Constant(b)\n",
        "\n",
        "# imp. an affine function\n",
        "dense = Dense(units=1, activation='linear',\n",
        "              kernel_initializer = w_init,\n",
        "              bias_initializer = b_init)\n",
        "\n",
        "y_tf = dense(x)\n",
        "print(y_tf) # x(10) * w(10) + b(20)\n",
        "W, B = dense.get_weights()\n",
        "\n",
        "# print result\n",
        "print(\"W: {}\\n{}\\n\".format(W.shape, w))\n",
        "print(\"B: {}\\n{}\\n\".format(B.shape, B))"
      ],
      "metadata": {
        "colab": {
          "base_uri": "https://localhost:8080/"
        },
        "id": "iT4WvwHw1i23",
        "outputId": "e02e8239-c52e-4ceb-cb56-52a1871b8ab7"
      },
      "execution_count": null,
      "outputs": [
        {
          "output_type": "stream",
          "name": "stdout",
          "text": [
            "tf.Tensor([[120.]], shape=(1, 1), dtype=float32)\n",
            "W: (1, 1)\n",
            "10.0\n",
            "\n",
            "B: (1,)\n",
            "[20.]\n",
            "\n"
          ]
        }
      ]
    },
    {
      "cell_type": "markdown",
      "source": [
        "1-2: Affine Function with n Features"
      ],
      "metadata": {
        "id": "AL-GWe6vPJzd"
      }
    },
    {
      "cell_type": "code",
      "source": [
        "# Code.1-2-1: Affine Function with n Features\n",
        "\n",
        "import tensorflow as tf\n",
        "from tensorflow.keras.layers import Dense\n",
        "\n",
        "x = tf.random.uniform(shape=(1, 10), minval=0, maxval=10)\n",
        "\n",
        "dense = Dense(units=1)\n",
        "\n",
        "y_tf = dense(x) # dense 통과하면\n",
        "\n",
        "W, B = dense.get_weights() # 알아서 값 초기화\n",
        "\n",
        "y_man = tf.linalg.matmul(x, W) + B # 검증\n",
        "\n",
        "print('===== Input/weight/bias =====')\n",
        "print(\"x: {}\\n{}\\n\".format(x.shape, x.numpy()))\n",
        "print(\"W: {}\\n{}\\n\".format(W.shape, W))\n",
        "print(\"B: {}\\n{}\\n\".format(B.shape, B))\n",
        "\n",
        "print('===== Output =====')\n",
        "print(\"y(Tensorflow): {}\\n{}\\n\".format(y_tf.shape, y_tf.numpy()))\n",
        "print(\"y(Manual): {}\\n{}\\n\".format(y_man.shape, y_man.numpy()))"
      ],
      "metadata": {
        "colab": {
          "base_uri": "https://localhost:8080/"
        },
        "id": "xmCJHRbY6NGb",
        "outputId": "8c541b2f-86fd-4138-9ab7-68d7dc5a6830"
      },
      "execution_count": null,
      "outputs": [
        {
          "output_type": "stream",
          "name": "stdout",
          "text": [
            "===== Input/weight/bias =====\n",
            "x: (1, 10)\n",
            "[[1.0598993 7.5630894 7.055354  3.1010783 1.3771653 8.337134  1.8225026\n",
            "  8.521214  4.457915  5.052302 ]]\n",
            "\n",
            "W: (10, 1)\n",
            "[[-0.70097405]\n",
            " [-0.6954211 ]\n",
            " [ 0.50150126]\n",
            " [-0.5200922 ]\n",
            " [-0.26694354]\n",
            " [ 0.24785411]\n",
            " [-0.3196708 ]\n",
            " [ 0.66107184]\n",
            " [-0.62230635]\n",
            " [ 0.17245418]]\n",
            "\n",
            "B: (1,)\n",
            "[0.]\n",
            "\n",
            "===== Output =====\n",
            "y(Tensorflow): (1, 1)\n",
            "[[0.7693321]]\n",
            "\n",
            "y(Manual): (1, 1)\n",
            "[[0.7693321]]\n",
            "\n"
          ]
        }
      ]
    },
    {
      "cell_type": "markdown",
      "source": [
        "1-3: Activation Function"
      ],
      "metadata": {
        "id": "gSF503orP_vi"
      }
    },
    {
      "cell_type": "code",
      "source": [
        "# Code.1-3-1: Activation Layer\n",
        "\n",
        "import tensorflow as tf\n",
        "\n",
        "from tensorflow.math import exp, maximum\n",
        "from tensorflow.keras.layers import Activation\n",
        "\n",
        "x = tf.random.normal(shape=(1, 5))\n",
        "\n",
        "# imp. activation function\n",
        "sigmoid = Activation('sigmoid')\n",
        "tanh = Activation('tanh')\n",
        "relu = Activation('relu')\n",
        "\n",
        "# forward propagation(Tensorderflow)\n",
        "y_sigmoid_tf = sigmoid(x)\n",
        "y_tanh_tf = tanh(x)\n",
        "y_relu_tf = relu(x)\n",
        "\n",
        "# forward propagation(Manual)\n",
        "y_sigmoid_man = 1 / (1 + exp(-x))\n",
        "y_tanh_man = (exp(x) - exp(-x) / exp(x) + exp(-x))\n",
        "y_relu_man = maximum(x, 0)\n",
        "\n",
        "print(\"x: {}\\n{}\".format(x.shape, x.numpy()))\n",
        "print(\"Sigmoid(Tensorderflow): {}\\n{}\".format(y_sigmoid_tf.shape, y_sigmoid_tf.numpy()))\n",
        "print(\"Sigmoid(Manual): {}\\n{}\".format(y_sigmoid_man.shape, y_sigmoid_man.numpy()))\n",
        "\n",
        "print(\"Tanh(Tensorderflow): {}\\n{}\".format(y_tanh_tf.shape, y_tanh_tf.numpy()))\n",
        "print(\"Tanh(Manual): {}\\n{}\".format(y_tanh_man.shape, y_tanh_man.numpy()))\n",
        "\n",
        "print(\"Relu(Tensorderflow): {}\\n{}\".format(y_relu_tf.shape, y_relu_tf.numpy()))\n",
        "print(\"Relu(Manual): {}\\n{}\".format(y_relu_man.shape, y_relu_man.numpy()))"
      ],
      "metadata": {
        "colab": {
          "base_uri": "https://localhost:8080/"
        },
        "id": "5G1qcU41CHxQ",
        "outputId": "d386fe8f-5c88-4aaa-cf16-354b2d549747"
      },
      "execution_count": null,
      "outputs": [
        {
          "output_type": "stream",
          "name": "stdout",
          "text": [
            "x: (1, 5)\n",
            "[[ 0.6952397   1.0264286  -1.5441062   0.43331563 -0.37669703]]\n",
            "Sigmoid(Tensorderflow): (1, 5)\n",
            "[[0.6671315  0.73622286 0.17593914 0.60666513 0.40692377]]\n",
            "Sigmoid(Manual): (1, 5)\n",
            "[[0.66713154 0.7362229  0.17593914 0.60666513 0.40692377]]\n",
            "Tanh(Tensorderflow): (1, 5)\n",
            "[[ 0.60133755  0.7724721  -0.9128079   0.4080885  -0.35983557]]\n",
            "Tanh(Manual): (1, 5)\n",
            "[[  2.2541883    3.0209966  -17.040543     1.7703534    0.01938903]]\n",
            "Relu(Tensorderflow): (1, 5)\n",
            "[[0.6952397  1.0264286  0.         0.43331563 0.        ]]\n",
            "Relu(Manual): (1, 5)\n",
            "[[0.6952397  1.0264286  0.         0.43331563 0.        ]]\n"
          ]
        }
      ]
    },
    {
      "cell_type": "code",
      "source": [
        "# Code.1-3-2: Activation in Dense Layer\n",
        "\n",
        "import tensorflow as tf\n",
        "from tensorflow.math import exp\n",
        "from tensorflow.keras.layers import Dense\n",
        "\n",
        "x = tf.random.normal(shape=(1, 5)) # input setting\n",
        "\n",
        "# imp. artificial neurons\n",
        "dense_sigmoid = Dense(units=1, activation='sigmoid')\n",
        "dense_tanh = Dense(units=1, activation='tanh')\n",
        "dense_relu = Dense(units=1, activation='relu')\n",
        "\n",
        "# forward propagation(Tensorflow)\n",
        "y_sigmoid = dense_sigmoid(x)\n",
        "y_tanh = dense_tanh(x)\n",
        "y_relu = dense_relu(x)\n",
        "\n",
        "print(\"AN with Sigmoid: {}\\n{}\".format(y_sigmoid.shape, y_sigmoid.numpy()))\n",
        "print(\"AN with Tanh: {}\\n{}\".format(y_tanh.shape, y_tanh.numpy()))\n",
        "print(\"AN with Relu: {}\\n{}\".format(y_relu.shape, y_relu.numpy()))\n",
        "\n",
        "# forward propation(manual)\n",
        "print('\\n=====\\n')\n",
        "\n",
        "W, B = dense_sigmoid.get_weights()\n",
        "z = tf.linalg.matmul(x, W) + B\n",
        "a = 1 / (1 + exp(-z))\n",
        "print(\"Activation value(Tensorflow): {}\\n{}\".format(y_sigmoid.shape, y_sigmoid.numpy()))\n",
        "print(\"Activation value(menual): {}\\n{}\".format(a.shape, a.numpy()))\n"
      ],
      "metadata": {
        "colab": {
          "base_uri": "https://localhost:8080/"
        },
        "id": "IKiZvnHBG2TU",
        "outputId": "3f787857-5315-4ba0-cd87-620486a62429"
      },
      "execution_count": null,
      "outputs": [
        {
          "output_type": "stream",
          "name": "stdout",
          "text": [
            "AN with Sigmoid: (1, 1)\n",
            "[[0.7787707]]\n",
            "AN with Tanh: (1, 1)\n",
            "[[0.956159]]\n",
            "AN with Relu: (1, 1)\n",
            "[[0.]]\n",
            "\n",
            "=====\n",
            "\n",
            "Activation value(Tensorflow): (1, 1)\n",
            "[[0.7787707]]\n",
            "Activation value(menual): (1, 1)\n",
            "[[0.7787707]]\n"
          ]
        }
      ]
    },
    {
      "cell_type": "markdown",
      "source": [
        "1-4: Artificial Neurons"
      ],
      "metadata": {
        "id": "nrDJiot-QUi6"
      }
    },
    {
      "cell_type": "code",
      "source": [
        "# Code.1-4-1: Artificial Neurons\n",
        "\n",
        "import tensorflow as tf\n",
        "from tensorflow.keras.layers import Dense\n",
        "from tensorflow.math import exp, maximum\n",
        "\n",
        "activation = 'sigmoid'\n",
        "# activation = 'tanh'\n",
        "# activation = 'relu'\n",
        "\n",
        "x = tf.random.uniform(shape = (1, 10)) # input setting\n",
        "\n",
        "dense = Dense(units=1, activation=activation) # imp. an affine + activation\n",
        "\n",
        "y_tf = dense(x)\n",
        "W, B = dense.get_weights()\n",
        "\n",
        "# calculate activation valie manually\n",
        "y_man = tf.linalg.matmul(x, W) + B\n",
        "if activation == 'sigmoid':\n",
        "  y_man = 1 / (1 + exp(-y_man))\n",
        "elif activation == 'tanh':\n",
        "  y_man = (exp(y_man) - exp(-y_man)) / (exp(y_man) + exp(-y_man))\n",
        "elif activation == 'relu':\n",
        "  y_man = maximum(y_man, 0)\n",
        "\n",
        "print('Activation: ', activation)\n",
        "print('y_tf: {}\\n{}\\n'.format(y_tf.shape, y_tf.numpy()))\n",
        "print('y_man: {}\\n{}\\n'.format(y_man.shape, y_man.numpy()))"
      ],
      "metadata": {
        "colab": {
          "base_uri": "https://localhost:8080/"
        },
        "id": "6f0QIxG67ua3",
        "outputId": "12d9a742-c53a-4635-85f0-d315bf0cb972"
      },
      "execution_count": null,
      "outputs": [
        {
          "output_type": "stream",
          "name": "stdout",
          "text": [
            "Activation:  sigmoid\n",
            "y_tf: (1, 1)\n",
            "[[0.29830763]]\n",
            "\n",
            "y_man: (1, 1)\n",
            "[[0.29830763]]\n",
            "\n"
          ]
        }
      ]
    },
    {
      "cell_type": "markdown",
      "source": [
        "1-5: Minibatches"
      ],
      "metadata": {
        "id": "4NaGBNcdQdzx"
      }
    },
    {
      "cell_type": "code",
      "source": [
        "# Code.1-5-1: Shapes of Dense Layers\n",
        "\n",
        "import tensorflow as tf\n",
        "from tensorflow.keras.layers import Dense\n",
        "\n",
        "N, n_feature = 32000, 10 # set input params\n",
        "x = tf.random.normal(shape=(N, n_feature)) # generate minibatche\n",
        "\n",
        "dense = Dense(units=1, activation='relu') # imp. an AN\n",
        "y = dense(x) # forward propagation\n",
        "\n",
        "W, B = dense.get_weights() # get weights/bias\n",
        "\n",
        "# print result\n",
        "print('Shape of x: ', x.shape)\n",
        "print('Shape of W: ', W.shape)\n",
        "print('Shape of B: ', B.shape)"
      ],
      "metadata": {
        "colab": {
          "base_uri": "https://localhost:8080/"
        },
        "id": "ITBzzMflBBks",
        "outputId": "94628e11-f4cf-41fb-a547-e35f5bf141e5"
      },
      "execution_count": null,
      "outputs": [
        {
          "output_type": "stream",
          "name": "stdout",
          "text": [
            "Shape of x:  (32000, 10)\n",
            "Shape of W:  (10, 1)\n",
            "Shape of B:  (1,)\n"
          ]
        }
      ]
    },
    {
      "cell_type": "code",
      "source": [
        "# Code.1-5-2: Output Calculation\n",
        "\n",
        "import tensorflow as tf\n",
        "from tensorflow.keras.layers import Dense\n",
        "\n",
        "N, n_feature = 8, 10 # set input params\n",
        "x = tf.random.normal(shape=(N, n_feature)) # generate minibatch\n",
        "\n",
        "dense = Dense(units=1, activation='sigmoid') # imp. an AN\n",
        "y_tf = dense(x) # forward propagation(Tensorflow)\n",
        "\n",
        "W, B = dense.get_weights() # get weights/bias\n",
        "\n",
        "y_man = tf.linalg.matmul(x, W) + B # forward propagation(Manual)\n",
        "y_man = 1 / (1 + tf.math.exp(-y_man))\n",
        "\n",
        "# print result\n",
        "print('Output(Tensorflow): \\n', y_tf.numpy())\n",
        "print('Output(Manual): \\n', y_man.numpy())"
      ],
      "metadata": {
        "colab": {
          "base_uri": "https://localhost:8080/"
        },
        "id": "jB-VtoLZCpVq",
        "outputId": "19b2e4dc-653c-4672-8152-54c887c78ba8"
      },
      "execution_count": null,
      "outputs": [
        {
          "output_type": "stream",
          "name": "stdout",
          "text": [
            "Output(Tensorflow): \n",
            " [[0.74493295]\n",
            " [0.7081195 ]\n",
            " [0.78175646]\n",
            " [0.14136732]\n",
            " [0.32922256]\n",
            " [0.29196122]\n",
            " [0.19100147]\n",
            " [0.24145672]]\n",
            "Output(Manual): \n",
            " [[0.74493295]\n",
            " [0.7081195 ]\n",
            " [0.78175646]\n",
            " [0.14136733]\n",
            " [0.3292226 ]\n",
            " [0.2919612 ]\n",
            " [0.19100149]\n",
            " [0.24145672]]\n"
          ]
        }
      ]
    }
  ]
}