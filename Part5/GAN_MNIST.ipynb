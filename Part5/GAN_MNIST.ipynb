{
  "nbformat": 4,
  "nbformat_minor": 0,
  "metadata": {
    "colab": {
      "name": "GAN_MNIST.ipynb",
      "provenance": [],
      "authorship_tag": "ABX9TyMlrjVNXKcdYQphIvPU2lwq",
      "include_colab_link": true
    },
    "kernelspec": {
      "name": "python3",
      "display_name": "Python 3"
    },
    "language_info": {
      "name": "python"
    },
    "accelerator": "GPU",
    "gpuClass": "standard"
  },
  "cells": [
    {
      "cell_type": "markdown",
      "metadata": {
        "id": "view-in-github",
        "colab_type": "text"
      },
      "source": [
        "<a href=\"https://colab.research.google.com/github/youuRee/DeepLearning_Lecture/blob/main/Part5/GAN_MNIST.ipynb\" target=\"_parent\"><img src=\"https://colab.research.google.com/assets/colab-badge.svg\" alt=\"Open In Colab\"/></a>"
      ]
    },
    {
      "cell_type": "code",
      "source": [
        "import os\n",
        "import torch\n",
        "import torchvision\n",
        "import torch.nn as nn\n",
        "import torch.optim as optim\n",
        "from torchvision import transforms, datasets\n",
        "from torchvision.utils import save_image\n",
        "import matplotlib.pyplot as plt\n",
        "import numpy as np"
      ],
      "metadata": {
        "id": "lnxDUsl2v8Ho"
      },
      "execution_count": 4,
      "outputs": []
    },
    {
      "cell_type": "code",
      "source": [
        "# 공개 데이터셋에서 학습 데이터를 내려받기\n",
        "training_data = datasets.MNIST(\n",
        "    root=\"data\",\n",
        "    train=True,\n",
        "    download=True,\n",
        "    transform=transforms.Compose([\n",
        "       transforms.ToTensor(),\n",
        "       transforms.Normalize((0.5,), (0.5,))\n",
        "    ])\n",
        ")\n",
        "\n",
        "# 공개 데이터셋에서 테스트 데이터를 내려받기\n",
        "'''test_data = datasets.MNIST(\n",
        "    root=\"data\",\n",
        "    train=False,\n",
        "    download=True,\n",
        "    transform=transforms.Compose([\n",
        "       transforms.ToTensor(),\n",
        "       transforms.Normalize((0.5,), (0.5,))\n",
        "    ])\n",
        ")'''"
      ],
      "metadata": {
        "id": "fhSDTwqb30Oe"
      },
      "execution_count": 5,
      "outputs": []
    },
    {
      "cell_type": "code",
      "source": [
        "batch_size = 100\n",
        "\n",
        "# 데이터로더 생성\n",
        "train_dataloader = DataLoader(training_data, batch_size=batch_size)\n",
        "# test_dataloader = DataLoader(test_data, batch_size=batch_size)"
      ],
      "metadata": {
        "id": "Ru3k2QGU30XV"
      },
      "execution_count": 9,
      "outputs": []
    },
    {
      "cell_type": "code",
      "source": [
        "# Hyper-parameters & Variables setting\n",
        "num_epoch = 200\n",
        "batch_size = 100\n",
        "learning_rate = 0.0002\n",
        "img_size = 28 * 28\n",
        "num_channel = 1\n",
        "dir_name = \"GAN_results\"\n",
        "\n",
        "noise_size = 100\n",
        "hidden_size1 = 256\n",
        "hidden_size2 = 512\n",
        "hidden_size3 = 1024"
      ],
      "metadata": {
        "id": "prsKDNN462p2"
      },
      "execution_count": 10,
      "outputs": []
    },
    {
      "cell_type": "code",
      "source": [
        "device = \"cuda\" if torch.cuda.is_available() else \"cpu\"\n",
        "print(\"Using {} device\".format(device))\n",
        "\n",
        "# 모델 정의\n",
        "class Discriminator(nn.Module):\n",
        "    def __init__(self):\n",
        "        super(Discriminator, self).__init__()\n",
        "        self.linear1 = nn.Linear(img_size, hidden_size3)\n",
        "        self.linear2 = nn.Linear(hidden_size3, hidden_size2)\n",
        "        self.linear3 = nn.Linear(hidden_size2, hidden_size1)\n",
        "        self.linear4 = nn.Linear(hidden_size1, 1)\n",
        "        self.leaky_relu = nn.LeakyReLU(0.2)\n",
        "        self.sigmoid = nn.Sigmoid()\n",
        "\n",
        "    def forward(self, x):\n",
        "        x = self.leaky_relu(self.linear1(x))\n",
        "        x = self.leaky_relu(self.linear2(x))\n",
        "        x = self.leaky_relu(self.linear3(x))\n",
        "        x = self.linear4(x)\n",
        "        x = self.sigmoid(x)\n",
        "        return x\n",
        "\n",
        "class Generator(nn.Module):\n",
        "    def __init__(self):\n",
        "        super(Generator, self).__init__()\n",
        "\n",
        "        self.linear1 = nn.Linear(noise_size, hidden_size1)\n",
        "        self.linear2 = nn.Linear(hidden_size1, hidden_size2)\n",
        "        self.linear3 = nn.Linear(hidden_size2, hidden_size3)\n",
        "        self.linear4 = nn.Linear(hidden_size3, img_size)\n",
        "        self.relu = nn.ReLU()\n",
        "        self.tanh = nn.Tanh()\n",
        "\n",
        "    def forward(self, x):\n",
        "        x = self.relu(self.linear1(x))\n",
        "        x = self.relu(self.linear2(x))\n",
        "        x = self.relu(self.linear3(x))\n",
        "        x = self.linear4(x)\n",
        "        x = self.tanh(x)\n",
        "        return x\n",
        "\n",
        "D = Discriminator().to(device)\n",
        "G = Generator().to(device)"
      ],
      "metadata": {
        "colab": {
          "base_uri": "https://localhost:8080/"
        },
        "id": "sRxXsgOV4HR6",
        "outputId": "ad36b960-a7c0-4281-e0d5-56882c51531d"
      },
      "execution_count": 11,
      "outputs": [
        {
          "output_type": "stream",
          "name": "stdout",
          "text": [
            "Using cuda device\n"
          ]
        }
      ]
    },
    {
      "cell_type": "code",
      "source": [
        "# Loss function & Optimizer setting\n",
        "criterion = nn.BCELoss()\n",
        "d_optimizer = torch.optim.Adam(D.parameters(), lr=learning_rate)\n",
        "g_optimizer = torch.optim.Adam(G.parameters(), lr=learning_rate)"
      ],
      "metadata": {
        "id": "z-U59xN74HU5"
      },
      "execution_count": 13,
      "outputs": []
    },
    {
      "cell_type": "code",
      "source": [
        "# training\n",
        "\n",
        "for epoch in range(num_epoch):\n",
        "    for i, (images, label) in enumerate(train_dataloader):\n",
        "\n",
        "        real_labels = torch.ones(batch_size, 1).to(device)\n",
        "        fake_labels = torch.zeros(batch_size, 1).to(device)\n",
        "\n",
        "        # 진짜 이미지\n",
        "        real_images = images.reshape(batch_size, -1).to(device)\n",
        "\n",
        "        # D가 진짜 이미지를 진짜로 인식\n",
        "        outputs = D(real_images)\n",
        "        d_loss_real = criterion(outputs, real_labels)\n",
        "        real_score = outputs\n",
        "\n",
        "        # 가짜 이미지 생성\n",
        "        z = torch.randn(batch_size, noise_size).to(device)\n",
        "        fake_images = G(z)\n",
        "\n",
        "        # D가 가짜 이미지를 가짜로 인식\n",
        "        outputs = D(fake_images)\n",
        "        d_loss_fake = criterion(outputs, fake_labels)\n",
        "        fake_score = outputs\n",
        "        \n",
        "        # 진짜와 가짜 이미지를 갖고 낸 오차를 더해서 Discriminator의 오차 계산\n",
        "        d_loss = d_loss_real + d_loss_fake\n",
        "\n",
        "        #------ Discriminator 학습 ------#\n",
        "        \n",
        "        d_optimizer.zero_grad()\n",
        "        g_optimizer.zero_grad()\n",
        "        d_loss.backward()\n",
        "        d_optimizer.step()# Discriminator 학습\n",
        "\n",
        "        # 생성자가 판별자를 속였는지에 대한 오차(Generator의 loss)를 계산\n",
        "        fake_images = G(z)\n",
        "        outputs = D(fake_images)\n",
        "        g_loss = criterion(outputs, real_labels)\n",
        "\n",
        "         #------ Generator 학습 ------#\n",
        "        \n",
        "        # 역전파 알고리즘으로 생성자 모델의 학습을 진행\n",
        "        d_optimizer.zero_grad()\n",
        "        g_optimizer.zero_grad()\n",
        "        g_loss.backward()\n",
        "        g_optimizer.step()\n",
        "\n",
        "    print('Epoch [{}/{}], d_loss: {:.4f}, g_loss: {:.4f}, D(x): {:.2f}, D(G(z)): {:.2f}' \n",
        "          .format(epoch, num_epoch, d_loss.item(), g_loss.item(), \n",
        "                  real_score.mean().item(), fake_score.mean().item()))"
      ],
      "metadata": {
        "colab": {
          "base_uri": "https://localhost:8080/"
        },
        "id": "oa_Nc5NB8Vie",
        "outputId": "4fdb784f-9df7-4fba-cb2e-39eac27e4d98"
      },
      "execution_count": 15,
      "outputs": [
        {
          "output_type": "stream",
          "name": "stdout",
          "text": [
            "Epoch [0/200], d_loss: 0.0348, g_loss: 7.8761, D(x): 0.98, D(G(z)): 0.01\n",
            "Epoch [1/200], d_loss: 0.0836, g_loss: 6.7791, D(x): 0.97, D(G(z)): 0.03\n",
            "Epoch [2/200], d_loss: 0.4239, g_loss: 3.6530, D(x): 0.82, D(G(z)): 0.08\n",
            "Epoch [3/200], d_loss: 0.4789, g_loss: 1.5257, D(x): 0.92, D(G(z)): 0.30\n",
            "Epoch [4/200], d_loss: 1.4733, g_loss: 3.2651, D(x): 0.63, D(G(z)): 0.05\n",
            "Epoch [5/200], d_loss: 0.0983, g_loss: 4.6895, D(x): 0.96, D(G(z)): 0.04\n",
            "Epoch [6/200], d_loss: 0.1777, g_loss: 5.4970, D(x): 0.90, D(G(z)): 0.01\n",
            "Epoch [7/200], d_loss: 0.5622, g_loss: 4.7489, D(x): 0.84, D(G(z)): 0.06\n",
            "Epoch [8/200], d_loss: 0.2121, g_loss: 8.5969, D(x): 0.94, D(G(z)): 0.05\n",
            "Epoch [9/200], d_loss: 0.0558, g_loss: 8.8830, D(x): 1.00, D(G(z)): 0.05\n",
            "Epoch [10/200], d_loss: 0.2509, g_loss: 7.2502, D(x): 0.91, D(G(z)): 0.01\n",
            "Epoch [11/200], d_loss: 0.0113, g_loss: 8.0580, D(x): 1.00, D(G(z)): 0.01\n",
            "Epoch [12/200], d_loss: 0.0066, g_loss: 17.2881, D(x): 0.99, D(G(z)): 0.00\n",
            "Epoch [13/200], d_loss: 0.3109, g_loss: 8.3294, D(x): 1.00, D(G(z)): 0.18\n",
            "Epoch [14/200], d_loss: 0.0364, g_loss: 6.1970, D(x): 0.99, D(G(z)): 0.02\n",
            "Epoch [15/200], d_loss: 0.0325, g_loss: 7.9278, D(x): 0.99, D(G(z)): 0.02\n",
            "Epoch [16/200], d_loss: 0.1688, g_loss: 5.0137, D(x): 0.96, D(G(z)): 0.05\n",
            "Epoch [17/200], d_loss: 0.1803, g_loss: 4.1441, D(x): 0.92, D(G(z)): 0.05\n",
            "Epoch [18/200], d_loss: 0.3388, g_loss: 6.6651, D(x): 0.98, D(G(z)): 0.13\n",
            "Epoch [19/200], d_loss: 0.5250, g_loss: 5.1190, D(x): 0.80, D(G(z)): 0.03\n",
            "Epoch [20/200], d_loss: 0.2798, g_loss: 4.4054, D(x): 0.90, D(G(z)): 0.08\n",
            "Epoch [21/200], d_loss: 0.7522, g_loss: 3.7294, D(x): 0.69, D(G(z)): 0.02\n",
            "Epoch [22/200], d_loss: 0.5394, g_loss: 2.9525, D(x): 0.84, D(G(z)): 0.16\n",
            "Epoch [23/200], d_loss: 0.3526, g_loss: 4.9957, D(x): 0.84, D(G(z)): 0.01\n",
            "Epoch [24/200], d_loss: 0.3508, g_loss: 3.8916, D(x): 0.88, D(G(z)): 0.13\n",
            "Epoch [25/200], d_loss: 0.1353, g_loss: 4.0997, D(x): 0.95, D(G(z)): 0.06\n",
            "Epoch [26/200], d_loss: 0.2727, g_loss: 3.8266, D(x): 0.97, D(G(z)): 0.14\n",
            "Epoch [27/200], d_loss: 0.5839, g_loss: 4.9437, D(x): 0.94, D(G(z)): 0.24\n",
            "Epoch [28/200], d_loss: 0.2302, g_loss: 3.1991, D(x): 0.95, D(G(z)): 0.12\n",
            "Epoch [29/200], d_loss: 0.8496, g_loss: 3.6363, D(x): 0.93, D(G(z)): 0.38\n",
            "Epoch [30/200], d_loss: 0.2438, g_loss: 5.4666, D(x): 0.91, D(G(z)): 0.08\n",
            "Epoch [31/200], d_loss: 0.2506, g_loss: 3.2423, D(x): 0.90, D(G(z)): 0.07\n",
            "Epoch [32/200], d_loss: 0.5488, g_loss: 3.1803, D(x): 0.89, D(G(z)): 0.23\n",
            "Epoch [33/200], d_loss: 0.6131, g_loss: 2.2898, D(x): 0.92, D(G(z)): 0.28\n",
            "Epoch [34/200], d_loss: 0.4038, g_loss: 2.9722, D(x): 0.87, D(G(z)): 0.14\n",
            "Epoch [35/200], d_loss: 0.5984, g_loss: 3.4218, D(x): 0.77, D(G(z)): 0.12\n",
            "Epoch [36/200], d_loss: 0.6412, g_loss: 3.0456, D(x): 0.93, D(G(z)): 0.28\n",
            "Epoch [37/200], d_loss: 0.7267, g_loss: 4.2545, D(x): 0.69, D(G(z)): 0.04\n",
            "Epoch [38/200], d_loss: 0.4938, g_loss: 2.3578, D(x): 0.83, D(G(z)): 0.16\n",
            "Epoch [39/200], d_loss: 0.5741, g_loss: 3.8582, D(x): 0.75, D(G(z)): 0.08\n",
            "Epoch [40/200], d_loss: 0.5548, g_loss: 2.4300, D(x): 0.79, D(G(z)): 0.15\n",
            "Epoch [41/200], d_loss: 0.4457, g_loss: 2.9381, D(x): 0.83, D(G(z)): 0.12\n",
            "Epoch [42/200], d_loss: 0.6236, g_loss: 3.5240, D(x): 0.90, D(G(z)): 0.26\n",
            "Epoch [43/200], d_loss: 0.7174, g_loss: 2.2660, D(x): 0.87, D(G(z)): 0.27\n",
            "Epoch [44/200], d_loss: 0.6093, g_loss: 2.2044, D(x): 0.80, D(G(z)): 0.22\n",
            "Epoch [45/200], d_loss: 0.8172, g_loss: 2.0955, D(x): 0.75, D(G(z)): 0.22\n",
            "Epoch [46/200], d_loss: 1.0091, g_loss: 2.1947, D(x): 0.65, D(G(z)): 0.23\n",
            "Epoch [47/200], d_loss: 0.7090, g_loss: 2.0786, D(x): 0.80, D(G(z)): 0.25\n",
            "Epoch [48/200], d_loss: 0.6435, g_loss: 2.2599, D(x): 0.82, D(G(z)): 0.24\n",
            "Epoch [49/200], d_loss: 0.6778, g_loss: 2.7254, D(x): 0.83, D(G(z)): 0.24\n",
            "Epoch [50/200], d_loss: 0.7864, g_loss: 2.9427, D(x): 0.75, D(G(z)): 0.18\n",
            "Epoch [51/200], d_loss: 0.7781, g_loss: 2.1824, D(x): 0.70, D(G(z)): 0.17\n",
            "Epoch [52/200], d_loss: 0.4741, g_loss: 2.4095, D(x): 0.86, D(G(z)): 0.20\n",
            "Epoch [53/200], d_loss: 0.6856, g_loss: 2.9624, D(x): 0.74, D(G(z)): 0.12\n",
            "Epoch [54/200], d_loss: 0.6594, g_loss: 2.3916, D(x): 0.77, D(G(z)): 0.18\n",
            "Epoch [55/200], d_loss: 0.5779, g_loss: 2.7308, D(x): 0.76, D(G(z)): 0.14\n",
            "Epoch [56/200], d_loss: 0.7571, g_loss: 2.1738, D(x): 0.75, D(G(z)): 0.23\n",
            "Epoch [57/200], d_loss: 0.8674, g_loss: 1.8870, D(x): 0.77, D(G(z)): 0.29\n",
            "Epoch [58/200], d_loss: 0.6423, g_loss: 2.3316, D(x): 0.81, D(G(z)): 0.25\n",
            "Epoch [59/200], d_loss: 0.7134, g_loss: 2.1320, D(x): 0.77, D(G(z)): 0.24\n",
            "Epoch [60/200], d_loss: 0.6426, g_loss: 2.3603, D(x): 0.71, D(G(z)): 0.12\n",
            "Epoch [61/200], d_loss: 0.9984, g_loss: 1.9148, D(x): 0.76, D(G(z)): 0.32\n",
            "Epoch [62/200], d_loss: 0.5908, g_loss: 1.8008, D(x): 0.84, D(G(z)): 0.26\n",
            "Epoch [63/200], d_loss: 0.5828, g_loss: 2.4304, D(x): 0.79, D(G(z)): 0.18\n",
            "Epoch [64/200], d_loss: 0.8015, g_loss: 1.3021, D(x): 0.74, D(G(z)): 0.31\n",
            "Epoch [65/200], d_loss: 0.8467, g_loss: 1.7042, D(x): 0.65, D(G(z)): 0.20\n",
            "Epoch [66/200], d_loss: 0.8941, g_loss: 1.7459, D(x): 0.74, D(G(z)): 0.28\n",
            "Epoch [67/200], d_loss: 1.0317, g_loss: 2.0473, D(x): 0.62, D(G(z)): 0.20\n",
            "Epoch [68/200], d_loss: 0.8859, g_loss: 1.5970, D(x): 0.67, D(G(z)): 0.24\n",
            "Epoch [69/200], d_loss: 0.9043, g_loss: 1.4926, D(x): 0.71, D(G(z)): 0.28\n",
            "Epoch [70/200], d_loss: 1.0529, g_loss: 1.4712, D(x): 0.71, D(G(z)): 0.32\n",
            "Epoch [71/200], d_loss: 0.7248, g_loss: 1.6921, D(x): 0.75, D(G(z)): 0.22\n",
            "Epoch [72/200], d_loss: 0.8646, g_loss: 1.3432, D(x): 0.71, D(G(z)): 0.31\n",
            "Epoch [73/200], d_loss: 0.8046, g_loss: 1.6932, D(x): 0.78, D(G(z)): 0.30\n",
            "Epoch [74/200], d_loss: 0.8850, g_loss: 1.8869, D(x): 0.65, D(G(z)): 0.20\n",
            "Epoch [75/200], d_loss: 0.8893, g_loss: 1.3807, D(x): 0.74, D(G(z)): 0.29\n",
            "Epoch [76/200], d_loss: 0.7742, g_loss: 2.0424, D(x): 0.70, D(G(z)): 0.22\n",
            "Epoch [77/200], d_loss: 0.8873, g_loss: 1.8678, D(x): 0.69, D(G(z)): 0.24\n",
            "Epoch [78/200], d_loss: 0.8275, g_loss: 1.6548, D(x): 0.71, D(G(z)): 0.24\n",
            "Epoch [79/200], d_loss: 0.8711, g_loss: 1.5044, D(x): 0.70, D(G(z)): 0.27\n",
            "Epoch [80/200], d_loss: 1.1454, g_loss: 1.4571, D(x): 0.64, D(G(z)): 0.35\n",
            "Epoch [81/200], d_loss: 1.0946, g_loss: 1.2314, D(x): 0.71, D(G(z)): 0.40\n",
            "Epoch [82/200], d_loss: 1.0356, g_loss: 1.2344, D(x): 0.69, D(G(z)): 0.35\n",
            "Epoch [83/200], d_loss: 1.1872, g_loss: 1.2605, D(x): 0.60, D(G(z)): 0.32\n",
            "Epoch [84/200], d_loss: 0.9968, g_loss: 1.4044, D(x): 0.67, D(G(z)): 0.28\n",
            "Epoch [85/200], d_loss: 1.1238, g_loss: 2.0080, D(x): 0.53, D(G(z)): 0.17\n",
            "Epoch [86/200], d_loss: 0.9598, g_loss: 1.3659, D(x): 0.66, D(G(z)): 0.29\n",
            "Epoch [87/200], d_loss: 0.9441, g_loss: 1.6690, D(x): 0.70, D(G(z)): 0.31\n",
            "Epoch [88/200], d_loss: 1.0925, g_loss: 1.4407, D(x): 0.60, D(G(z)): 0.27\n",
            "Epoch [89/200], d_loss: 0.8947, g_loss: 1.4226, D(x): 0.77, D(G(z)): 0.36\n",
            "Epoch [90/200], d_loss: 1.1928, g_loss: 1.4584, D(x): 0.50, D(G(z)): 0.22\n",
            "Epoch [91/200], d_loss: 1.1686, g_loss: 1.5452, D(x): 0.65, D(G(z)): 0.37\n",
            "Epoch [92/200], d_loss: 0.8811, g_loss: 1.5634, D(x): 0.72, D(G(z)): 0.30\n",
            "Epoch [93/200], d_loss: 1.1247, g_loss: 1.1965, D(x): 0.69, D(G(z)): 0.37\n",
            "Epoch [94/200], d_loss: 0.9592, g_loss: 1.5144, D(x): 0.60, D(G(z)): 0.26\n",
            "Epoch [95/200], d_loss: 0.8163, g_loss: 1.9256, D(x): 0.69, D(G(z)): 0.24\n",
            "Epoch [96/200], d_loss: 1.2290, g_loss: 1.3706, D(x): 0.54, D(G(z)): 0.26\n",
            "Epoch [97/200], d_loss: 1.3607, g_loss: 1.1301, D(x): 0.62, D(G(z)): 0.41\n",
            "Epoch [98/200], d_loss: 0.8874, g_loss: 1.5898, D(x): 0.62, D(G(z)): 0.24\n",
            "Epoch [99/200], d_loss: 0.9460, g_loss: 1.4678, D(x): 0.65, D(G(z)): 0.29\n",
            "Epoch [100/200], d_loss: 0.8754, g_loss: 1.3814, D(x): 0.71, D(G(z)): 0.33\n",
            "Epoch [101/200], d_loss: 0.9206, g_loss: 1.3516, D(x): 0.64, D(G(z)): 0.28\n",
            "Epoch [102/200], d_loss: 1.0008, g_loss: 1.6321, D(x): 0.55, D(G(z)): 0.20\n",
            "Epoch [103/200], d_loss: 1.0310, g_loss: 1.3115, D(x): 0.61, D(G(z)): 0.28\n",
            "Epoch [104/200], d_loss: 1.0086, g_loss: 1.6311, D(x): 0.60, D(G(z)): 0.23\n",
            "Epoch [105/200], d_loss: 0.9890, g_loss: 1.4690, D(x): 0.60, D(G(z)): 0.27\n",
            "Epoch [106/200], d_loss: 0.9793, g_loss: 1.4536, D(x): 0.63, D(G(z)): 0.27\n",
            "Epoch [107/200], d_loss: 0.8751, g_loss: 1.2114, D(x): 0.80, D(G(z)): 0.39\n",
            "Epoch [108/200], d_loss: 1.0721, g_loss: 0.9853, D(x): 0.70, D(G(z)): 0.39\n",
            "Epoch [109/200], d_loss: 1.1567, g_loss: 1.5701, D(x): 0.70, D(G(z)): 0.41\n",
            "Epoch [110/200], d_loss: 0.9796, g_loss: 1.5102, D(x): 0.64, D(G(z)): 0.28\n",
            "Epoch [111/200], d_loss: 1.0458, g_loss: 1.2235, D(x): 0.75, D(G(z)): 0.41\n",
            "Epoch [112/200], d_loss: 0.8143, g_loss: 1.7248, D(x): 0.66, D(G(z)): 0.20\n",
            "Epoch [113/200], d_loss: 0.8908, g_loss: 1.3627, D(x): 0.68, D(G(z)): 0.31\n",
            "Epoch [114/200], d_loss: 1.1624, g_loss: 1.1178, D(x): 0.64, D(G(z)): 0.37\n",
            "Epoch [115/200], d_loss: 1.0481, g_loss: 1.2492, D(x): 0.65, D(G(z)): 0.36\n",
            "Epoch [116/200], d_loss: 0.9047, g_loss: 1.5964, D(x): 0.68, D(G(z)): 0.27\n",
            "Epoch [117/200], d_loss: 1.1831, g_loss: 1.4863, D(x): 0.65, D(G(z)): 0.36\n",
            "Epoch [118/200], d_loss: 0.9455, g_loss: 1.4518, D(x): 0.70, D(G(z)): 0.34\n",
            "Epoch [119/200], d_loss: 0.9424, g_loss: 1.4076, D(x): 0.64, D(G(z)): 0.29\n",
            "Epoch [120/200], d_loss: 0.9877, g_loss: 1.3672, D(x): 0.71, D(G(z)): 0.34\n",
            "Epoch [121/200], d_loss: 1.2360, g_loss: 1.3258, D(x): 0.58, D(G(z)): 0.33\n",
            "Epoch [122/200], d_loss: 1.1504, g_loss: 1.1377, D(x): 0.66, D(G(z)): 0.37\n",
            "Epoch [123/200], d_loss: 0.9588, g_loss: 1.1238, D(x): 0.75, D(G(z)): 0.36\n",
            "Epoch [124/200], d_loss: 0.8184, g_loss: 2.0623, D(x): 0.64, D(G(z)): 0.21\n",
            "Epoch [125/200], d_loss: 0.9339, g_loss: 1.5864, D(x): 0.64, D(G(z)): 0.27\n",
            "Epoch [126/200], d_loss: 1.2111, g_loss: 1.1194, D(x): 0.58, D(G(z)): 0.35\n",
            "Epoch [127/200], d_loss: 1.1038, g_loss: 1.2526, D(x): 0.66, D(G(z)): 0.36\n",
            "Epoch [128/200], d_loss: 1.2646, g_loss: 1.2188, D(x): 0.54, D(G(z)): 0.31\n",
            "Epoch [129/200], d_loss: 0.9032, g_loss: 1.4725, D(x): 0.64, D(G(z)): 0.26\n",
            "Epoch [130/200], d_loss: 0.7019, g_loss: 1.8684, D(x): 0.71, D(G(z)): 0.23\n",
            "Epoch [131/200], d_loss: 0.8440, g_loss: 1.3794, D(x): 0.70, D(G(z)): 0.30\n",
            "Epoch [132/200], d_loss: 1.0323, g_loss: 1.3523, D(x): 0.65, D(G(z)): 0.30\n",
            "Epoch [133/200], d_loss: 0.9848, g_loss: 1.1991, D(x): 0.70, D(G(z)): 0.37\n",
            "Epoch [134/200], d_loss: 0.8321, g_loss: 1.6260, D(x): 0.70, D(G(z)): 0.31\n",
            "Epoch [135/200], d_loss: 1.2349, g_loss: 1.2224, D(x): 0.54, D(G(z)): 0.33\n",
            "Epoch [136/200], d_loss: 1.0414, g_loss: 1.1730, D(x): 0.68, D(G(z)): 0.36\n",
            "Epoch [137/200], d_loss: 0.9614, g_loss: 1.2180, D(x): 0.72, D(G(z)): 0.36\n",
            "Epoch [138/200], d_loss: 0.8871, g_loss: 1.7887, D(x): 0.70, D(G(z)): 0.29\n",
            "Epoch [139/200], d_loss: 1.0508, g_loss: 1.5920, D(x): 0.58, D(G(z)): 0.25\n",
            "Epoch [140/200], d_loss: 0.9762, g_loss: 1.4666, D(x): 0.63, D(G(z)): 0.30\n",
            "Epoch [141/200], d_loss: 0.8159, g_loss: 1.5222, D(x): 0.78, D(G(z)): 0.32\n",
            "Epoch [142/200], d_loss: 1.0954, g_loss: 1.2822, D(x): 0.65, D(G(z)): 0.35\n",
            "Epoch [143/200], d_loss: 0.9447, g_loss: 1.2060, D(x): 0.69, D(G(z)): 0.32\n",
            "Epoch [144/200], d_loss: 0.9136, g_loss: 1.2519, D(x): 0.71, D(G(z)): 0.36\n",
            "Epoch [145/200], d_loss: 1.0083, g_loss: 0.9893, D(x): 0.71, D(G(z)): 0.39\n",
            "Epoch [146/200], d_loss: 1.0217, g_loss: 1.4881, D(x): 0.62, D(G(z)): 0.30\n",
            "Epoch [147/200], d_loss: 1.1761, g_loss: 0.9683, D(x): 0.66, D(G(z)): 0.44\n",
            "Epoch [148/200], d_loss: 0.9667, g_loss: 1.3341, D(x): 0.66, D(G(z)): 0.34\n",
            "Epoch [149/200], d_loss: 1.0459, g_loss: 1.5621, D(x): 0.59, D(G(z)): 0.27\n",
            "Epoch [150/200], d_loss: 0.9185, g_loss: 1.3622, D(x): 0.75, D(G(z)): 0.37\n",
            "Epoch [151/200], d_loss: 0.8377, g_loss: 1.4328, D(x): 0.74, D(G(z)): 0.31\n",
            "Epoch [152/200], d_loss: 1.0434, g_loss: 1.5966, D(x): 0.62, D(G(z)): 0.30\n",
            "Epoch [153/200], d_loss: 1.0065, g_loss: 1.2576, D(x): 0.63, D(G(z)): 0.31\n",
            "Epoch [154/200], d_loss: 1.1158, g_loss: 1.0066, D(x): 0.80, D(G(z)): 0.46\n",
            "Epoch [155/200], d_loss: 0.9174, g_loss: 1.4942, D(x): 0.66, D(G(z)): 0.27\n",
            "Epoch [156/200], d_loss: 0.9371, g_loss: 1.4856, D(x): 0.72, D(G(z)): 0.35\n",
            "Epoch [157/200], d_loss: 0.8130, g_loss: 1.6893, D(x): 0.75, D(G(z)): 0.28\n",
            "Epoch [158/200], d_loss: 0.8752, g_loss: 1.3777, D(x): 0.72, D(G(z)): 0.31\n",
            "Epoch [159/200], d_loss: 0.9773, g_loss: 1.1744, D(x): 0.69, D(G(z)): 0.34\n",
            "Epoch [160/200], d_loss: 1.0573, g_loss: 1.0285, D(x): 0.69, D(G(z)): 0.37\n",
            "Epoch [161/200], d_loss: 0.9379, g_loss: 1.3063, D(x): 0.75, D(G(z)): 0.36\n",
            "Epoch [162/200], d_loss: 0.9208, g_loss: 1.6843, D(x): 0.65, D(G(z)): 0.26\n",
            "Epoch [163/200], d_loss: 0.8469, g_loss: 1.6017, D(x): 0.69, D(G(z)): 0.26\n",
            "Epoch [164/200], d_loss: 0.9919, g_loss: 1.3477, D(x): 0.67, D(G(z)): 0.33\n",
            "Epoch [165/200], d_loss: 1.0130, g_loss: 1.6164, D(x): 0.61, D(G(z)): 0.28\n",
            "Epoch [166/200], d_loss: 0.9847, g_loss: 1.2020, D(x): 0.71, D(G(z)): 0.36\n",
            "Epoch [167/200], d_loss: 0.9069, g_loss: 1.6553, D(x): 0.66, D(G(z)): 0.25\n",
            "Epoch [168/200], d_loss: 1.0821, g_loss: 1.8110, D(x): 0.57, D(G(z)): 0.24\n",
            "Epoch [169/200], d_loss: 0.7017, g_loss: 1.8188, D(x): 0.76, D(G(z)): 0.25\n",
            "Epoch [170/200], d_loss: 0.9444, g_loss: 1.7138, D(x): 0.64, D(G(z)): 0.27\n",
            "Epoch [171/200], d_loss: 0.9513, g_loss: 2.0500, D(x): 0.60, D(G(z)): 0.21\n",
            "Epoch [172/200], d_loss: 0.9796, g_loss: 1.8069, D(x): 0.61, D(G(z)): 0.26\n",
            "Epoch [173/200], d_loss: 0.9172, g_loss: 1.6532, D(x): 0.77, D(G(z)): 0.37\n",
            "Epoch [174/200], d_loss: 0.9784, g_loss: 1.6475, D(x): 0.63, D(G(z)): 0.25\n",
            "Epoch [175/200], d_loss: 0.9133, g_loss: 1.7129, D(x): 0.64, D(G(z)): 0.24\n",
            "Epoch [176/200], d_loss: 0.7709, g_loss: 1.6370, D(x): 0.71, D(G(z)): 0.26\n",
            "Epoch [177/200], d_loss: 1.1692, g_loss: 1.4926, D(x): 0.56, D(G(z)): 0.28\n",
            "Epoch [178/200], d_loss: 0.9935, g_loss: 1.4154, D(x): 0.68, D(G(z)): 0.32\n",
            "Epoch [179/200], d_loss: 0.8307, g_loss: 2.1196, D(x): 0.67, D(G(z)): 0.20\n",
            "Epoch [180/200], d_loss: 0.7487, g_loss: 1.7652, D(x): 0.68, D(G(z)): 0.22\n",
            "Epoch [181/200], d_loss: 1.0305, g_loss: 1.4827, D(x): 0.65, D(G(z)): 0.31\n",
            "Epoch [182/200], d_loss: 0.9774, g_loss: 1.8822, D(x): 0.63, D(G(z)): 0.26\n",
            "Epoch [183/200], d_loss: 0.7871, g_loss: 1.7988, D(x): 0.72, D(G(z)): 0.26\n",
            "Epoch [184/200], d_loss: 0.9174, g_loss: 1.5556, D(x): 0.72, D(G(z)): 0.33\n",
            "Epoch [185/200], d_loss: 0.7356, g_loss: 1.6751, D(x): 0.75, D(G(z)): 0.27\n",
            "Epoch [186/200], d_loss: 0.7834, g_loss: 1.6022, D(x): 0.69, D(G(z)): 0.22\n",
            "Epoch [187/200], d_loss: 0.7885, g_loss: 1.5865, D(x): 0.75, D(G(z)): 0.29\n",
            "Epoch [188/200], d_loss: 0.8004, g_loss: 1.6442, D(x): 0.73, D(G(z)): 0.26\n",
            "Epoch [189/200], d_loss: 0.8081, g_loss: 1.7535, D(x): 0.77, D(G(z)): 0.31\n",
            "Epoch [190/200], d_loss: 0.8823, g_loss: 1.6129, D(x): 0.64, D(G(z)): 0.24\n",
            "Epoch [191/200], d_loss: 0.6611, g_loss: 1.8301, D(x): 0.77, D(G(z)): 0.24\n",
            "Epoch [192/200], d_loss: 0.8357, g_loss: 2.0527, D(x): 0.73, D(G(z)): 0.24\n",
            "Epoch [193/200], d_loss: 0.7252, g_loss: 1.6615, D(x): 0.75, D(G(z)): 0.24\n",
            "Epoch [194/200], d_loss: 0.6982, g_loss: 1.9593, D(x): 0.74, D(G(z)): 0.23\n",
            "Epoch [195/200], d_loss: 0.8903, g_loss: 1.6532, D(x): 0.70, D(G(z)): 0.27\n",
            "Epoch [196/200], d_loss: 0.9482, g_loss: 1.3239, D(x): 0.75, D(G(z)): 0.36\n",
            "Epoch [197/200], d_loss: 0.7628, g_loss: 1.5021, D(x): 0.75, D(G(z)): 0.30\n",
            "Epoch [198/200], d_loss: 0.8454, g_loss: 2.0061, D(x): 0.64, D(G(z)): 0.21\n",
            "Epoch [199/200], d_loss: 0.8385, g_loss: 1.8491, D(x): 0.67, D(G(z)): 0.23\n"
          ]
        }
      ]
    },
    {
      "cell_type": "code",
      "source": [
        "# 생성자가 만들어낸 fake_images 출력\n",
        "z = torch.randn(batch_size, noise_size).to(device)\n",
        "fake_images = G(z)\n",
        "for i in range(10):\n",
        "    fake_images_img = np.reshape(fake_images.data.cpu().numpy()[i],(28, 28))\n",
        "    plt.imshow(fake_images_img, cmap = 'gray')\n",
        "    plt.show()"
      ],
      "metadata": {
        "colab": {
          "base_uri": "https://localhost:8080/",
          "height": 1000
        },
        "id": "cSNUefmx8Vmg",
        "outputId": "a49ed3ff-6e41-449b-bc3f-152abe560f35"
      },
      "execution_count": 17,
      "outputs": [
        {
          "output_type": "display_data",
          "data": {
            "text/plain": [
              "<Figure size 432x288 with 1 Axes>"
            ],
            "image/png": "[encoded data removed]"
          },
          "metadata": {
            "needs_background": "light"
          }
        },
        {
          "output_type": "display_data",
          "data": {
            "text/plain": [
              "<Figure size 432x288 with 1 Axes>"
            ],
            "image/png": "[encoded data removed]"
          },
          "metadata": {
            "needs_background": "light"
          }
        },
        {
          "output_type": "display_data",
          "data": {
            "text/plain": [
              "<Figure size 432x288 with 1 Axes>"
            ],
            "image/png": "[encoded data removed]"
          },
          "metadata": {
            "needs_background": "light"
          }
        },
        {
          "output_type": "display_data",
          "data": {
            "text/plain": [
              "<Figure size 432x288 with 1 Axes>"
            ],
            "image/png": "[encoded data removed]"
          },
          "metadata": {
            "needs_background": "light"
          }
        },
        {
          "output_type": "display_data",
          "data": {
            "text/plain": [
              "<Figure size 432x288 with 1 Axes>"
            ],
            "image/png": "[encoded data removed]"
          },
          "metadata": {
            "needs_background": "light"
          }
        },
        {
          "output_type": "display_data",
          "data": {
            "text/plain": [
              "<Figure size 432x288 with 1 Axes>"
            ],
            "image/png": "[encoded data removed]"
          },
          "metadata": {
            "needs_background": "light"
          }
        },
        {
          "output_type": "display_data",
          "data": {
            "text/plain": [
              "<Figure size 432x288 with 1 Axes>"
            ],
            "image/png": "[encoded data removed]"
          },
          "metadata": {
            "needs_background": "light"
          }
        },
        {
          "output_type": "display_data",
          "data": {
            "text/plain": [
              "<Figure size 432x288 with 1 Axes>"
            ],
            "image/png": "[encoded data removed]"
          },
          "metadata": {
            "needs_background": "light"
          }
        },
        {
          "output_type": "display_data",
          "data": {
            "text/plain": [
              "<Figure size 432x288 with 1 Axes>"
            ],
            "image/png": "[encoded data removed]"
          },
          "metadata": {
            "needs_background": "light"
          }
        },
        {
          "output_type": "display_data",
          "data": {
            "text/plain": [
              "<Figure size 432x288 with 1 Axes>"
            ],
            "image/png": "[encoded data removed]"
          },
          "metadata": {
            "needs_background": "light"
          }
        }
      ]
    }
  ]
}