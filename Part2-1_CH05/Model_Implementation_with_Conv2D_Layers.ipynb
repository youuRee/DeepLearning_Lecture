{
 "cells": [
  {
   "cell_type": "markdown",
   "metadata": {
    "id": "mK28kLzvKx2K"
   },
   "source": [
    "### Models with Sequential Method"
   ]
  },
  {
   "cell_type": "code",
   "execution_count": 15,
   "metadata": {
    "id": "Hz7NhcEub4Np"
   },
   "outputs": [
    {
     "name": "stdout",
     "output_type": "stream",
     "text": [
      "(3, 3, 3, 10) (10,)\n",
      "(3, 3, 10, 20) (20,)\n",
      "(3, 3, 20, 30) (30,)\n",
      "====\n",
      "(3, 3, 3, 10)\n",
      "(10,)\n",
      "(3, 3, 10, 20)\n",
      "(20,)\n",
      "(3, 3, 20, 30)\n",
      "(30,)\n"
     ]
    }
   ],
   "source": [
    "import tensorflow as tf\n",
    "\n",
    "from tensorflow.keras.models import Sequential\n",
    "from tensorflow.keras.layers import Conv2D\n",
    "\n",
    "n_neurons = [10, 20, 30]\n",
    "\n",
    "model = Sequential()\n",
    "model.add(Conv2D(filters=n_neurons[0], kernel_size=3, activation='relu'))\n",
    "model.add(Conv2D(filters=n_neurons[1], kernel_size =3, activation='relu'))\n",
    "model.add(Conv2D(filters=n_neurons[2], kernel_size =3, activation='relu'))\n",
    "\n",
    "x = tf.random.normal(shape=(32, 28, 298, 3))\n",
    "predictions = model(x)\n",
    "\n",
    "# print(\"Input: {}\".format(x.shape))\n",
    "# print(\"Output: {}”.format(predictions.shape))\n",
    "\n",
    "for layer in model.layers:\n",
    "    W, B= layer.get_weights()\n",
    "    print(W.shape, B.shape)\n",
    "\n",
    "print('====')\n",
    "\n",
    "trainable_variables = model.trainable_variables\n",
    "for train_var in trainable_variables:\n",
    "    print(train_var.shape)"
   ]
  },
  {
   "cell_type": "markdown",
   "metadata": {
    "id": "CqG-1b1VKyKZ"
   },
   "source": [
    "### Models with Model Sub-classing"
   ]
  },
  {
   "cell_type": "code",
   "execution_count": 23,
   "metadata": {
    "id": "prbiiWr7KybR"
   },
   "outputs": [
    {
     "name": "stdout",
     "output_type": "stream",
     "text": [
      "Input: (32, 28, 28, 3)\n",
      "\n",
      "===== Conv Layer =====\n",
      "\n",
      "W/B: (3, 3, 3, 10)/(10,)\n",
      "X: (32, 26, 26, 10)\n",
      "W/B: (3, 3, 10, 20)/(20,)\n",
      "X: (32, 24, 24, 20)\n",
      "W/B: (3, 3, 20, 30)/(30,)\n",
      "X: (32, 22, 22, 30)\n",
      "\n",
      "Input: (32, 28, 28, 3)\n",
      "Output: (32, 22, 22, 30)\n"
     ]
    }
   ],
   "source": [
    "import tensorflow as tf\n",
    "\n",
    "from tensorflow.keras.models import Model\n",
    "from tensorflow.keras.layers import Conv2D\n",
    "\n",
    "n_neurons = [10, 20, 30]\n",
    "\n",
    "class TestModel (Model):\n",
    "      def __init__ (self):\n",
    "            super(TestModel, self).__init__ ()\n",
    "            global n_neurons\n",
    "\n",
    "            self.conv_layers = []\n",
    "            for n_neuron in n_neurons:\n",
    "                  self.conv_layers.append(Conv2D(filters=n_neuron, kernel_size=3, activation='relu'))\n",
    "      def call(self, x):\n",
    "        print(\"Input: {}\".format(x.shape))\n",
    "        print(\"\\n===== Conv Layer =====\\n\")\n",
    "        for conv_layer in self.conv_layers:\n",
    "            x = conv_layer(x)\n",
    "            W, B = conv_layer.get_weights()\n",
    "            print(\"W/B: {}/{}\".format(W.shape, B.shape))\n",
    "            print(\"X: {}\".format(x.shape))\n",
    "        return x\n",
    "\n",
    "model = TestModel()\n",
    "x = tf.random.normal(shape=(32, 28, 28, 3))\n",
    "predictions = model(x)\n",
    "\n",
    "print(\"\\nInput: {}\".format(x.shape))\n",
    "print(\"Output: {}\".format(predictions.shape))\n",
    "\n"
   ]
  }
 ],
 "metadata": {
  "colab": {
   "authorship_tag": "ABX9TyOnZ9scT+44qXQEbuUxyu3c",
   "collapsed_sections": [],
   "name": "CH05_06. [구현강의]_Model_Implementation_with_Conv2D_Layers.ipynb",
   "provenance": []
  },
  "kernelspec": {
   "display_name": "Python 3 (ipykernel)",
   "language": "python",
   "name": "python3"
  },
  "language_info": {
   "codemirror_mode": {
    "name": "ipython",
    "version": 3
   },
   "file_extension": ".py",
   "mimetype": "text/x-python",
   "name": "python",
   "nbconvert_exporter": "python",
   "pygments_lexer": "ipython3",
   "version": "3.9.7"
  }
 },
 "nbformat": 4,
 "nbformat_minor": 1
}
