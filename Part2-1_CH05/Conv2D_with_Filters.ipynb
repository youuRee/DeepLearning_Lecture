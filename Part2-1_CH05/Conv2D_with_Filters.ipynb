{
 "cells": [
  {
   "cell_type": "markdown",
   "metadata": {
    "id": "gQRDSAzTG0AP"
   },
   "source": [
    "### Shapes woth Filters"
   ]
  },
  {
   "cell_type": "code",
   "execution_count": 12,
   "metadata": {
    "id": "T_qKSrPsGqCz"
   },
   "outputs": [
    {
     "name": "stdout",
     "output_type": "stream",
     "text": [
      "Input Image: (32, 28, 26, 3)\n",
      "W/B: (3, 3, 3, 5) / (5,)\n",
      "Output Image: (32, 26, 24, 5)\n"
     ]
    }
   ],
   "source": [
    "import tensorflow as tf\n",
    "\n",
    "from tensorflow.keras.layers import Conv2D\n",
    "\n",
    "N, n_H, n_W, n_C = 32, 28, 26, 3\n",
    "n_filter = 5\n",
    "k_size = 3\n",
    "\n",
    "images = tf.random.uniform(minval=0, maxval=1,\n",
    "                            shape=(N, n_H, n_W, n_C))\n",
    "\n",
    "conv = Conv2D(filters=n_filter, kernel_size=k_size)\n",
    "\n",
    "Y = conv(images)\n",
    "\n",
    "W,B = conv.get_weights()\n",
    "\n",
    "print(\"Input Image: {}\".format(images.shape))\n",
    "print(\"W/B: {} / {}\".format(W.shape, B.shape))\n",
    "print(\"Output Image: {}\".format(Y.shape))"
   ]
  },
  {
   "cell_type": "markdown",
   "metadata": {
    "id": "P6HiSw9xGq3E"
   },
   "source": [
    "# Computation with Filters"
   ]
  },
  {
   "cell_type": "markdown",
   "metadata": {},
   "source": [
    "Y = conv(images)  \n",
    "Y(Tensorflow): Y.numpy()  \n",
    "=> shape: (1, 2, 2, 3) = 2x2 (row,cols) 이미지의 3개의 요소(R, G, B)  \n",
    "=> row가 위에 있는 행렬"
   ]
  },
  {
   "cell_type": "code",
   "execution_count": 16,
   "metadata": {
    "id": "VxwnRb3EGzhh"
   },
   "outputs": [
    {
     "name": "stdout",
     "output_type": "stream",
     "text": [
      "Y(Tensorflow): \n",
      " [[[ 0.6881267   0.72664636]\n",
      "  [ 0.32433972  0.77794385]]\n",
      "\n",
      " [[-0.6957755  -0.85192794]\n",
      "  [-0.8024278  -1.3178432 ]]\n",
      "\n",
      " [[-0.14701244  0.01147318]\n",
      "  [ 0.17515545  0.43173367]]]\n"
     ]
    }
   ],
   "source": [
    "import numpy as np\n",
    "import tensorflow as tf\n",
    "\n",
    "from tensorflow.keras.layers import Conv2D\n",
    "\n",
    "N, n_H, n_W, nc = 1, 5, 5, 3\n",
    "n_filter = 3\n",
    "k_size = 4\n",
    "images = tf.random.uniform(minval=0, maxval=1,\n",
    "                          shape=(N, n_H, n_W, n_C))\n",
    "\n",
    "# Forward Propagation(Tensorflow)\n",
    "conv = Conv2D(filters=n_filter, kernel_size=k_size)\n",
    "Y = conv(images)\n",
    "Y = np.transpose(Y.numpy().squeeze(), (2, 0, 1))\n",
    "print(\"Y(Tensorflow): \\n\", Y)"
   ]
  },
  {
   "cell_type": "markdown",
   "metadata": {
    "id": "1L9mIrFpG05D"
   },
   "source": [
    "### Conv Layers with Activation Functions"
   ]
  },
  {
   "cell_type": "code",
   "execution_count": 21,
   "metadata": {
    "id": "yctqINpIG1M0"
   },
   "outputs": [
    {
     "name": "stdout",
     "output_type": "stream",
     "text": [
      "Y(Tensorflow):\n",
      " [[[0.5673084  0.40961263]\n",
      "  [0.6415513  0.38765982]]\n",
      "\n",
      " [[0.6091399  0.7300606 ]\n",
      "  [0.6089905  0.5614381 ]]\n",
      "\n",
      " [[0.58337426 0.7221749 ]\n",
      "  [0.4651717  0.6130379 ]]]\n",
      "Y(Manual) :\n",
      " [[[0.56730845 0.40961262]\n",
      "  [0.64155131 0.3876598 ]]\n",
      "\n",
      " [[0.60913996 0.73006057]\n",
      "  [0.60899047 0.56143811]]\n",
      "\n",
      " [[0.58337436 0.7221749 ]\n",
      "  [0.46517166 0.61303783]]]\n"
     ]
    }
   ],
   "source": [
    "import numpy as np\n",
    "import tensorflow as tf\n",
    "\n",
    "from tensorflow.keras.layers import Conv2D\n",
    "\n",
    "N, n_H, n_W, nc = 1, 5, 5, 3\n",
    "n_filter = 3\n",
    "k_size = 4\n",
    "image = tf.random.uniform(minval=0, maxval=1,\n",
    "                          shape=(N, n_H, n_W, n_C))\n",
    "\n",
    "# Forward Propagation(Tensorflow)\n",
    "conv = Conv2D(filters=n_filter, kernel_size=k_size, activation = 'sigmoid')\n",
    "Y = conv(image)\n",
    "Y  = np.transpose(Y.numpy().squeeze(),(2,0,1))\n",
    "print(\"Y(Tensorflow):\\n\",Y)\n",
    "\n",
    "#Forward Propagation(Manual)\n",
    "W, B = conv.get_weights()\n",
    "image = image.numpy().squeeze()\n",
    "\n",
    "Y_man = np.zeros(shape=(n_H - k_size + 1, n_W - k_size + 1, n_filter))\n",
    "for c in range(n_filter):\n",
    "      c_W=W[:,:,:,c]\n",
    "      c_b = B[c]\n",
    "      for h in range(n_H - k_size + 1):\n",
    "          for j in range(n_W - k_size + 1):\n",
    "            window = image[h:h+k_size, j:j+k_size, :]\n",
    "            conv = np.sum(window*c_W) + c_b\n",
    "            conv = 1/(1 +np.exp(-conv))\n",
    "\n",
    "            Y_man[h,j,c] = conv\n",
    "print(\"Y(Manual) :\\n\",np.transpose(Y_man,(2,0,1)))"
   ]
  }
 ],
 "metadata": {
  "colab": {
   "authorship_tag": "ABX9TyONbWRzvgV3W4PRfoumrsRD",
   "collapsed_sections": [],
   "name": "CH05_05. [구현강의]_Conv2D_with_Filters",
   "provenance": []
  },
  "kernelspec": {
   "display_name": "Python 3 (ipykernel)",
   "language": "python",
   "name": "python3"
  },
  "language_info": {
   "codemirror_mode": {
    "name": "ipython",
    "version": 3
   },
   "file_extension": ".py",
   "mimetype": "text/x-python",
   "name": "python",
   "nbconvert_exporter": "python",
   "pygments_lexer": "ipython3",
   "version": "3.9.7"
  }
 },
 "nbformat": 4,
 "nbformat_minor": 1
}
