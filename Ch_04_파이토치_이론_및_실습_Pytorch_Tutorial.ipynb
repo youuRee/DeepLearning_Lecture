{
  "nbformat": 4,
  "nbformat_minor": 0,
  "metadata": {
    "colab": {
      "name": "Ch 04. 파이토치 이론 및 실습_Pytorch_Tutorial.ipynb",
      "provenance": [],
      "collapsed_sections": [],
      "toc_visible": true,
      "include_colab_link": true
    },
    "kernelspec": {
      "name": "python3",
      "display_name": "Python 3"
    },
    "language_info": {
      "name": "python"
    },
    "accelerator": "GPU",
    "widgets": {
      "application/vnd.jupyter.widget-state+json": {
        "b07a886e607c472e86f2244754f5a054": {
          "model_module": "@jupyter-widgets/controls",
          "model_name": "HBoxModel",
          "model_module_version": "1.5.0",
          "state": {
            "_dom_classes": [],
            "_model_module": "@jupyter-widgets/controls",
            "_model_module_version": "1.5.0",
            "_model_name": "HBoxModel",
            "_view_count": null,
            "_view_module": "@jupyter-widgets/controls",
            "_view_module_version": "1.5.0",
            "_view_name": "HBoxView",
            "box_style": "",
            "children": [
              "IPY_MODEL_dcbc847b5e5f4af2b4f6229452aabd2f",
              "IPY_MODEL_1227780dfaa04544b343ee3bad9a4f58",
              "IPY_MODEL_1f4adfe650a844cdad4033744f7f1f2e"
            ],
            "layout": "IPY_MODEL_d639006ce2d140a2bb6ec5899f34efd6"
          }
        },
        "dcbc847b5e5f4af2b4f6229452aabd2f": {
          "model_module": "@jupyter-widgets/controls",
          "model_name": "HTMLModel",
          "model_module_version": "1.5.0",
          "state": {
            "_dom_classes": [],
            "_model_module": "@jupyter-widgets/controls",
            "_model_module_version": "1.5.0",
            "_model_name": "HTMLModel",
            "_view_count": null,
            "_view_module": "@jupyter-widgets/controls",
            "_view_module_version": "1.5.0",
            "_view_name": "HTMLView",
            "description": "",
            "description_tooltip": null,
            "layout": "IPY_MODEL_3e774a03c17a4f4088ca4029b8ce3472",
            "placeholder": "​",
            "style": "IPY_MODEL_c6e33c88eddc41c28c9c63633841972e",
            "value": ""
          }
        },
        "1227780dfaa04544b343ee3bad9a4f58": {
          "model_module": "@jupyter-widgets/controls",
          "model_name": "FloatProgressModel",
          "model_module_version": "1.5.0",
          "state": {
            "_dom_classes": [],
            "_model_module": "@jupyter-widgets/controls",
            "_model_module_version": "1.5.0",
            "_model_name": "FloatProgressModel",
            "_view_count": null,
            "_view_module": "@jupyter-widgets/controls",
            "_view_module_version": "1.5.0",
            "_view_name": "ProgressView",
            "bar_style": "success",
            "description": "",
            "description_tooltip": null,
            "layout": "IPY_MODEL_431af3109d4146879f2b492a0b0b40de",
            "max": 26421880,
            "min": 0,
            "orientation": "horizontal",
            "style": "IPY_MODEL_913f8cbdbd6c4f668119b2c5e9330dad",
            "value": 26421880
          }
        },
        "1f4adfe650a844cdad4033744f7f1f2e": {
          "model_module": "@jupyter-widgets/controls",
          "model_name": "HTMLModel",
          "model_module_version": "1.5.0",
          "state": {
            "_dom_classes": [],
            "_model_module": "@jupyter-widgets/controls",
            "_model_module_version": "1.5.0",
            "_model_name": "HTMLModel",
            "_view_count": null,
            "_view_module": "@jupyter-widgets/controls",
            "_view_module_version": "1.5.0",
            "_view_name": "HTMLView",
            "description": "",
            "description_tooltip": null,
            "layout": "IPY_MODEL_ffe751003dc54a19bbedcf6251570b3b",
            "placeholder": "​",
            "style": "IPY_MODEL_2b3537a8b39d4fa4b65f591a02c2b96d",
            "value": " 26422272/? [00:03&lt;00:00, 12818178.78it/s]"
          }
        },
        "d639006ce2d140a2bb6ec5899f34efd6": {
          "model_module": "@jupyter-widgets/base",
          "model_name": "LayoutModel",
          "model_module_version": "1.2.0",
          "state": {
            "_model_module": "@jupyter-widgets/base",
            "_model_module_version": "1.2.0",
            "_model_name": "LayoutModel",
            "_view_count": null,
            "_view_module": "@jupyter-widgets/base",
            "_view_module_version": "1.2.0",
            "_view_name": "LayoutView",
            "align_content": null,
            "align_items": null,
            "align_self": null,
            "border": null,
            "bottom": null,
            "display": null,
            "flex": null,
            "flex_flow": null,
            "grid_area": null,
            "grid_auto_columns": null,
            "grid_auto_flow": null,
            "grid_auto_rows": null,
            "grid_column": null,
            "grid_gap": null,
            "grid_row": null,
            "grid_template_areas": null,
            "grid_template_columns": null,
            "grid_template_rows": null,
            "height": null,
            "justify_content": null,
            "justify_items": null,
            "left": null,
            "margin": null,
            "max_height": null,
            "max_width": null,
            "min_height": null,
            "min_width": null,
            "object_fit": null,
            "object_position": null,
            "order": null,
            "overflow": null,
            "overflow_x": null,
            "overflow_y": null,
            "padding": null,
            "right": null,
            "top": null,
            "visibility": null,
            "width": null
          }
        },
        "3e774a03c17a4f4088ca4029b8ce3472": {
          "model_module": "@jupyter-widgets/base",
          "model_name": "LayoutModel",
          "model_module_version": "1.2.0",
          "state": {
            "_model_module": "@jupyter-widgets/base",
            "_model_module_version": "1.2.0",
            "_model_name": "LayoutModel",
            "_view_count": null,
            "_view_module": "@jupyter-widgets/base",
            "_view_module_version": "1.2.0",
            "_view_name": "LayoutView",
            "align_content": null,
            "align_items": null,
            "align_self": null,
            "border": null,
            "bottom": null,
            "display": null,
            "flex": null,
            "flex_flow": null,
            "grid_area": null,
            "grid_auto_columns": null,
            "grid_auto_flow": null,
            "grid_auto_rows": null,
            "grid_column": null,
            "grid_gap": null,
            "grid_row": null,
            "grid_template_areas": null,
            "grid_template_columns": null,
            "grid_template_rows": null,
            "height": null,
            "justify_content": null,
            "justify_items": null,
            "left": null,
            "margin": null,
            "max_height": null,
            "max_width": null,
            "min_height": null,
            "min_width": null,
            "object_fit": null,
            "object_position": null,
            "order": null,
            "overflow": null,
            "overflow_x": null,
            "overflow_y": null,
            "padding": null,
            "right": null,
            "top": null,
            "visibility": null,
            "width": null
          }
        },
        "c6e33c88eddc41c28c9c63633841972e": {
          "model_module": "@jupyter-widgets/controls",
          "model_name": "DescriptionStyleModel",
          "model_module_version": "1.5.0",
          "state": {
            "_model_module": "@jupyter-widgets/controls",
            "_model_module_version": "1.5.0",
            "_model_name": "DescriptionStyleModel",
            "_view_count": null,
            "_view_module": "@jupyter-widgets/base",
            "_view_module_version": "1.2.0",
            "_view_name": "StyleView",
            "description_width": ""
          }
        },
        "431af3109d4146879f2b492a0b0b40de": {
          "model_module": "@jupyter-widgets/base",
          "model_name": "LayoutModel",
          "model_module_version": "1.2.0",
          "state": {
            "_model_module": "@jupyter-widgets/base",
            "_model_module_version": "1.2.0",
            "_model_name": "LayoutModel",
            "_view_count": null,
            "_view_module": "@jupyter-widgets/base",
            "_view_module_version": "1.2.0",
            "_view_name": "LayoutView",
            "align_content": null,
            "align_items": null,
            "align_self": null,
            "border": null,
            "bottom": null,
            "display": null,
            "flex": null,
            "flex_flow": null,
            "grid_area": null,
            "grid_auto_columns": null,
            "grid_auto_flow": null,
            "grid_auto_rows": null,
            "grid_column": null,
            "grid_gap": null,
            "grid_row": null,
            "grid_template_areas": null,
            "grid_template_columns": null,
            "grid_template_rows": null,
            "height": null,
            "justify_content": null,
            "justify_items": null,
            "left": null,
            "margin": null,
            "max_height": null,
            "max_width": null,
            "min_height": null,
            "min_width": null,
            "object_fit": null,
            "object_position": null,
            "order": null,
            "overflow": null,
            "overflow_x": null,
            "overflow_y": null,
            "padding": null,
            "right": null,
            "top": null,
            "visibility": null,
            "width": null
          }
        },
        "913f8cbdbd6c4f668119b2c5e9330dad": {
          "model_module": "@jupyter-widgets/controls",
          "model_name": "ProgressStyleModel",
          "model_module_version": "1.5.0",
          "state": {
            "_model_module": "@jupyter-widgets/controls",
            "_model_module_version": "1.5.0",
            "_model_name": "ProgressStyleModel",
            "_view_count": null,
            "_view_module": "@jupyter-widgets/base",
            "_view_module_version": "1.2.0",
            "_view_name": "StyleView",
            "bar_color": null,
            "description_width": ""
          }
        },
        "ffe751003dc54a19bbedcf6251570b3b": {
          "model_module": "@jupyter-widgets/base",
          "model_name": "LayoutModel",
          "model_module_version": "1.2.0",
          "state": {
            "_model_module": "@jupyter-widgets/base",
            "_model_module_version": "1.2.0",
            "_model_name": "LayoutModel",
            "_view_count": null,
            "_view_module": "@jupyter-widgets/base",
            "_view_module_version": "1.2.0",
            "_view_name": "LayoutView",
            "align_content": null,
            "align_items": null,
            "align_self": null,
            "border": null,
            "bottom": null,
            "display": null,
            "flex": null,
            "flex_flow": null,
            "grid_area": null,
            "grid_auto_columns": null,
            "grid_auto_flow": null,
            "grid_auto_rows": null,
            "grid_column": null,
            "grid_gap": null,
            "grid_row": null,
            "grid_template_areas": null,
            "grid_template_columns": null,
            "grid_template_rows": null,
            "height": null,
            "justify_content": null,
            "justify_items": null,
            "left": null,
            "margin": null,
            "max_height": null,
            "max_width": null,
            "min_height": null,
            "min_width": null,
            "object_fit": null,
            "object_position": null,
            "order": null,
            "overflow": null,
            "overflow_x": null,
            "overflow_y": null,
            "padding": null,
            "right": null,
            "top": null,
            "visibility": null,
            "width": null
          }
        },
        "2b3537a8b39d4fa4b65f591a02c2b96d": {
          "model_module": "@jupyter-widgets/controls",
          "model_name": "DescriptionStyleModel",
          "model_module_version": "1.5.0",
          "state": {
            "_model_module": "@jupyter-widgets/controls",
            "_model_module_version": "1.5.0",
            "_model_name": "DescriptionStyleModel",
            "_view_count": null,
            "_view_module": "@jupyter-widgets/base",
            "_view_module_version": "1.2.0",
            "_view_name": "StyleView",
            "description_width": ""
          }
        },
        "0fbaff4958a349dba8eebb6a768ab8fb": {
          "model_module": "@jupyter-widgets/controls",
          "model_name": "HBoxModel",
          "model_module_version": "1.5.0",
          "state": {
            "_dom_classes": [],
            "_model_module": "@jupyter-widgets/controls",
            "_model_module_version": "1.5.0",
            "_model_name": "HBoxModel",
            "_view_count": null,
            "_view_module": "@jupyter-widgets/controls",
            "_view_module_version": "1.5.0",
            "_view_name": "HBoxView",
            "box_style": "",
            "children": [
              "IPY_MODEL_028c022bb4454f85a105dbcfbc4e0901",
              "IPY_MODEL_fd9690cc64194d39ae86a251261004c3",
              "IPY_MODEL_f0a6c823f8664b708fbedbb7dde0e6ff"
            ],
            "layout": "IPY_MODEL_21efb6475e594bd184fcafe8729b5f54"
          }
        },
        "028c022bb4454f85a105dbcfbc4e0901": {
          "model_module": "@jupyter-widgets/controls",
          "model_name": "HTMLModel",
          "model_module_version": "1.5.0",
          "state": {
            "_dom_classes": [],
            "_model_module": "@jupyter-widgets/controls",
            "_model_module_version": "1.5.0",
            "_model_name": "HTMLModel",
            "_view_count": null,
            "_view_module": "@jupyter-widgets/controls",
            "_view_module_version": "1.5.0",
            "_view_name": "HTMLView",
            "description": "",
            "description_tooltip": null,
            "layout": "IPY_MODEL_bb1ddf7b43af44ba96fa35682ae8acf7",
            "placeholder": "​",
            "style": "IPY_MODEL_cec4fbea6efd4f7b9c9b4372a3ce2907",
            "value": ""
          }
        },
        "fd9690cc64194d39ae86a251261004c3": {
          "model_module": "@jupyter-widgets/controls",
          "model_name": "FloatProgressModel",
          "model_module_version": "1.5.0",
          "state": {
            "_dom_classes": [],
            "_model_module": "@jupyter-widgets/controls",
            "_model_module_version": "1.5.0",
            "_model_name": "FloatProgressModel",
            "_view_count": null,
            "_view_module": "@jupyter-widgets/controls",
            "_view_module_version": "1.5.0",
            "_view_name": "ProgressView",
            "bar_style": "success",
            "description": "",
            "description_tooltip": null,
            "layout": "IPY_MODEL_2897ffba76514cac9c26a7b2377ea662",
            "max": 29515,
            "min": 0,
            "orientation": "horizontal",
            "style": "IPY_MODEL_a8924b42f48c4112a78eb9b0b7e9db8e",
            "value": 29515
          }
        },
        "f0a6c823f8664b708fbedbb7dde0e6ff": {
          "model_module": "@jupyter-widgets/controls",
          "model_name": "HTMLModel",
          "model_module_version": "1.5.0",
          "state": {
            "_dom_classes": [],
            "_model_module": "@jupyter-widgets/controls",
            "_model_module_version": "1.5.0",
            "_model_name": "HTMLModel",
            "_view_count": null,
            "_view_module": "@jupyter-widgets/controls",
            "_view_module_version": "1.5.0",
            "_view_name": "HTMLView",
            "description": "",
            "description_tooltip": null,
            "layout": "IPY_MODEL_d755e7f39ca843f2aac43d1d4e9aa305",
            "placeholder": "​",
            "style": "IPY_MODEL_bbaa11d7afca4ccea5b8673d82306a03",
            "value": " 29696/? [00:00&lt;00:00, 71657.94it/s]"
          }
        },
        "21efb6475e594bd184fcafe8729b5f54": {
          "model_module": "@jupyter-widgets/base",
          "model_name": "LayoutModel",
          "model_module_version": "1.2.0",
          "state": {
            "_model_module": "@jupyter-widgets/base",
            "_model_module_version": "1.2.0",
            "_model_name": "LayoutModel",
            "_view_count": null,
            "_view_module": "@jupyter-widgets/base",
            "_view_module_version": "1.2.0",
            "_view_name": "LayoutView",
            "align_content": null,
            "align_items": null,
            "align_self": null,
            "border": null,
            "bottom": null,
            "display": null,
            "flex": null,
            "flex_flow": null,
            "grid_area": null,
            "grid_auto_columns": null,
            "grid_auto_flow": null,
            "grid_auto_rows": null,
            "grid_column": null,
            "grid_gap": null,
            "grid_row": null,
            "grid_template_areas": null,
            "grid_template_columns": null,
            "grid_template_rows": null,
            "height": null,
            "justify_content": null,
            "justify_items": null,
            "left": null,
            "margin": null,
            "max_height": null,
            "max_width": null,
            "min_height": null,
            "min_width": null,
            "object_fit": null,
            "object_position": null,
            "order": null,
            "overflow": null,
            "overflow_x": null,
            "overflow_y": null,
            "padding": null,
            "right": null,
            "top": null,
            "visibility": null,
            "width": null
          }
        },
        "bb1ddf7b43af44ba96fa35682ae8acf7": {
          "model_module": "@jupyter-widgets/base",
          "model_name": "LayoutModel",
          "model_module_version": "1.2.0",
          "state": {
            "_model_module": "@jupyter-widgets/base",
            "_model_module_version": "1.2.0",
            "_model_name": "LayoutModel",
            "_view_count": null,
            "_view_module": "@jupyter-widgets/base",
            "_view_module_version": "1.2.0",
            "_view_name": "LayoutView",
            "align_content": null,
            "align_items": null,
            "align_self": null,
            "border": null,
            "bottom": null,
            "display": null,
            "flex": null,
            "flex_flow": null,
            "grid_area": null,
            "grid_auto_columns": null,
            "grid_auto_flow": null,
            "grid_auto_rows": null,
            "grid_column": null,
            "grid_gap": null,
            "grid_row": null,
            "grid_template_areas": null,
            "grid_template_columns": null,
            "grid_template_rows": null,
            "height": null,
            "justify_content": null,
            "justify_items": null,
            "left": null,
            "margin": null,
            "max_height": null,
            "max_width": null,
            "min_height": null,
            "min_width": null,
            "object_fit": null,
            "object_position": null,
            "order": null,
            "overflow": null,
            "overflow_x": null,
            "overflow_y": null,
            "padding": null,
            "right": null,
            "top": null,
            "visibility": null,
            "width": null
          }
        },
        "cec4fbea6efd4f7b9c9b4372a3ce2907": {
          "model_module": "@jupyter-widgets/controls",
          "model_name": "DescriptionStyleModel",
          "model_module_version": "1.5.0",
          "state": {
            "_model_module": "@jupyter-widgets/controls",
            "_model_module_version": "1.5.0",
            "_model_name": "DescriptionStyleModel",
            "_view_count": null,
            "_view_module": "@jupyter-widgets/base",
            "_view_module_version": "1.2.0",
            "_view_name": "StyleView",
            "description_width": ""
          }
        },
        "2897ffba76514cac9c26a7b2377ea662": {
          "model_module": "@jupyter-widgets/base",
          "model_name": "LayoutModel",
          "model_module_version": "1.2.0",
          "state": {
            "_model_module": "@jupyter-widgets/base",
            "_model_module_version": "1.2.0",
            "_model_name": "LayoutModel",
            "_view_count": null,
            "_view_module": "@jupyter-widgets/base",
            "_view_module_version": "1.2.0",
            "_view_name": "LayoutView",
            "align_content": null,
            "align_items": null,
            "align_self": null,
            "border": null,
            "bottom": null,
            "display": null,
            "flex": null,
            "flex_flow": null,
            "grid_area": null,
            "grid_auto_columns": null,
            "grid_auto_flow": null,
            "grid_auto_rows": null,
            "grid_column": null,
            "grid_gap": null,
            "grid_row": null,
            "grid_template_areas": null,
            "grid_template_columns": null,
            "grid_template_rows": null,
            "height": null,
            "justify_content": null,
            "justify_items": null,
            "left": null,
            "margin": null,
            "max_height": null,
            "max_width": null,
            "min_height": null,
            "min_width": null,
            "object_fit": null,
            "object_position": null,
            "order": null,
            "overflow": null,
            "overflow_x": null,
            "overflow_y": null,
            "padding": null,
            "right": null,
            "top": null,
            "visibility": null,
            "width": null
          }
        },
        "a8924b42f48c4112a78eb9b0b7e9db8e": {
          "model_module": "@jupyter-widgets/controls",
          "model_name": "ProgressStyleModel",
          "model_module_version": "1.5.0",
          "state": {
            "_model_module": "@jupyter-widgets/controls",
            "_model_module_version": "1.5.0",
            "_model_name": "ProgressStyleModel",
            "_view_count": null,
            "_view_module": "@jupyter-widgets/base",
            "_view_module_version": "1.2.0",
            "_view_name": "StyleView",
            "bar_color": null,
            "description_width": ""
          }
        },
        "d755e7f39ca843f2aac43d1d4e9aa305": {
          "model_module": "@jupyter-widgets/base",
          "model_name": "LayoutModel",
          "model_module_version": "1.2.0",
          "state": {
            "_model_module": "@jupyter-widgets/base",
            "_model_module_version": "1.2.0",
            "_model_name": "LayoutModel",
            "_view_count": null,
            "_view_module": "@jupyter-widgets/base",
            "_view_module_version": "1.2.0",
            "_view_name": "LayoutView",
            "align_content": null,
            "align_items": null,
            "align_self": null,
            "border": null,
            "bottom": null,
            "display": null,
            "flex": null,
            "flex_flow": null,
            "grid_area": null,
            "grid_auto_columns": null,
            "grid_auto_flow": null,
            "grid_auto_rows": null,
            "grid_column": null,
            "grid_gap": null,
            "grid_row": null,
            "grid_template_areas": null,
            "grid_template_columns": null,
            "grid_template_rows": null,
            "height": null,
            "justify_content": null,
            "justify_items": null,
            "left": null,
            "margin": null,
            "max_height": null,
            "max_width": null,
            "min_height": null,
            "min_width": null,
            "object_fit": null,
            "object_position": null,
            "order": null,
            "overflow": null,
            "overflow_x": null,
            "overflow_y": null,
            "padding": null,
            "right": null,
            "top": null,
            "visibility": null,
            "width": null
          }
        },
        "bbaa11d7afca4ccea5b8673d82306a03": {
          "model_module": "@jupyter-widgets/controls",
          "model_name": "DescriptionStyleModel",
          "model_module_version": "1.5.0",
          "state": {
            "_model_module": "@jupyter-widgets/controls",
            "_model_module_version": "1.5.0",
            "_model_name": "DescriptionStyleModel",
            "_view_count": null,
            "_view_module": "@jupyter-widgets/base",
            "_view_module_version": "1.2.0",
            "_view_name": "StyleView",
            "description_width": ""
          }
        },
        "ec3869c9c4f64f14816695e45ffcdd5d": {
          "model_module": "@jupyter-widgets/controls",
          "model_name": "HBoxModel",
          "model_module_version": "1.5.0",
          "state": {
            "_dom_classes": [],
            "_model_module": "@jupyter-widgets/controls",
            "_model_module_version": "1.5.0",
            "_model_name": "HBoxModel",
            "_view_count": null,
            "_view_module": "@jupyter-widgets/controls",
            "_view_module_version": "1.5.0",
            "_view_name": "HBoxView",
            "box_style": "",
            "children": [
              "IPY_MODEL_e9279971817446a7bce3dee15a5b6c65",
              "IPY_MODEL_644f827b26a545d1b69cb9cf7d724263",
              "IPY_MODEL_a8b0bff6c9f748daa3599829e4dfc298"
            ],
            "layout": "IPY_MODEL_1e3f8e3325c74309b9376f0c6217f505"
          }
        },
        "e9279971817446a7bce3dee15a5b6c65": {
          "model_module": "@jupyter-widgets/controls",
          "model_name": "HTMLModel",
          "model_module_version": "1.5.0",
          "state": {
            "_dom_classes": [],
            "_model_module": "@jupyter-widgets/controls",
            "_model_module_version": "1.5.0",
            "_model_name": "HTMLModel",
            "_view_count": null,
            "_view_module": "@jupyter-widgets/controls",
            "_view_module_version": "1.5.0",
            "_view_name": "HTMLView",
            "description": "",
            "description_tooltip": null,
            "layout": "IPY_MODEL_c00bd16240d848fcb46d6679bc6f315c",
            "placeholder": "​",
            "style": "IPY_MODEL_860e9ae6a0184d39b6c21817c77d82af",
            "value": ""
          }
        },
        "644f827b26a545d1b69cb9cf7d724263": {
          "model_module": "@jupyter-widgets/controls",
          "model_name": "FloatProgressModel",
          "model_module_version": "1.5.0",
          "state": {
            "_dom_classes": [],
            "_model_module": "@jupyter-widgets/controls",
            "_model_module_version": "1.5.0",
            "_model_name": "FloatProgressModel",
            "_view_count": null,
            "_view_module": "@jupyter-widgets/controls",
            "_view_module_version": "1.5.0",
            "_view_name": "ProgressView",
            "bar_style": "success",
            "description": "",
            "description_tooltip": null,
            "layout": "IPY_MODEL_24cff0fa7cd3409fa4842a7d5ecea454",
            "max": 4422102,
            "min": 0,
            "orientation": "horizontal",
            "style": "IPY_MODEL_5f353f6e4f2e4bf69f1a9c45e11a7a7a",
            "value": 4422102
          }
        },
        "a8b0bff6c9f748daa3599829e4dfc298": {
          "model_module": "@jupyter-widgets/controls",
          "model_name": "HTMLModel",
          "model_module_version": "1.5.0",
          "state": {
            "_dom_classes": [],
            "_model_module": "@jupyter-widgets/controls",
            "_model_module_version": "1.5.0",
            "_model_name": "HTMLModel",
            "_view_count": null,
            "_view_module": "@jupyter-widgets/controls",
            "_view_module_version": "1.5.0",
            "_view_name": "HTMLView",
            "description": "",
            "description_tooltip": null,
            "layout": "IPY_MODEL_d16ea93670a94763b88ba5a240792506",
            "placeholder": "​",
            "style": "IPY_MODEL_bfac47d68a86493c98d3d3edff6d52db",
            "value": " 4422656/? [00:01&lt;00:00, 4001793.93it/s]"
          }
        },
        "1e3f8e3325c74309b9376f0c6217f505": {
          "model_module": "@jupyter-widgets/base",
          "model_name": "LayoutModel",
          "model_module_version": "1.2.0",
          "state": {
            "_model_module": "@jupyter-widgets/base",
            "_model_module_version": "1.2.0",
            "_model_name": "LayoutModel",
            "_view_count": null,
            "_view_module": "@jupyter-widgets/base",
            "_view_module_version": "1.2.0",
            "_view_name": "LayoutView",
            "align_content": null,
            "align_items": null,
            "align_self": null,
            "border": null,
            "bottom": null,
            "display": null,
            "flex": null,
            "flex_flow": null,
            "grid_area": null,
            "grid_auto_columns": null,
            "grid_auto_flow": null,
            "grid_auto_rows": null,
            "grid_column": null,
            "grid_gap": null,
            "grid_row": null,
            "grid_template_areas": null,
            "grid_template_columns": null,
            "grid_template_rows": null,
            "height": null,
            "justify_content": null,
            "justify_items": null,
            "left": null,
            "margin": null,
            "max_height": null,
            "max_width": null,
            "min_height": null,
            "min_width": null,
            "object_fit": null,
            "object_position": null,
            "order": null,
            "overflow": null,
            "overflow_x": null,
            "overflow_y": null,
            "padding": null,
            "right": null,
            "top": null,
            "visibility": null,
            "width": null
          }
        },
        "c00bd16240d848fcb46d6679bc6f315c": {
          "model_module": "@jupyter-widgets/base",
          "model_name": "LayoutModel",
          "model_module_version": "1.2.0",
          "state": {
            "_model_module": "@jupyter-widgets/base",
            "_model_module_version": "1.2.0",
            "_model_name": "LayoutModel",
            "_view_count": null,
            "_view_module": "@jupyter-widgets/base",
            "_view_module_version": "1.2.0",
            "_view_name": "LayoutView",
            "align_content": null,
            "align_items": null,
            "align_self": null,
            "border": null,
            "bottom": null,
            "display": null,
            "flex": null,
            "flex_flow": null,
            "grid_area": null,
            "grid_auto_columns": null,
            "grid_auto_flow": null,
            "grid_auto_rows": null,
            "grid_column": null,
            "grid_gap": null,
            "grid_row": null,
            "grid_template_areas": null,
            "grid_template_columns": null,
            "grid_template_rows": null,
            "height": null,
            "justify_content": null,
            "justify_items": null,
            "left": null,
            "margin": null,
            "max_height": null,
            "max_width": null,
            "min_height": null,
            "min_width": null,
            "object_fit": null,
            "object_position": null,
            "order": null,
            "overflow": null,
            "overflow_x": null,
            "overflow_y": null,
            "padding": null,
            "right": null,
            "top": null,
            "visibility": null,
            "width": null
          }
        },
        "860e9ae6a0184d39b6c21817c77d82af": {
          "model_module": "@jupyter-widgets/controls",
          "model_name": "DescriptionStyleModel",
          "model_module_version": "1.5.0",
          "state": {
            "_model_module": "@jupyter-widgets/controls",
            "_model_module_version": "1.5.0",
            "_model_name": "DescriptionStyleModel",
            "_view_count": null,
            "_view_module": "@jupyter-widgets/base",
            "_view_module_version": "1.2.0",
            "_view_name": "StyleView",
            "description_width": ""
          }
        },
        "24cff0fa7cd3409fa4842a7d5ecea454": {
          "model_module": "@jupyter-widgets/base",
          "model_name": "LayoutModel",
          "model_module_version": "1.2.0",
          "state": {
            "_model_module": "@jupyter-widgets/base",
            "_model_module_version": "1.2.0",
            "_model_name": "LayoutModel",
            "_view_count": null,
            "_view_module": "@jupyter-widgets/base",
            "_view_module_version": "1.2.0",
            "_view_name": "LayoutView",
            "align_content": null,
            "align_items": null,
            "align_self": null,
            "border": null,
            "bottom": null,
            "display": null,
            "flex": null,
            "flex_flow": null,
            "grid_area": null,
            "grid_auto_columns": null,
            "grid_auto_flow": null,
            "grid_auto_rows": null,
            "grid_column": null,
            "grid_gap": null,
            "grid_row": null,
            "grid_template_areas": null,
            "grid_template_columns": null,
            "grid_template_rows": null,
            "height": null,
            "justify_content": null,
            "justify_items": null,
            "left": null,
            "margin": null,
            "max_height": null,
            "max_width": null,
            "min_height": null,
            "min_width": null,
            "object_fit": null,
            "object_position": null,
            "order": null,
            "overflow": null,
            "overflow_x": null,
            "overflow_y": null,
            "padding": null,
            "right": null,
            "top": null,
            "visibility": null,
            "width": null
          }
        },
        "5f353f6e4f2e4bf69f1a9c45e11a7a7a": {
          "model_module": "@jupyter-widgets/controls",
          "model_name": "ProgressStyleModel",
          "model_module_version": "1.5.0",
          "state": {
            "_model_module": "@jupyter-widgets/controls",
            "_model_module_version": "1.5.0",
            "_model_name": "ProgressStyleModel",
            "_view_count": null,
            "_view_module": "@jupyter-widgets/base",
            "_view_module_version": "1.2.0",
            "_view_name": "StyleView",
            "bar_color": null,
            "description_width": ""
          }
        },
        "d16ea93670a94763b88ba5a240792506": {
          "model_module": "@jupyter-widgets/base",
          "model_name": "LayoutModel",
          "model_module_version": "1.2.0",
          "state": {
            "_model_module": "@jupyter-widgets/base",
            "_model_module_version": "1.2.0",
            "_model_name": "LayoutModel",
            "_view_count": null,
            "_view_module": "@jupyter-widgets/base",
            "_view_module_version": "1.2.0",
            "_view_name": "LayoutView",
            "align_content": null,
            "align_items": null,
            "align_self": null,
            "border": null,
            "bottom": null,
            "display": null,
            "flex": null,
            "flex_flow": null,
            "grid_area": null,
            "grid_auto_columns": null,
            "grid_auto_flow": null,
            "grid_auto_rows": null,
            "grid_column": null,
            "grid_gap": null,
            "grid_row": null,
            "grid_template_areas": null,
            "grid_template_columns": null,
            "grid_template_rows": null,
            "height": null,
            "justify_content": null,
            "justify_items": null,
            "left": null,
            "margin": null,
            "max_height": null,
            "max_width": null,
            "min_height": null,
            "min_width": null,
            "object_fit": null,
            "object_position": null,
            "order": null,
            "overflow": null,
            "overflow_x": null,
            "overflow_y": null,
            "padding": null,
            "right": null,
            "top": null,
            "visibility": null,
            "width": null
          }
        },
        "bfac47d68a86493c98d3d3edff6d52db": {
          "model_module": "@jupyter-widgets/controls",
          "model_name": "DescriptionStyleModel",
          "model_module_version": "1.5.0",
          "state": {
            "_model_module": "@jupyter-widgets/controls",
            "_model_module_version": "1.5.0",
            "_model_name": "DescriptionStyleModel",
            "_view_count": null,
            "_view_module": "@jupyter-widgets/base",
            "_view_module_version": "1.2.0",
            "_view_name": "StyleView",
            "description_width": ""
          }
        },
        "bffa1de30a554bb8b8507a1d9c3696e1": {
          "model_module": "@jupyter-widgets/controls",
          "model_name": "HBoxModel",
          "model_module_version": "1.5.0",
          "state": {
            "_dom_classes": [],
            "_model_module": "@jupyter-widgets/controls",
            "_model_module_version": "1.5.0",
            "_model_name": "HBoxModel",
            "_view_count": null,
            "_view_module": "@jupyter-widgets/controls",
            "_view_module_version": "1.5.0",
            "_view_name": "HBoxView",
            "box_style": "",
            "children": [
              "IPY_MODEL_9523950a964041c99c4d1b91c4353a93",
              "IPY_MODEL_8136e7f1a9af4615a8b4091f6ee086c7",
              "IPY_MODEL_4f43aa00ed274ad59a645a4062f224f2"
            ],
            "layout": "IPY_MODEL_eb436d07074749d8896e172423896a72"
          }
        },
        "9523950a964041c99c4d1b91c4353a93": {
          "model_module": "@jupyter-widgets/controls",
          "model_name": "HTMLModel",
          "model_module_version": "1.5.0",
          "state": {
            "_dom_classes": [],
            "_model_module": "@jupyter-widgets/controls",
            "_model_module_version": "1.5.0",
            "_model_name": "HTMLModel",
            "_view_count": null,
            "_view_module": "@jupyter-widgets/controls",
            "_view_module_version": "1.5.0",
            "_view_name": "HTMLView",
            "description": "",
            "description_tooltip": null,
            "layout": "IPY_MODEL_b5cd17dd850e4bfeb14c2439733967f2",
            "placeholder": "​",
            "style": "IPY_MODEL_4f49bf2b558a41949aeb1137c431f26d",
            "value": ""
          }
        },
        "8136e7f1a9af4615a8b4091f6ee086c7": {
          "model_module": "@jupyter-widgets/controls",
          "model_name": "FloatProgressModel",
          "model_module_version": "1.5.0",
          "state": {
            "_dom_classes": [],
            "_model_module": "@jupyter-widgets/controls",
            "_model_module_version": "1.5.0",
            "_model_name": "FloatProgressModel",
            "_view_count": null,
            "_view_module": "@jupyter-widgets/controls",
            "_view_module_version": "1.5.0",
            "_view_name": "ProgressView",
            "bar_style": "success",
            "description": "",
            "description_tooltip": null,
            "layout": "IPY_MODEL_d662a344e8e642068edeebfecb0f928e",
            "max": 5148,
            "min": 0,
            "orientation": "horizontal",
            "style": "IPY_MODEL_2a4ba989a2f148f88b6f6ed85014b039",
            "value": 5148
          }
        },
        "4f43aa00ed274ad59a645a4062f224f2": {
          "model_module": "@jupyter-widgets/controls",
          "model_name": "HTMLModel",
          "model_module_version": "1.5.0",
          "state": {
            "_dom_classes": [],
            "_model_module": "@jupyter-widgets/controls",
            "_model_module_version": "1.5.0",
            "_model_name": "HTMLModel",
            "_view_count": null,
            "_view_module": "@jupyter-widgets/controls",
            "_view_module_version": "1.5.0",
            "_view_name": "HTMLView",
            "description": "",
            "description_tooltip": null,
            "layout": "IPY_MODEL_ccb18fce4efc48c5afa981b6ac2495b2",
            "placeholder": "​",
            "style": "IPY_MODEL_2b936ea4590c4f639bba39bd236d21fa",
            "value": " 6144/? [00:00&lt;00:00, 199792.25it/s]"
          }
        },
        "eb436d07074749d8896e172423896a72": {
          "model_module": "@jupyter-widgets/base",
          "model_name": "LayoutModel",
          "model_module_version": "1.2.0",
          "state": {
            "_model_module": "@jupyter-widgets/base",
            "_model_module_version": "1.2.0",
            "_model_name": "LayoutModel",
            "_view_count": null,
            "_view_module": "@jupyter-widgets/base",
            "_view_module_version": "1.2.0",
            "_view_name": "LayoutView",
            "align_content": null,
            "align_items": null,
            "align_self": null,
            "border": null,
            "bottom": null,
            "display": null,
            "flex": null,
            "flex_flow": null,
            "grid_area": null,
            "grid_auto_columns": null,
            "grid_auto_flow": null,
            "grid_auto_rows": null,
            "grid_column": null,
            "grid_gap": null,
            "grid_row": null,
            "grid_template_areas": null,
            "grid_template_columns": null,
            "grid_template_rows": null,
            "height": null,
            "justify_content": null,
            "justify_items": null,
            "left": null,
            "margin": null,
            "max_height": null,
            "max_width": null,
            "min_height": null,
            "min_width": null,
            "object_fit": null,
            "object_position": null,
            "order": null,
            "overflow": null,
            "overflow_x": null,
            "overflow_y": null,
            "padding": null,
            "right": null,
            "top": null,
            "visibility": null,
            "width": null
          }
        },
        "b5cd17dd850e4bfeb14c2439733967f2": {
          "model_module": "@jupyter-widgets/base",
          "model_name": "LayoutModel",
          "model_module_version": "1.2.0",
          "state": {
            "_model_module": "@jupyter-widgets/base",
            "_model_module_version": "1.2.0",
            "_model_name": "LayoutModel",
            "_view_count": null,
            "_view_module": "@jupyter-widgets/base",
            "_view_module_version": "1.2.0",
            "_view_name": "LayoutView",
            "align_content": null,
            "align_items": null,
            "align_self": null,
            "border": null,
            "bottom": null,
            "display": null,
            "flex": null,
            "flex_flow": null,
            "grid_area": null,
            "grid_auto_columns": null,
            "grid_auto_flow": null,
            "grid_auto_rows": null,
            "grid_column": null,
            "grid_gap": null,
            "grid_row": null,
            "grid_template_areas": null,
            "grid_template_columns": null,
            "grid_template_rows": null,
            "height": null,
            "justify_content": null,
            "justify_items": null,
            "left": null,
            "margin": null,
            "max_height": null,
            "max_width": null,
            "min_height": null,
            "min_width": null,
            "object_fit": null,
            "object_position": null,
            "order": null,
            "overflow": null,
            "overflow_x": null,
            "overflow_y": null,
            "padding": null,
            "right": null,
            "top": null,
            "visibility": null,
            "width": null
          }
        },
        "4f49bf2b558a41949aeb1137c431f26d": {
          "model_module": "@jupyter-widgets/controls",
          "model_name": "DescriptionStyleModel",
          "model_module_version": "1.5.0",
          "state": {
            "_model_module": "@jupyter-widgets/controls",
            "_model_module_version": "1.5.0",
            "_model_name": "DescriptionStyleModel",
            "_view_count": null,
            "_view_module": "@jupyter-widgets/base",
            "_view_module_version": "1.2.0",
            "_view_name": "StyleView",
            "description_width": ""
          }
        },
        "d662a344e8e642068edeebfecb0f928e": {
          "model_module": "@jupyter-widgets/base",
          "model_name": "LayoutModel",
          "model_module_version": "1.2.0",
          "state": {
            "_model_module": "@jupyter-widgets/base",
            "_model_module_version": "1.2.0",
            "_model_name": "LayoutModel",
            "_view_count": null,
            "_view_module": "@jupyter-widgets/base",
            "_view_module_version": "1.2.0",
            "_view_name": "LayoutView",
            "align_content": null,
            "align_items": null,
            "align_self": null,
            "border": null,
            "bottom": null,
            "display": null,
            "flex": null,
            "flex_flow": null,
            "grid_area": null,
            "grid_auto_columns": null,
            "grid_auto_flow": null,
            "grid_auto_rows": null,
            "grid_column": null,
            "grid_gap": null,
            "grid_row": null,
            "grid_template_areas": null,
            "grid_template_columns": null,
            "grid_template_rows": null,
            "height": null,
            "justify_content": null,
            "justify_items": null,
            "left": null,
            "margin": null,
            "max_height": null,
            "max_width": null,
            "min_height": null,
            "min_width": null,
            "object_fit": null,
            "object_position": null,
            "order": null,
            "overflow": null,
            "overflow_x": null,
            "overflow_y": null,
            "padding": null,
            "right": null,
            "top": null,
            "visibility": null,
            "width": null
          }
        },
        "2a4ba989a2f148f88b6f6ed85014b039": {
          "model_module": "@jupyter-widgets/controls",
          "model_name": "ProgressStyleModel",
          "model_module_version": "1.5.0",
          "state": {
            "_model_module": "@jupyter-widgets/controls",
            "_model_module_version": "1.5.0",
            "_model_name": "ProgressStyleModel",
            "_view_count": null,
            "_view_module": "@jupyter-widgets/base",
            "_view_module_version": "1.2.0",
            "_view_name": "StyleView",
            "bar_color": null,
            "description_width": ""
          }
        },
        "ccb18fce4efc48c5afa981b6ac2495b2": {
          "model_module": "@jupyter-widgets/base",
          "model_name": "LayoutModel",
          "model_module_version": "1.2.0",
          "state": {
            "_model_module": "@jupyter-widgets/base",
            "_model_module_version": "1.2.0",
            "_model_name": "LayoutModel",
            "_view_count": null,
            "_view_module": "@jupyter-widgets/base",
            "_view_module_version": "1.2.0",
            "_view_name": "LayoutView",
            "align_content": null,
            "align_items": null,
            "align_self": null,
            "border": null,
            "bottom": null,
            "display": null,
            "flex": null,
            "flex_flow": null,
            "grid_area": null,
            "grid_auto_columns": null,
            "grid_auto_flow": null,
            "grid_auto_rows": null,
            "grid_column": null,
            "grid_gap": null,
            "grid_row": null,
            "grid_template_areas": null,
            "grid_template_columns": null,
            "grid_template_rows": null,
            "height": null,
            "justify_content": null,
            "justify_items": null,
            "left": null,
            "margin": null,
            "max_height": null,
            "max_width": null,
            "min_height": null,
            "min_width": null,
            "object_fit": null,
            "object_position": null,
            "order": null,
            "overflow": null,
            "overflow_x": null,
            "overflow_y": null,
            "padding": null,
            "right": null,
            "top": null,
            "visibility": null,
            "width": null
          }
        },
        "2b936ea4590c4f639bba39bd236d21fa": {
          "model_module": "@jupyter-widgets/controls",
          "model_name": "DescriptionStyleModel",
          "model_module_version": "1.5.0",
          "state": {
            "_model_module": "@jupyter-widgets/controls",
            "_model_module_version": "1.5.0",
            "_model_name": "DescriptionStyleModel",
            "_view_count": null,
            "_view_module": "@jupyter-widgets/base",
            "_view_module_version": "1.2.0",
            "_view_name": "StyleView",
            "description_width": ""
          }
        }
      }
    }
  },
  "cells": [
    {
      "cell_type": "markdown",
      "metadata": {
        "id": "view-in-github",
        "colab_type": "text"
      },
      "source": [
        "<a href=\"https://colab.research.google.com/github/youuRee/DeepLearning_Lecture/blob/main/Ch_04_%ED%8C%8C%EC%9D%B4%ED%86%A0%EC%B9%98_%EC%9D%B4%EB%A1%A0_%EB%B0%8F_%EC%8B%A4%EC%8A%B5_Pytorch_Tutorial.ipynb\" target=\"_parent\"><img src=\"https://colab.research.google.com/assets/colab-badge.svg\" alt=\"Open In Colab\"/></a>"
      ]
    },
    {
      "cell_type": "markdown",
      "metadata": {
        "id": "txCP1_fZR1PW"
      },
      "source": [
        "# Pytorch\n",
        "\n",
        "Pytorch는 TensorFlow와 함께 Deep Learning에서 가장 널리 사용되는 framework입니다.\n",
        "\n",
        "초기에는 Torch라는 이름으로 Lua 언어 기반으로 만들어졌으나, 이후 python 기반으로 변경한 것이 Pytorch입니다. \n",
        "\n",
        "New York 대학교와 Facebook이 공동으로 만들었고, Deep Learning 연구자들 사이에서는 가장 대중적으로 널리 사용되는 framework입니다."
      ]
    },
    {
      "cell_type": "markdown",
      "metadata": {
        "id": "63Q803K53JFb"
      },
      "source": [
        "## Pytorch Basic"
      ]
    },
    {
      "cell_type": "markdown",
      "metadata": {
        "id": "NXbSk7vvWlxn"
      },
      "source": [
        "### Pytorch import"
      ]
    },
    {
      "cell_type": "code",
      "metadata": {
        "id": "8J0WMNj3QxxT",
        "colab": {
          "base_uri": "https://localhost:8080/"
        },
        "outputId": "047ba1fe-64e2-4b3b-9d09-afd4b9b268f1"
      },
      "source": [
        "import torch\n",
        "\n",
        "print(torch.__version__)"
      ],
      "execution_count": null,
      "outputs": [
        {
          "output_type": "stream",
          "name": "stdout",
          "text": [
            "1.11.0+cu113\n"
          ]
        }
      ]
    },
    {
      "cell_type": "markdown",
      "metadata": {
        "id": "6yYFv2sHXRyO"
      },
      "source": [
        "### Pytorch 맛보기\n",
        "\n"
      ]
    },
    {
      "cell_type": "code",
      "metadata": {
        "id": "h_5pN_jhToDL"
      },
      "source": [
        "from torch import nn\n",
        "from torch.utils.data import DataLoader\n",
        "from torchvision import datasets\n",
        "from torchvision.transforms import ToTensor, Lambda, Compose\n",
        "import matplotlib.pyplot as plt\n",
        "import numpy as np"
      ],
      "execution_count": null,
      "outputs": []
    },
    {
      "cell_type": "code",
      "metadata": {
        "id": "9RdlFXVPXh7V"
      },
      "source": [
        "## MNIST Data down 받기\n",
        "\n",
        "# 공개 데이터셋에서 학습 데이터를 내려받습니다.\n",
        "training_data = datasets.MNIST(\n",
        "    root=\"data\",\n",
        "    train=True,\n",
        "    download=True,\n",
        "    transform=ToTensor(),\n",
        ")\n",
        "\n",
        "# 공개 데이터셋에서 테스트 데이터를 내려받습니다.\n",
        "test_data = datasets.MNIST(\n",
        "    root=\"data\",\n",
        "    train=False,\n",
        "    download=True,\n",
        "    transform=ToTensor(),\n",
        ")"
      ],
      "execution_count": null,
      "outputs": []
    },
    {
      "cell_type": "code",
      "metadata": {
        "id": "kTY_cIF1XpJd",
        "colab": {
          "base_uri": "https://localhost:8080/"
        },
        "outputId": "410e7b67-15e5-4f0a-c984-c4803c68c4d8"
      },
      "source": [
        "batch_size = 64\n",
        "\n",
        "# 데이터로더를 생성합니다.\n",
        "train_dataloader = DataLoader(training_data, batch_size=batch_size)\n",
        "test_dataloader = DataLoader(test_data, batch_size=batch_size)\n",
        "\n",
        "for X, y in test_dataloader:\n",
        "    print(\"Shape of X [N, C, H, W]: \", X.shape)\n",
        "    print(\"Shape of y: \", y.shape, y.dtype)\n",
        "    break"
      ],
      "execution_count": null,
      "outputs": [
        {
          "output_type": "stream",
          "name": "stdout",
          "text": [
            "Shape of X [N, C, H, W]:  torch.Size([64, 1, 28, 28])\n",
            "Shape of y:  torch.Size([64]) torch.int64\n"
          ]
        }
      ]
    },
    {
      "cell_type": "code",
      "metadata": {
        "id": "B31uL7ycX1re",
        "colab": {
          "base_uri": "https://localhost:8080/"
        },
        "outputId": "a632ec71-f455-4833-eaee-42b6d6a1360e"
      },
      "source": [
        "# 학습에 사용할 CPU나 GPU 장치를 얻습니다.\n",
        "# pytorch -> 디바이스에 대한 설정 필요\n",
        "device = \"cuda\" if torch.cuda.is_available() else \"cpu\"\n",
        "print(\"Using {} device\".format(device))\n",
        "\n",
        "# 모델을 정의합니다.\n",
        "class NeuralNetwork(nn.Module):\n",
        "    def __init__(self):\n",
        "        super(NeuralNetwork, self).__init__()\n",
        "        self.flatten = nn.Flatten()\n",
        "        self.linear_relu_stack = nn.Sequential(\n",
        "            nn.Linear(28*28, 128),\n",
        "            nn.ReLU(),\n",
        "            nn.Dropout(0.2),            \n",
        "            nn.Linear(128, 10)\n",
        "        )\n",
        "\n",
        "    def forward(self, x):\n",
        "        x = self.flatten(x)\n",
        "        logits = self.linear_relu_stack(x)\n",
        "        return logits\n",
        "\n",
        "model = NeuralNetwork().to(device)\n",
        "print(model)"
      ],
      "execution_count": null,
      "outputs": [
        {
          "output_type": "stream",
          "name": "stdout",
          "text": [
            "Using cuda device\n",
            "NeuralNetwork(\n",
            "  (flatten): Flatten(start_dim=1, end_dim=-1)\n",
            "  (linear_relu_stack): Sequential(\n",
            "    (0): Linear(in_features=784, out_features=128, bias=True)\n",
            "    (1): ReLU()\n",
            "    (2): Dropout(p=0.2, inplace=False)\n",
            "    (3): Linear(in_features=128, out_features=10, bias=True)\n",
            "  )\n",
            ")\n"
          ]
        }
      ]
    },
    {
      "cell_type": "code",
      "metadata": {
        "id": "KsrTn40qX2KV"
      },
      "source": [
        "# Loss 함수와 Optimizer 설정\n",
        "loss_fn = nn.CrossEntropyLoss()\n",
        "optimizer = torch.optim.Adam(model.parameters(), lr=1e-3)"
      ],
      "execution_count": null,
      "outputs": []
    },
    {
      "cell_type": "code",
      "metadata": {
        "id": "36iRc41kYFj1"
      },
      "source": [
        "# Training을 위한 함수\n",
        "def train(dataloader, model, loss_fn, optimizer):\n",
        "    size = len(dataloader.dataset)\n",
        "    for batch, (X, y) in enumerate(dataloader):\n",
        "        X, y = X.to(device), y.to(device)\n",
        "\n",
        "        # 예측 오류 계산\n",
        "        pred = model(X)\n",
        "        loss = loss_fn(pred, y)\n",
        "\n",
        "        # 역전파\n",
        "        optimizer.zero_grad()\n",
        "        loss.backward()\n",
        "        optimizer.step()\n",
        "\n",
        "        if batch % 100 == 0:\n",
        "            loss, current = loss.item(), batch * len(X)\n",
        "            print(f\"loss: {loss:>7f}  [{current:>5d}/{size:>5d}]\")"
      ],
      "execution_count": null,
      "outputs": []
    },
    {
      "cell_type": "code",
      "metadata": {
        "id": "u6_3yNPMYKO2"
      },
      "source": [
        "# Test를 위한 함수\n",
        "def test(dataloader, model, loss_fn):\n",
        "    size = len(dataloader.dataset)\n",
        "    num_batches = len(dataloader)\n",
        "    model.eval()\n",
        "    test_loss, correct = 0, 0\n",
        "    with torch.no_grad():\n",
        "        for X, y in dataloader:\n",
        "            X, y = X.to(device), y.to(device)\n",
        "            pred = model(X)\n",
        "            test_loss += loss_fn(pred, y).item()\n",
        "            correct += (pred.argmax(1) == y).type(torch.float).sum().item()\n",
        "    test_loss /= num_batches\n",
        "    correct /= size\n",
        "    print(f\"Test Error: \\n Accuracy: {(100*correct):>0.1f}%, Avg loss: {test_loss:>8f} \\n\")"
      ],
      "execution_count": null,
      "outputs": []
    },
    {
      "cell_type": "code",
      "metadata": {
        "id": "CnhgYl0yYZJX",
        "colab": {
          "base_uri": "https://localhost:8080/"
        },
        "outputId": "1fd87b9b-0250-4a60-b7e8-70a84fd83549"
      },
      "source": [
        "epochs = 10\n",
        "for t in range(epochs):\n",
        "    print(f\"Epoch {t+1}\\n-------------------------------\")\n",
        "    train(train_dataloader, model, loss_fn, optimizer)\n",
        "    test(test_dataloader, model, loss_fn)\n",
        "print(\"Done!\")"
      ],
      "execution_count": null,
      "outputs": [
        {
          "output_type": "stream",
          "name": "stdout",
          "text": [
            "Epoch 1\n",
            "-------------------------------\n",
            "loss: 2.309988  [    0/60000]\n",
            "loss: 0.472944  [ 6400/60000]\n",
            "loss: 0.313130  [12800/60000]\n",
            "loss: 0.377127  [19200/60000]\n",
            "loss: 0.248622  [25600/60000]\n",
            "loss: 0.356273  [32000/60000]\n",
            "loss: 0.155636  [38400/60000]\n",
            "loss: 0.339194  [44800/60000]\n",
            "loss: 0.284508  [51200/60000]\n",
            "loss: 0.311086  [57600/60000]\n",
            "Test Error: \n",
            " Accuracy: 93.9%, Avg loss: 0.200620 \n",
            "\n",
            "Epoch 2\n",
            "-------------------------------\n",
            "loss: 0.136589  [    0/60000]\n",
            "loss: 0.179708  [ 6400/60000]\n",
            "loss: 0.114334  [12800/60000]\n",
            "loss: 0.198402  [19200/60000]\n",
            "loss: 0.164440  [25600/60000]\n",
            "loss: 0.286637  [32000/60000]\n",
            "loss: 0.061954  [38400/60000]\n",
            "loss: 0.246030  [44800/60000]\n",
            "loss: 0.174127  [51200/60000]\n",
            "loss: 0.218340  [57600/60000]\n",
            "Test Error: \n",
            " Accuracy: 96.0%, Avg loss: 0.131613 \n",
            "\n",
            "Epoch 3\n",
            "-------------------------------\n",
            "loss: 0.080493  [    0/60000]\n",
            "loss: 0.100114  [ 6400/60000]\n",
            "loss: 0.077899  [12800/60000]\n",
            "loss: 0.114142  [19200/60000]\n",
            "loss: 0.123165  [25600/60000]\n",
            "loss: 0.209770  [32000/60000]\n",
            "loss: 0.041450  [38400/60000]\n",
            "loss: 0.198910  [44800/60000]\n",
            "loss: 0.131232  [51200/60000]\n",
            "loss: 0.160775  [57600/60000]\n",
            "Test Error: \n",
            " Accuracy: 96.5%, Avg loss: 0.108763 \n",
            "\n",
            "Epoch 4\n",
            "-------------------------------\n",
            "loss: 0.061604  [    0/60000]\n",
            "loss: 0.082857  [ 6400/60000]\n",
            "loss: 0.060325  [12800/60000]\n",
            "loss: 0.068522  [19200/60000]\n",
            "loss: 0.087450  [25600/60000]\n",
            "loss: 0.148697  [32000/60000]\n",
            "loss: 0.033826  [38400/60000]\n",
            "loss: 0.144528  [44800/60000]\n",
            "loss: 0.103147  [51200/60000]\n",
            "loss: 0.126786  [57600/60000]\n",
            "Test Error: \n",
            " Accuracy: 96.8%, Avg loss: 0.098062 \n",
            "\n",
            "Epoch 5\n",
            "-------------------------------\n",
            "loss: 0.047706  [    0/60000]\n",
            "loss: 0.057598  [ 6400/60000]\n",
            "loss: 0.048027  [12800/60000]\n",
            "loss: 0.041802  [19200/60000]\n",
            "loss: 0.066003  [25600/60000]\n",
            "loss: 0.118693  [32000/60000]\n",
            "loss: 0.024737  [38400/60000]\n",
            "loss: 0.100483  [44800/60000]\n",
            "loss: 0.087321  [51200/60000]\n",
            "loss: 0.100972  [57600/60000]\n",
            "Test Error: \n",
            " Accuracy: 96.8%, Avg loss: 0.097016 \n",
            "\n",
            "Epoch 6\n",
            "-------------------------------\n",
            "loss: 0.038388  [    0/60000]\n",
            "loss: 0.039801  [ 6400/60000]\n",
            "loss: 0.040596  [12800/60000]\n",
            "loss: 0.037824  [19200/60000]\n",
            "loss: 0.050252  [25600/60000]\n",
            "loss: 0.095356  [32000/60000]\n",
            "loss: 0.018098  [38400/60000]\n",
            "loss: 0.074418  [44800/60000]\n",
            "loss: 0.081623  [51200/60000]\n",
            "loss: 0.077624  [57600/60000]\n",
            "Test Error: \n",
            " Accuracy: 97.0%, Avg loss: 0.091331 \n",
            "\n",
            "Epoch 7\n",
            "-------------------------------\n",
            "loss: 0.030141  [    0/60000]\n",
            "loss: 0.024142  [ 6400/60000]\n",
            "loss: 0.033666  [12800/60000]\n",
            "loss: 0.037363  [19200/60000]\n",
            "loss: 0.037153  [25600/60000]\n",
            "loss: 0.073187  [32000/60000]\n",
            "loss: 0.014578  [38400/60000]\n",
            "loss: 0.050901  [44800/60000]\n",
            "loss: 0.075327  [51200/60000]\n",
            "loss: 0.062865  [57600/60000]\n",
            "Test Error: \n",
            " Accuracy: 97.2%, Avg loss: 0.087289 \n",
            "\n",
            "Epoch 8\n",
            "-------------------------------\n",
            "loss: 0.029978  [    0/60000]\n",
            "loss: 0.015320  [ 6400/60000]\n",
            "loss: 0.034781  [12800/60000]\n",
            "loss: 0.035992  [19200/60000]\n",
            "loss: 0.025047  [25600/60000]\n",
            "loss: 0.047826  [32000/60000]\n",
            "loss: 0.007635  [38400/60000]\n",
            "loss: 0.035421  [44800/60000]\n",
            "loss: 0.071710  [51200/60000]\n",
            "loss: 0.043510  [57600/60000]\n",
            "Test Error: \n",
            " Accuracy: 97.3%, Avg loss: 0.087277 \n",
            "\n",
            "Epoch 9\n",
            "-------------------------------\n",
            "loss: 0.027758  [    0/60000]\n",
            "loss: 0.012673  [ 6400/60000]\n",
            "loss: 0.033687  [12800/60000]\n",
            "loss: 0.035424  [19200/60000]\n",
            "loss: 0.016470  [25600/60000]\n",
            "loss: 0.033720  [32000/60000]\n",
            "loss: 0.006182  [38400/60000]\n",
            "loss: 0.024125  [44800/60000]\n",
            "loss: 0.061975  [51200/60000]\n",
            "loss: 0.027138  [57600/60000]\n",
            "Test Error: \n",
            " Accuracy: 97.4%, Avg loss: 0.088200 \n",
            "\n",
            "Epoch 10\n",
            "-------------------------------\n",
            "loss: 0.022940  [    0/60000]\n",
            "loss: 0.006504  [ 6400/60000]\n",
            "loss: 0.027847  [12800/60000]\n",
            "loss: 0.037322  [19200/60000]\n",
            "loss: 0.012167  [25600/60000]\n",
            "loss: 0.027268  [32000/60000]\n",
            "loss: 0.004581  [38400/60000]\n",
            "loss: 0.020441  [44800/60000]\n",
            "loss: 0.055556  [51200/60000]\n",
            "loss: 0.019789  [57600/60000]\n",
            "Test Error: \n",
            " Accuracy: 97.5%, Avg loss: 0.086820 \n",
            "\n",
            "Done!\n"
          ]
        }
      ]
    },
    {
      "cell_type": "markdown",
      "metadata": {
        "id": "b6cUrmf0Z4fo"
      },
      "source": [
        "내가 쓴 손글씨로 Test 해봅시다.\n",
        "\n",
        "Colab을 쓰는 경우에는 아래 cell을 실행하면 파일을 업로드할 수 있습니다.\n",
        "\n",
        "그림판과 같은 도구를 이용하여 손으로 숫자를 쓴 다음 파일로 저장하고 업로드 합니다.\n",
        "\n",
        "이 때 파일명은 image.png로 합니다."
      ]
    },
    {
      "cell_type": "code",
      "metadata": {
        "id": "59W62-QgYwMO"
      },
      "source": [
        "import os\n",
        "from PIL import Image\n",
        "from google.colab import files\n",
        "\n",
        "uploaded = files.upload()\n",
        "\n",
        "for fn in uploaded.keys():\n",
        "  print('User uploaded file \"{name}\" with length {length} bytes'.format(\n",
        "      name=fn, length=len(uploaded[fn])))"
      ],
      "execution_count": null,
      "outputs": []
    },
    {
      "cell_type": "code",
      "metadata": {
        "id": "B0X9zCSmaMCG"
      },
      "source": [
        "# image file의 경로 설정\n",
        "cur_dir = os.getcwd()\n",
        "img_path = os.path.join(cur_dir, 'image.png')\n",
        "# image file 읽기\n",
        "cur_img = Image.open(img_path)\n",
        "# 28x28로 resize\n",
        "cur_img = cur_img.resize((28, 28))\n",
        "image = np.asarray(cur_img)\n",
        "\n",
        "# color image일 경우 RGB 평균값으로 gray scale로 변경\n",
        "try:\n",
        "  image = np.mean(image, axis=2)\n",
        "except:\n",
        "  pass\n",
        "# upload한 image는 흰 배경에 검은 글씨로 되어 있으므로, MNIST data와 같이 검은 배경에 흰 글씨로 변경\n",
        "image = np.abs(255-image)\n",
        "# MNIST와 동일하게 data preprocessing(255로 나눠줌)\n",
        "image = image.astype(np.float32)/255.\n",
        "# 화면에 출력하여 확인\n",
        "plt.imshow(image, cmap='gray')\n",
        "plt.show()"
      ],
      "execution_count": null,
      "outputs": []
    },
    {
      "cell_type": "code",
      "metadata": {
        "id": "Kzj2yru_aW_C"
      },
      "source": [
        "image = torch.as_tensor(image).to(device).reshape(1,1,28,28)\n",
        "model.eval()\n",
        "predict = model(image)\n",
        "print(\"Model이 예측한 값은 {} 입니다.\".format(predict.argmax(1).item()))"
      ],
      "execution_count": null,
      "outputs": []
    },
    {
      "cell_type": "markdown",
      "metadata": {
        "id": "Ij2YufhijT8r"
      },
      "source": [
        "### Tensor\n",
        "\n",
        "텐서(tensor)는 배열(array)이나 행렬(matrix)과 매우 유사한 특수한 자료구조입니다. PyTorch에서는 텐서를 사용하여 모델의 입력(input)과 출력(output), 그리고 모델의 매개변수들을 부호화(encode)합니다."
      ]
    },
    {
      "cell_type": "code",
      "metadata": {
        "id": "kZX5qD2yas4W",
        "colab": {
          "base_uri": "https://localhost:8080/"
        },
        "outputId": "628f70d0-daaa-4d21-ecd7-6c9965fb6dc7"
      },
      "source": [
        "# list로부터 직접 tensor 생성하기 \n",
        "data = [[1, 2], [3, 4]]\n",
        "x_data = torch.tensor(data)\n",
        "print(x_data)"
      ],
      "execution_count": null,
      "outputs": [
        {
          "output_type": "stream",
          "name": "stdout",
          "text": [
            "tensor([[1, 2],\n",
            "        [3, 4]])\n"
          ]
        }
      ]
    },
    {
      "cell_type": "code",
      "metadata": {
        "id": "gyl8vKttt7jq",
        "colab": {
          "base_uri": "https://localhost:8080/"
        },
        "outputId": "26806b09-4a65-4246-c89d-6c258d38822d"
      },
      "source": [
        "# numpy array로부터 tensor 생성하기\n",
        "np_array = np.array(data)\n",
        "x_np_1 = torch.tensor(np_array)\n",
        "print(x_np_1)"
      ],
      "execution_count": null,
      "outputs": [
        {
          "output_type": "stream",
          "name": "stdout",
          "text": [
            "tensor([[1, 2],\n",
            "        [3, 4]])\n"
          ]
        }
      ]
    },
    {
      "cell_type": "code",
      "metadata": {
        "id": "NjcTTEfPuEBk",
        "colab": {
          "base_uri": "https://localhost:8080/"
        },
        "outputId": "a78423c7-47b0-41c8-bd4e-2b60e26ad95c"
      },
      "source": [
        "x_np_2 = torch.as_tensor(np_array)\n",
        "print(x_np_2)"
      ],
      "execution_count": null,
      "outputs": [
        {
          "output_type": "stream",
          "name": "stdout",
          "text": [
            "tensor([[1, 2],\n",
            "        [3, 4]])\n"
          ]
        }
      ]
    },
    {
      "cell_type": "code",
      "metadata": {
        "id": "GrhahgRwuK18",
        "colab": {
          "base_uri": "https://localhost:8080/"
        },
        "outputId": "a2a0beb4-c411-4fdd-b237-0ab5903417a9"
      },
      "source": [
        "x_np_3 = torch.from_numpy(np_array)\n",
        "print(x_np_3)"
      ],
      "execution_count": null,
      "outputs": [
        {
          "output_type": "stream",
          "name": "stdout",
          "text": [
            "tensor([[1, 2],\n",
            "        [3, 4]])\n"
          ]
        }
      ]
    },
    {
      "cell_type": "code",
      "metadata": {
        "id": "EP7-VKXZuPSk",
        "colab": {
          "base_uri": "https://localhost:8080/"
        },
        "outputId": "ceed6630-004b-43a5-b03e-520274e40b72"
      },
      "source": [
        "# x_np_1 : copy    x_np_2, x_np_3 : view\n",
        "x_np_1[0,0] = 5\n",
        "print(x_np_1)\n",
        "print(np_array)"
      ],
      "execution_count": null,
      "outputs": [
        {
          "output_type": "stream",
          "name": "stdout",
          "text": [
            "tensor([[5, 2],\n",
            "        [3, 4]])\n",
            "[[1 2]\n",
            " [3 4]]\n"
          ]
        }
      ]
    },
    {
      "cell_type": "code",
      "metadata": {
        "id": "asd0tYpyuVYk",
        "colab": {
          "base_uri": "https://localhost:8080/"
        },
        "outputId": "fbf1c192-201a-43b8-dc17-656b1a4c7b3b"
      },
      "source": [
        "x_np_2[0,0] = 6\n",
        "print(x_np_2)\n",
        "print(np_array)"
      ],
      "execution_count": null,
      "outputs": [
        {
          "output_type": "stream",
          "name": "stdout",
          "text": [
            "tensor([[6, 2],\n",
            "        [3, 4]])\n",
            "[[6 2]\n",
            " [3 4]]\n"
          ]
        }
      ]
    },
    {
      "cell_type": "code",
      "metadata": {
        "id": "dhlhRbXZuakk",
        "colab": {
          "base_uri": "https://localhost:8080/"
        },
        "outputId": "ff919178-2b38-46ea-a7a2-85b1a253ade4"
      },
      "source": [
        "x_np_3[0,0] = 7\n",
        "print(x_np_3)\n",
        "print(np_array)"
      ],
      "execution_count": null,
      "outputs": [
        {
          "output_type": "stream",
          "name": "stdout",
          "text": [
            "tensor([[7, 2],\n",
            "        [3, 4]])\n",
            "[[7 2]\n",
            " [3 4]]\n"
          ]
        }
      ]
    },
    {
      "cell_type": "code",
      "metadata": {
        "id": "sDjZtvbl1t55",
        "colab": {
          "base_uri": "https://localhost:8080/"
        },
        "outputId": "4a4ba293-2751-4fdf-cbea-1fb7682ed5d1"
      },
      "source": [
        "np_again = x_np_1.numpy()\n",
        "print(np_again, type(np_again))"
      ],
      "execution_count": null,
      "outputs": [
        {
          "output_type": "stream",
          "name": "stdout",
          "text": [
            "[[5 2]\n",
            " [3 4]] <class 'numpy.ndarray'>\n"
          ]
        }
      ]
    },
    {
      "cell_type": "code",
      "metadata": {
        "id": "UAJXi6dLukuE",
        "colab": {
          "base_uri": "https://localhost:8080/"
        },
        "outputId": "87910940-a9c2-44ff-ee63-2c7cd47fa8ee"
      },
      "source": [
        "a = torch.ones(2,3)\n",
        "b = torch.zeros(2,3)\n",
        "c = torch.full((2,3), 2)\n",
        "d = torch.empty(2,3)\n",
        "print(a)\n",
        "print(b)\n",
        "print(c)\n",
        "print(d)"
      ],
      "execution_count": null,
      "outputs": [
        {
          "output_type": "stream",
          "name": "stdout",
          "text": [
            "tensor([[1., 1., 1.],\n",
            "        [1., 1., 1.]])\n",
            "tensor([[0., 0., 0.],\n",
            "        [0., 0., 0.]])\n",
            "tensor([[2, 2, 2],\n",
            "        [2, 2, 2]])\n",
            "tensor([[1.4516e-32, 0.0000e+00, 1.1539e-32],\n",
            "        [0.0000e+00, 7.3237e-34, 0.0000e+00]])\n"
          ]
        }
      ]
    },
    {
      "cell_type": "code",
      "metadata": {
        "id": "2hy9UD_9wt8a",
        "colab": {
          "base_uri": "https://localhost:8080/"
        },
        "outputId": "2fb09831-2bcd-42cc-b922-a92f3f6ee6ba"
      },
      "source": [
        "e = torch.zeros_like(c)\n",
        "f = torch.ones_like(c)\n",
        "g = torch.full_like(c, 3)\n",
        "h = torch.empty_like(c)\n",
        "print(e)\n",
        "print(f)\n",
        "print(g)\n",
        "print(h)"
      ],
      "execution_count": null,
      "outputs": [
        {
          "output_type": "stream",
          "name": "stdout",
          "text": [
            "tensor([[0, 0, 0],\n",
            "        [0, 0, 0]])\n",
            "tensor([[1, 1, 1],\n",
            "        [1, 1, 1]])\n",
            "tensor([[3, 3, 3],\n",
            "        [3, 3, 3]])\n",
            "tensor([[          177650944,                  24,          4294967295],\n",
            "        [8171062582517395298, 8243662592152856949, 7310305785198503009]])\n"
          ]
        }
      ]
    },
    {
      "cell_type": "code",
      "metadata": {
        "id": "e_sa93IYw9bf",
        "colab": {
          "base_uri": "https://localhost:8080/"
        },
        "outputId": "3aa0d096-5c5e-4b28-88a3-0be37151ead8"
      },
      "source": [
        "i = torch.eye(3)\n",
        "print(i)"
      ],
      "execution_count": null,
      "outputs": [
        {
          "output_type": "stream",
          "name": "stdout",
          "text": [
            "tensor([[1., 0., 0.],\n",
            "        [0., 1., 0.],\n",
            "        [0., 0., 1.]])\n"
          ]
        }
      ]
    },
    {
      "cell_type": "code",
      "metadata": {
        "id": "KbFJzWSsxGJv",
        "colab": {
          "base_uri": "https://localhost:8080/"
        },
        "outputId": "333b8faa-1b11-4acb-a217-24357b6bf11d"
      },
      "source": [
        "j = torch.arange(10)\n",
        "print(j)"
      ],
      "execution_count": null,
      "outputs": [
        {
          "output_type": "stream",
          "name": "stdout",
          "text": [
            "tensor([0, 1, 2, 3, 4, 5, 6, 7, 8, 9])\n"
          ]
        }
      ]
    },
    {
      "cell_type": "code",
      "metadata": {
        "id": "FxgtCvqru4ID",
        "colab": {
          "base_uri": "https://localhost:8080/"
        },
        "outputId": "df6d5799-69cd-4044-9a56-a37de0cae385"
      },
      "source": [
        "k = torch.rand(2,2)\n",
        "l = torch.randn(2,2)\n",
        "print(k)\n",
        "print(l)"
      ],
      "execution_count": null,
      "outputs": [
        {
          "output_type": "stream",
          "name": "stdout",
          "text": [
            "tensor([[0.5587, 0.6343],\n",
            "        [0.0332, 0.5469]])\n",
            "tensor([[-0.1748,  0.0909],\n",
            "        [-0.5145,  0.1114]])\n"
          ]
        }
      ]
    },
    {
      "cell_type": "markdown",
      "metadata": {
        "id": "Ybi6d3J6xcg_"
      },
      "source": [
        "#### Tensor의 속성"
      ]
    },
    {
      "cell_type": "code",
      "metadata": {
        "id": "3HUKWFr6vV0j",
        "colab": {
          "base_uri": "https://localhost:8080/"
        },
        "outputId": "4105a2c4-b870-475b-b1f2-9a854baae1ac"
      },
      "source": [
        "tensor = torch.rand(3,4)\n",
        "\n",
        "print(f\"Shape of tensor: {tensor.shape}\")\n",
        "print(f\"Datatype of tensor: {tensor.dtype}\")\n",
        "print(f\"Device tensor is stored on: {tensor.device}\")"
      ],
      "execution_count": null,
      "outputs": [
        {
          "output_type": "stream",
          "name": "stdout",
          "text": [
            "Shape of tensor: torch.Size([3, 4])\n",
            "Datatype of tensor: torch.float32\n",
            "Device tensor is stored on: cpu\n"
          ]
        }
      ]
    },
    {
      "cell_type": "code",
      "metadata": {
        "id": "OqBxAjy_yrEA",
        "colab": {
          "base_uri": "https://localhost:8080/"
        },
        "outputId": "b1c80d78-21bc-4656-8de9-1e9fa8ad6e4e"
      },
      "source": [
        "# 속성 변경\n",
        "tensor = tensor.reshape(4,3)\n",
        "tensor = tensor.int()\n",
        "if torch.cuda.is_available():\n",
        "  tensor = tensor.to('cuda')\n",
        "\n",
        "print(f\"Shape of tensor: {tensor.shape}\")\n",
        "print(f\"Datatype of tensor: {tensor.dtype}\")\n",
        "print(f\"Device tensor is stored on: {tensor.device}\")"
      ],
      "execution_count": null,
      "outputs": [
        {
          "output_type": "stream",
          "name": "stdout",
          "text": [
            "Shape of tensor: torch.Size([4, 3])\n",
            "Datatype of tensor: torch.int32\n",
            "Device tensor is stored on: cuda:0\n"
          ]
        }
      ]
    },
    {
      "cell_type": "markdown",
      "metadata": {
        "id": "iiC7ViT1yMyP"
      },
      "source": [
        "### Indexing과 Slicing"
      ]
    },
    {
      "cell_type": "code",
      "metadata": {
        "id": "e_mwMvjryMGR",
        "colab": {
          "base_uri": "https://localhost:8080/"
        },
        "outputId": "1a03b928-8dd3-42ad-e765-4a7d7d985df5"
      },
      "source": [
        "a = torch.arange(1, 13).reshape(3, 4)\n",
        "print(a)"
      ],
      "execution_count": null,
      "outputs": [
        {
          "output_type": "stream",
          "name": "stdout",
          "text": [
            "tensor([[ 1,  2,  3,  4],\n",
            "        [ 5,  6,  7,  8],\n",
            "        [ 9, 10, 11, 12]])\n"
          ]
        }
      ]
    },
    {
      "cell_type": "code",
      "metadata": {
        "id": "uM0X_yiTxVS6",
        "colab": {
          "base_uri": "https://localhost:8080/"
        },
        "outputId": "d89cf596-3270-4443-bd18-853ea8bc02b4"
      },
      "source": [
        "# indexing\n",
        "print(a[1])\n",
        "print(a[0,-1])"
      ],
      "execution_count": null,
      "outputs": [
        {
          "output_type": "stream",
          "name": "stdout",
          "text": [
            "tensor([5, 6, 7, 8])\n",
            "tensor(4)\n"
          ]
        }
      ]
    },
    {
      "cell_type": "code",
      "metadata": {
        "id": "hne1WelrxV-c",
        "colab": {
          "base_uri": "https://localhost:8080/"
        },
        "outputId": "3376336a-0a4a-46cc-df0e-383218d7fec4"
      },
      "source": [
        "# slicing\n",
        "print(a[1:-1])\n",
        "print(a[:2, 2:])"
      ],
      "execution_count": null,
      "outputs": [
        {
          "output_type": "stream",
          "name": "stdout",
          "text": [
            "tensor([[5, 6, 7, 8]])\n",
            "tensor([[3, 4],\n",
            "        [7, 8]])\n"
          ]
        }
      ]
    },
    {
      "cell_type": "markdown",
      "metadata": {
        "id": "0LDBFZ7GzyB5"
      },
      "source": [
        "### Transpose"
      ]
    },
    {
      "cell_type": "code",
      "metadata": {
        "id": "yPHd8DjiynMM",
        "colab": {
          "base_uri": "https://localhost:8080/"
        },
        "outputId": "c8437855-7583-43ec-aa55-d0424836d98f"
      },
      "source": [
        "a = torch.arange(16).reshape(2,2,4)\n",
        "print(a, a.shape)"
      ],
      "execution_count": null,
      "outputs": [
        {
          "output_type": "stream",
          "name": "stdout",
          "text": [
            "tensor([[[ 0,  1,  2,  3],\n",
            "         [ 4,  5,  6,  7]],\n",
            "\n",
            "        [[ 8,  9, 10, 11],\n",
            "         [12, 13, 14, 15]]]) torch.Size([2, 2, 4])\n"
          ]
        }
      ]
    },
    {
      "cell_type": "code",
      "metadata": {
        "id": "ihgjJ7z1z45s",
        "colab": {
          "base_uri": "https://localhost:8080/"
        },
        "outputId": "a745fd62-7cdb-450e-f636-e2e5ba1c99f0"
      },
      "source": [
        "b = a.transpose(1, 2)\n",
        "print(b, b.shape)"
      ],
      "execution_count": null,
      "outputs": [
        {
          "output_type": "stream",
          "name": "stdout",
          "text": [
            "tensor([[[ 0,  4],\n",
            "         [ 1,  5],\n",
            "         [ 2,  6],\n",
            "         [ 3,  7]],\n",
            "\n",
            "        [[ 8, 12],\n",
            "         [ 9, 13],\n",
            "         [10, 14],\n",
            "         [11, 15]]]) torch.Size([2, 4, 2])\n"
          ]
        }
      ]
    },
    {
      "cell_type": "code",
      "metadata": {
        "id": "17QBnkcUz_j1",
        "colab": {
          "base_uri": "https://localhost:8080/"
        },
        "outputId": "1bd69296-8edc-4c74-b104-a4e999bde398"
      },
      "source": [
        "c = a.permute((2, 0, 1))\n",
        "print(c, c.shape)"
      ],
      "execution_count": null,
      "outputs": [
        {
          "output_type": "stream",
          "name": "stdout",
          "text": [
            "tensor([[[ 0,  4],\n",
            "         [ 8, 12]],\n",
            "\n",
            "        [[ 1,  5],\n",
            "         [ 9, 13]],\n",
            "\n",
            "        [[ 2,  6],\n",
            "         [10, 14]],\n",
            "\n",
            "        [[ 3,  7],\n",
            "         [11, 15]]]) torch.Size([4, 2, 2])\n"
          ]
        }
      ]
    },
    {
      "cell_type": "markdown",
      "metadata": {
        "id": "Zs8pjQEk0Xq5"
      },
      "source": [
        "### Tensor 연산"
      ]
    },
    {
      "cell_type": "code",
      "metadata": {
        "id": "gAzq1rhW0ELt",
        "colab": {
          "base_uri": "https://localhost:8080/"
        },
        "outputId": "7c970ab6-cbec-4243-d82e-a0ca192547ee"
      },
      "source": [
        "x = torch.tensor([[1,2], [3,4]], dtype=torch.float32)\n",
        "y = torch.tensor([[5,6], [7,8]], dtype=torch.float32)\n",
        "print(x)\n",
        "print(y)"
      ],
      "execution_count": null,
      "outputs": [
        {
          "output_type": "stream",
          "name": "stdout",
          "text": [
            "tensor([[1., 2.],\n",
            "        [3., 4.]])\n",
            "tensor([[5., 6.],\n",
            "        [7., 8.]])\n"
          ]
        }
      ]
    },
    {
      "cell_type": "code",
      "metadata": {
        "id": "7hewUZsy0mBW",
        "colab": {
          "base_uri": "https://localhost:8080/"
        },
        "outputId": "98cae92d-456b-46d4-adc8-ddb83269efe0"
      },
      "source": [
        "print(x + y)\n",
        "print(x - y)\n",
        "print(x * y)\n",
        "print(x / y)\n",
        "print(x @ y)\n",
        "print('='*30)\n",
        "print(torch.add(x, y))\n",
        "print(torch.subtract(x, y))\n",
        "print(torch.multiply(x, y))\n",
        "print(torch.divide(x, y))\n",
        "print(torch.matmul(x, y))"
      ],
      "execution_count": null,
      "outputs": [
        {
          "output_type": "stream",
          "name": "stdout",
          "text": [
            "tensor([[ 6.,  8.],\n",
            "        [10., 12.]])\n",
            "tensor([[-4., -4.],\n",
            "        [-4., -4.]])\n",
            "tensor([[ 5., 12.],\n",
            "        [21., 32.]])\n",
            "tensor([[0.2000, 0.3333],\n",
            "        [0.4286, 0.5000]])\n",
            "tensor([[19., 22.],\n",
            "        [43., 50.]])\n",
            "==============================\n",
            "tensor([[ 6.,  8.],\n",
            "        [10., 12.]])\n",
            "tensor([[-4., -4.],\n",
            "        [-4., -4.]])\n",
            "tensor([[ 5., 12.],\n",
            "        [21., 32.]])\n",
            "tensor([[0.2000, 0.3333],\n",
            "        [0.4286, 0.5000]])\n",
            "tensor([[19., 22.],\n",
            "        [43., 50.]])\n"
          ]
        }
      ]
    },
    {
      "cell_type": "code",
      "metadata": {
        "id": "HyQBtTjY1b37",
        "colab": {
          "base_uri": "https://localhost:8080/"
        },
        "outputId": "900dbee2-be45-4277-f3ba-407d68db235c"
      },
      "source": [
        "# in-place 연산\n",
        "print(x.add(y)) # x + y, x값은 그대로\n",
        "print(x)\n",
        "print(x.add_(y)) # _ 있으면 x값도 변경됨\n",
        "print(x)"
      ],
      "execution_count": null,
      "outputs": [
        {
          "output_type": "stream",
          "name": "stdout",
          "text": [
            "tensor([[ 6.,  8.],\n",
            "        [10., 12.]])\n",
            "tensor([[1., 2.],\n",
            "        [3., 4.]])\n",
            "tensor([[ 6.,  8.],\n",
            "        [10., 12.]])\n",
            "tensor([[ 6.,  8.],\n",
            "        [10., 12.]])\n"
          ]
        }
      ]
    },
    {
      "cell_type": "code",
      "metadata": {
        "id": "PryILS5s09cd",
        "colab": {
          "base_uri": "https://localhost:8080/"
        },
        "outputId": "fa107dfc-2230-4862-e7b2-c55513411060"
      },
      "source": [
        "z = torch.arange(1, 11).reshape(2, 5)\n",
        "print(z)"
      ],
      "execution_count": null,
      "outputs": [
        {
          "output_type": "stream",
          "name": "stdout",
          "text": [
            "tensor([[ 1,  2,  3,  4,  5],\n",
            "        [ 6,  7,  8,  9, 10]])\n"
          ]
        }
      ]
    },
    {
      "cell_type": "code",
      "metadata": {
        "id": "yH3_rGlI1KlV",
        "colab": {
          "base_uri": "https://localhost:8080/"
        },
        "outputId": "9503708b-cd13-4e03-d3a8-b308d1fecb79"
      },
      "source": [
        "sum1 = torch.sum(z, axis=0)\n",
        "sum2 = torch.sum(z, axis=1)\n",
        "sum3 = torch.sum(z, axis=-1)\n",
        "print(sum1, sum1.shape)\n",
        "print(sum2, sum2.shape)\n",
        "print(sum3, sum3.shape)"
      ],
      "execution_count": null,
      "outputs": [
        {
          "output_type": "stream",
          "name": "stdout",
          "text": [
            "tensor([ 7,  9, 11, 13, 15]) torch.Size([5])\n",
            "tensor([15, 40]) torch.Size([2])\n",
            "tensor([15, 40]) torch.Size([2])\n"
          ]
        }
      ]
    },
    {
      "cell_type": "code",
      "metadata": {
        "id": "BLH0MpQL1OlN",
        "colab": {
          "base_uri": "https://localhost:8080/"
        },
        "outputId": "4e635854-8745-4987-9b7a-601d00ad5dce"
      },
      "source": [
        "a = torch.arange(24).reshape(4, 6)\n",
        "b = a.clone().detach() # clone().detach() : b가 a를 복사\n",
        "print(a, a.shape)\n",
        "print(b, b.shape)"
      ],
      "execution_count": null,
      "outputs": [
        {
          "output_type": "stream",
          "name": "stdout",
          "text": [
            "tensor([[ 0,  1,  2,  3,  4,  5],\n",
            "        [ 6,  7,  8,  9, 10, 11],\n",
            "        [12, 13, 14, 15, 16, 17],\n",
            "        [18, 19, 20, 21, 22, 23]]) torch.Size([4, 6])\n",
            "tensor([[ 0,  1,  2,  3,  4,  5],\n",
            "        [ 6,  7,  8,  9, 10, 11],\n",
            "        [12, 13, 14, 15, 16, 17],\n",
            "        [18, 19, 20, 21, 22, 23]]) torch.Size([4, 6])\n"
          ]
        }
      ]
    },
    {
      "cell_type": "code",
      "metadata": {
        "id": "TmqvBX6w2IFu",
        "colab": {
          "base_uri": "https://localhost:8080/"
        },
        "outputId": "f8849ee4-41bb-4216-cd10-5c8785e480e2"
      },
      "source": [
        "c = torch.cat([a, b], axis=0)\n",
        "print(c, c.shape)"
      ],
      "execution_count": null,
      "outputs": [
        {
          "output_type": "stream",
          "name": "stdout",
          "text": [
            "tensor([[ 0,  1,  2,  3,  4,  5],\n",
            "        [ 6,  7,  8,  9, 10, 11],\n",
            "        [12, 13, 14, 15, 16, 17],\n",
            "        [18, 19, 20, 21, 22, 23],\n",
            "        [ 0,  1,  2,  3,  4,  5],\n",
            "        [ 6,  7,  8,  9, 10, 11],\n",
            "        [12, 13, 14, 15, 16, 17],\n",
            "        [18, 19, 20, 21, 22, 23]]) torch.Size([8, 6])\n"
          ]
        }
      ]
    },
    {
      "cell_type": "code",
      "metadata": {
        "id": "uoUGG-PU2y0O",
        "colab": {
          "base_uri": "https://localhost:8080/"
        },
        "outputId": "d6c2f937-04bc-4874-e80e-73a9e22ba294"
      },
      "source": [
        "c = torch.cat([a, b], axis=-1)\n",
        "print(c, c.shape)"
      ],
      "execution_count": null,
      "outputs": [
        {
          "output_type": "stream",
          "name": "stdout",
          "text": [
            "tensor([[ 0,  1,  2,  3,  4,  5,  0,  1,  2,  3,  4,  5],\n",
            "        [ 6,  7,  8,  9, 10, 11,  6,  7,  8,  9, 10, 11],\n",
            "        [12, 13, 14, 15, 16, 17, 12, 13, 14, 15, 16, 17],\n",
            "        [18, 19, 20, 21, 22, 23, 18, 19, 20, 21, 22, 23]]) torch.Size([4, 12])\n"
          ]
        }
      ]
    },
    {
      "cell_type": "code",
      "metadata": {
        "id": "c36QSNnY264-",
        "colab": {
          "base_uri": "https://localhost:8080/"
        },
        "outputId": "d05bf58d-3ffb-4b7a-d91b-88eb1e4be35a"
      },
      "source": [
        "d = torch.stack([a, b], axis=0) # stack : 축을 하나 더 만들어냄\n",
        "print(d, d.shape)"
      ],
      "execution_count": null,
      "outputs": [
        {
          "output_type": "stream",
          "name": "stdout",
          "text": [
            "tensor([[[ 0,  1,  2,  3,  4,  5],\n",
            "         [ 6,  7,  8,  9, 10, 11],\n",
            "         [12, 13, 14, 15, 16, 17],\n",
            "         [18, 19, 20, 21, 22, 23]],\n",
            "\n",
            "        [[ 0,  1,  2,  3,  4,  5],\n",
            "         [ 6,  7,  8,  9, 10, 11],\n",
            "         [12, 13, 14, 15, 16, 17],\n",
            "         [18, 19, 20, 21, 22, 23]]]) torch.Size([2, 4, 6])\n"
          ]
        }
      ]
    },
    {
      "cell_type": "code",
      "metadata": {
        "id": "9o3GPwPM2-Me",
        "colab": {
          "base_uri": "https://localhost:8080/"
        },
        "outputId": "cf4fa97b-e78f-42e2-a536-3a8d29224f89"
      },
      "source": [
        "d = torch.stack([a, b], axis=-1)\n",
        "print(d, d.shape)"
      ],
      "execution_count": null,
      "outputs": [
        {
          "output_type": "stream",
          "name": "stdout",
          "text": [
            "tensor([[[ 0,  0],\n",
            "         [ 1,  1],\n",
            "         [ 2,  2],\n",
            "         [ 3,  3],\n",
            "         [ 4,  4],\n",
            "         [ 5,  5]],\n",
            "\n",
            "        [[ 6,  6],\n",
            "         [ 7,  7],\n",
            "         [ 8,  8],\n",
            "         [ 9,  9],\n",
            "         [10, 10],\n",
            "         [11, 11]],\n",
            "\n",
            "        [[12, 12],\n",
            "         [13, 13],\n",
            "         [14, 14],\n",
            "         [15, 15],\n",
            "         [16, 16],\n",
            "         [17, 17]],\n",
            "\n",
            "        [[18, 18],\n",
            "         [19, 19],\n",
            "         [20, 20],\n",
            "         [21, 21],\n",
            "         [22, 22],\n",
            "         [23, 23]]]) torch.Size([4, 6, 2])\n"
          ]
        }
      ]
    },
    {
      "cell_type": "markdown",
      "metadata": {
        "id": "8HEaHRVw3Noy"
      },
      "source": [
        "## Dataset / Dataloader\n",
        "\n",
        "Data를 처리하여 model에 공급하는 방법으로 Pytorch에서는 Dataset과 DataLoader를 제공합니다.\n",
        "\n",
        "Dataset은 data와 label을 저장하고, DataLoader는 Dataset을 model에 공급할 수 있도록 iterable 객체로 감싸줍니다."
      ]
    },
    {
      "cell_type": "markdown",
      "metadata": {
        "id": "pJBl5rK132CD"
      },
      "source": [
        "### FasionMNIST data 불러오기"
      ]
    },
    {
      "cell_type": "code",
      "metadata": {
        "id": "zH1pEvzUGv-7"
      },
      "source": [
        "from torch.utils.data import Dataset, DataLoader\n",
        "import torchvision.transforms as tr"
      ],
      "execution_count": null,
      "outputs": []
    },
    {
      "cell_type": "code",
      "metadata": {
        "id": "Pq87kH2t2_8W",
        "colab": {
          "base_uri": "https://localhost:8080/",
          "height": 455,
          "referenced_widgets": [
            "b07a886e607c472e86f2244754f5a054",
            "dcbc847b5e5f4af2b4f6229452aabd2f",
            "1227780dfaa04544b343ee3bad9a4f58",
            "1f4adfe650a844cdad4033744f7f1f2e",
            "d639006ce2d140a2bb6ec5899f34efd6",
            "3e774a03c17a4f4088ca4029b8ce3472",
            "c6e33c88eddc41c28c9c63633841972e",
            "431af3109d4146879f2b492a0b0b40de",
            "913f8cbdbd6c4f668119b2c5e9330dad",
            "ffe751003dc54a19bbedcf6251570b3b",
            "2b3537a8b39d4fa4b65f591a02c2b96d",
            "0fbaff4958a349dba8eebb6a768ab8fb",
            "028c022bb4454f85a105dbcfbc4e0901",
            "fd9690cc64194d39ae86a251261004c3",
            "f0a6c823f8664b708fbedbb7dde0e6ff",
            "21efb6475e594bd184fcafe8729b5f54",
            "bb1ddf7b43af44ba96fa35682ae8acf7",
            "cec4fbea6efd4f7b9c9b4372a3ce2907",
            "2897ffba76514cac9c26a7b2377ea662",
            "a8924b42f48c4112a78eb9b0b7e9db8e",
            "d755e7f39ca843f2aac43d1d4e9aa305",
            "bbaa11d7afca4ccea5b8673d82306a03",
            "ec3869c9c4f64f14816695e45ffcdd5d",
            "e9279971817446a7bce3dee15a5b6c65",
            "644f827b26a545d1b69cb9cf7d724263",
            "a8b0bff6c9f748daa3599829e4dfc298",
            "1e3f8e3325c74309b9376f0c6217f505",
            "c00bd16240d848fcb46d6679bc6f315c",
            "860e9ae6a0184d39b6c21817c77d82af",
            "24cff0fa7cd3409fa4842a7d5ecea454",
            "5f353f6e4f2e4bf69f1a9c45e11a7a7a",
            "d16ea93670a94763b88ba5a240792506",
            "bfac47d68a86493c98d3d3edff6d52db",
            "bffa1de30a554bb8b8507a1d9c3696e1",
            "9523950a964041c99c4d1b91c4353a93",
            "8136e7f1a9af4615a8b4091f6ee086c7",
            "4f43aa00ed274ad59a645a4062f224f2",
            "eb436d07074749d8896e172423896a72",
            "b5cd17dd850e4bfeb14c2439733967f2",
            "4f49bf2b558a41949aeb1137c431f26d",
            "d662a344e8e642068edeebfecb0f928e",
            "2a4ba989a2f148f88b6f6ed85014b039",
            "ccb18fce4efc48c5afa981b6ac2495b2",
            "2b936ea4590c4f639bba39bd236d21fa"
          ]
        },
        "outputId": "af6fa81c-8dc8-48d7-a9db-4fbdeca4eb89"
      },
      "source": [
        "training_data = datasets.FashionMNIST(\n",
        "    root=\"data\", # root : 저장할 디렉토리의 이름\n",
        "    train=True,\n",
        "    download=True,\n",
        "    transform=ToTensor() # 데이터 전처리, ToTensor() : 텐서로 변경, 0~1까지의 값으로\n",
        ")\n",
        "\n",
        "test_data = datasets.FashionMNIST(\n",
        "    root=\"data\",\n",
        "    train=False,\n",
        "    download=True,\n",
        "    transform=ToTensor()\n",
        ")"
      ],
      "execution_count": null,
      "outputs": [
        {
          "output_type": "stream",
          "name": "stdout",
          "text": [
            "Downloading http://fashion-mnist.s3-website.eu-central-1.amazonaws.com/train-images-idx3-ubyte.gz\n",
            "Downloading http://fashion-mnist.s3-website.eu-central-1.amazonaws.com/train-images-idx3-ubyte.gz to data/FashionMNIST/raw/train-images-idx3-ubyte.gz\n"
          ]
        },
        {
          "output_type": "display_data",
          "data": {
            "text/plain": [
              "  0%|          | 0/26421880 [00:00<?, ?it/s]"
            ],
            "application/vnd.jupyter.widget-view+json": {
              "version_major": 2,
              "version_minor": 0,
              "model_id": "b07a886e607c472e86f2244754f5a054"
            }
          },
          "metadata": {}
        },
        {
          "output_type": "stream",
          "name": "stdout",
          "text": [
            "Extracting data/FashionMNIST/raw/train-images-idx3-ubyte.gz to data/FashionMNIST/raw\n",
            "\n",
            "Downloading http://fashion-mnist.s3-website.eu-central-1.amazonaws.com/train-labels-idx1-ubyte.gz\n",
            "Downloading http://fashion-mnist.s3-website.eu-central-1.amazonaws.com/train-labels-idx1-ubyte.gz to data/FashionMNIST/raw/train-labels-idx1-ubyte.gz\n"
          ]
        },
        {
          "output_type": "display_data",
          "data": {
            "text/plain": [
              "  0%|          | 0/29515 [00:00<?, ?it/s]"
            ],
            "application/vnd.jupyter.widget-view+json": {
              "version_major": 2,
              "version_minor": 0,
              "model_id": "0fbaff4958a349dba8eebb6a768ab8fb"
            }
          },
          "metadata": {}
        },
        {
          "output_type": "stream",
          "name": "stdout",
          "text": [
            "Extracting data/FashionMNIST/raw/train-labels-idx1-ubyte.gz to data/FashionMNIST/raw\n",
            "\n",
            "Downloading http://fashion-mnist.s3-website.eu-central-1.amazonaws.com/t10k-images-idx3-ubyte.gz\n",
            "Downloading http://fashion-mnist.s3-website.eu-central-1.amazonaws.com/t10k-images-idx3-ubyte.gz to data/FashionMNIST/raw/t10k-images-idx3-ubyte.gz\n"
          ]
        },
        {
          "output_type": "display_data",
          "data": {
            "text/plain": [
              "  0%|          | 0/4422102 [00:00<?, ?it/s]"
            ],
            "application/vnd.jupyter.widget-view+json": {
              "version_major": 2,
              "version_minor": 0,
              "model_id": "ec3869c9c4f64f14816695e45ffcdd5d"
            }
          },
          "metadata": {}
        },
        {
          "output_type": "stream",
          "name": "stdout",
          "text": [
            "Extracting data/FashionMNIST/raw/t10k-images-idx3-ubyte.gz to data/FashionMNIST/raw\n",
            "\n",
            "Downloading http://fashion-mnist.s3-website.eu-central-1.amazonaws.com/t10k-labels-idx1-ubyte.gz\n",
            "Downloading http://fashion-mnist.s3-website.eu-central-1.amazonaws.com/t10k-labels-idx1-ubyte.gz to data/FashionMNIST/raw/t10k-labels-idx1-ubyte.gz\n"
          ]
        },
        {
          "output_type": "display_data",
          "data": {
            "text/plain": [
              "  0%|          | 0/5148 [00:00<?, ?it/s]"
            ],
            "application/vnd.jupyter.widget-view+json": {
              "version_major": 2,
              "version_minor": 0,
              "model_id": "bffa1de30a554bb8b8507a1d9c3696e1"
            }
          },
          "metadata": {}
        },
        {
          "output_type": "stream",
          "name": "stdout",
          "text": [
            "Extracting data/FashionMNIST/raw/t10k-labels-idx1-ubyte.gz to data/FashionMNIST/raw\n",
            "\n"
          ]
        }
      ]
    },
    {
      "cell_type": "markdown",
      "metadata": {
        "id": "EcBC4NAm3_Rr"
      },
      "source": [
        "### 데이터 시각화하기"
      ]
    },
    {
      "cell_type": "code",
      "metadata": {
        "id": "e4sJcQTr36nv",
        "colab": {
          "base_uri": "https://localhost:8080/",
          "height": 482
        },
        "outputId": "6e987439-d00f-4643-f436-f7090ee6a30f"
      },
      "source": [
        "labels_map = {\n",
        "    0: \"T-Shirt\",\n",
        "    1: \"Trouser\",\n",
        "    2: \"Pullover\",\n",
        "    3: \"Dress\",\n",
        "    4: \"Coat\",\n",
        "    5: \"Sandal\",\n",
        "    6: \"Shirt\",\n",
        "    7: \"Sneaker\",\n",
        "    8: \"Bag\",\n",
        "    9: \"Ankle Boot\",\n",
        "}\n",
        "figure = plt.figure(figsize=(8, 8))\n",
        "cols, rows = 3, 3\n",
        "for i in range(1, cols * rows + 1):\n",
        "    sample_idx = torch.randint(len(training_data), size=(1,)).item()\n",
        "    img, label = training_data[sample_idx]\n",
        "    figure.add_subplot(rows, cols, i)\n",
        "    plt.title(labels_map[label])\n",
        "    plt.axis(\"off\")\n",
        "    plt.imshow(img.squeeze(), cmap=\"gray\")\n",
        "plt.show()"
      ],
      "execution_count": null,
      "outputs": [
        {
          "output_type": "display_data",
          "data": {
            "text/plain": [
              "<Figure size 576x576 with 9 Axes>"
            ],
            "image/png": "[encoded data removed]"
          },
          "metadata": {
            "needs_background": "light"
          }
        }
      ]
    },
    {
      "cell_type": "markdown",
      "metadata": {
        "id": "vNeINRxdHYb7"
      },
      "source": [
        "### DataLoader 만들기"
      ]
    },
    {
      "cell_type": "code",
      "metadata": {
        "id": "WOiMGBbgGpwb"
      },
      "source": [
        "# DataLoader 만들기\n",
        "train_dataloader = DataLoader(training_data, batch_size=64, shuffle=True)\n",
        "test_dataloader = DataLoader(test_data, batch_size=64, shuffle=False)"
      ],
      "execution_count": null,
      "outputs": []
    },
    {
      "cell_type": "code",
      "metadata": {
        "id": "DDlvthoZGpzU",
        "colab": {
          "base_uri": "https://localhost:8080/",
          "height": 319
        },
        "outputId": "ad31a802-440f-4ff0-82d7-20499a5c09df"
      },
      "source": [
        "# DataLoader를 통해 반복하기(iterate)\n",
        "# 이미지와 정답(label)을 표시합니다.\n",
        "train_features, train_labels = next(iter(train_dataloader))\n",
        "print(f\"Feature batch shape: {train_features.size()}\")\n",
        "print(f\"Labels batch shape: {train_labels.size()}\")\n",
        "# pytorch -> 채널 기본적으로 만들어줌\n",
        "# But matplotlib에서는 채널이 없어야 그려짐 -> 채널을 없애주는 squeeze() 사용\n",
        "img = train_features[0].squeeze()\n",
        "label = train_labels[0]\n",
        "plt.imshow(img, cmap=\"gray\")\n",
        "plt.show()\n",
        "print(f\"Label: {label}\")"
      ],
      "execution_count": null,
      "outputs": [
        {
          "output_type": "stream",
          "name": "stdout",
          "text": [
            "Feature batch shape: torch.Size([64, 1, 28, 28])\n",
            "Labels batch shape: torch.Size([64])\n"
          ]
        },
        {
          "output_type": "display_data",
          "data": {
            "text/plain": [
              "<Figure size 432x288 with 1 Axes>"
            ],
            "image/png": "[encoded data removed]"
          },
          "metadata": {
            "needs_background": "light"
          }
        },
        {
          "output_type": "stream",
          "name": "stdout",
          "text": [
            "Label: 9\n"
          ]
        }
      ]
    },
    {
      "cell_type": "markdown",
      "metadata": {
        "id": "j3LsVobUHass"
      },
      "source": [
        "### Custom Dataset, Data Loader 만들기"
      ]
    },
    {
      "cell_type": "code",
      "metadata": {
        "id": "AZHsPRBc4Ddn"
      },
      "source": [
        "# 간단한 Custom Dataset/Transform/DataLoader 만들기\n",
        "\n",
        "class CustomDataset(Dataset):\n",
        "  def __init__(self, np_data, transform=None): # data 받아오기\n",
        "    self.data = np_data\n",
        "    self.transform = transform\n",
        "    self.len = np_data.shape[0]\n",
        "  def __len__(self): # data 전체 개수 알려줌\n",
        "    return self.len\n",
        "  def __getitem__(self, idx): # idx에 해당되는 item을 리턴   \n",
        "    sample = self.data[idx]\n",
        "    if self.transform:\n",
        "      sample = self.transform(sample)\n",
        "    return sample"
      ],
      "execution_count": null,
      "outputs": []
    },
    {
      "cell_type": "code",
      "metadata": {
        "id": "6-0Eztv9GwSR"
      },
      "source": [
        "def square(sample):\n",
        "  return sample**2"
      ],
      "execution_count": null,
      "outputs": []
    },
    {
      "cell_type": "code",
      "metadata": {
        "id": "-ahheTBjGJE3"
      },
      "source": [
        "trans = tr.Compose([square]) # data의 transform 설정"
      ],
      "execution_count": null,
      "outputs": []
    },
    {
      "cell_type": "code",
      "metadata": {
        "id": "IMGw6_wTDkP6"
      },
      "source": [
        "np_data = np.arange(10)\n",
        "\n",
        "custom_dataset = CustomDataset(np_data, transform=trans)"
      ],
      "execution_count": null,
      "outputs": []
    },
    {
      "cell_type": "code",
      "metadata": {
        "id": "rjfLJqfdD1CS"
      },
      "source": [
        "custom_dataloader = DataLoader(custom_dataset, batch_size=2, shuffle=True)"
      ],
      "execution_count": null,
      "outputs": []
    },
    {
      "cell_type": "code",
      "metadata": {
        "id": "OijYYFTHD_Xy",
        "colab": {
          "base_uri": "https://localhost:8080/"
        },
        "outputId": "a75b955f-6f6f-425f-80d5-2e4af27a83ee"
      },
      "source": [
        "for _ in range(3):\n",
        "  for data in custom_dataloader:\n",
        "    print(data)\n",
        "  print(\"=\"*20)"
      ],
      "execution_count": null,
      "outputs": [
        {
          "output_type": "stream",
          "name": "stdout",
          "text": [
            "tensor([ 9, 16])\n",
            "tensor([ 0, 64])\n",
            "tensor([49, 81])\n",
            "tensor([4, 1])\n",
            "tensor([36, 25])\n",
            "====================\n",
            "tensor([36, 49])\n",
            "tensor([81, 25])\n",
            "tensor([4, 0])\n",
            "tensor([64,  1])\n",
            "tensor([ 9, 16])\n",
            "====================\n",
            "tensor([64, 81])\n",
            "tensor([16,  1])\n",
            "tensor([25, 36])\n",
            "tensor([ 4, 49])\n",
            "tensor([9, 0])\n",
            "====================\n"
          ]
        }
      ]
    },
    {
      "cell_type": "markdown",
      "metadata": {
        "id": "RBIhASxPHgDb"
      },
      "source": [
        "## Model"
      ]
    },
    {
      "cell_type": "code",
      "metadata": {
        "id": "v1CP4rACEJxd",
        "colab": {
          "base_uri": "https://localhost:8080/"
        },
        "outputId": "1d722fd9-068a-4c5b-8c85-1bccf970f6b2"
      },
      "source": [
        "# device 설정\n",
        "device = 'cuda' if torch.cuda.is_available() else 'cpu'\n",
        "print('Using {} device'.format(device))"
      ],
      "execution_count": null,
      "outputs": [
        {
          "output_type": "stream",
          "name": "stdout",
          "text": [
            "Using cuda device\n"
          ]
        }
      ]
    },
    {
      "cell_type": "markdown",
      "metadata": {
        "id": "FVDCYr85H-5j"
      },
      "source": [
        "### Model class 만들기"
      ]
    },
    {
      "cell_type": "code",
      "metadata": {
        "id": "ZbtUxoUbH7Pe"
      },
      "source": [
        "class NeuralNetwork(nn.Module):\n",
        "    def __init__(self):\n",
        "        super(NeuralNetwork, self).__init__()\n",
        "        self.flatten = nn.Flatten()\n",
        "        self.linear_relu_stack = nn.Sequential(\n",
        "            nn.Linear(28*28, 128),\n",
        "            nn.ReLU(),\n",
        "            nn.Dropout(0.2),            \n",
        "            nn.Linear(128, 10)\n",
        "        )\n",
        "\n",
        "    def forward(self, x):\n",
        "        x = self.flatten(x)\n",
        "        logits = self.linear_relu_stack(x)\n",
        "        return logits"
      ],
      "execution_count": null,
      "outputs": []
    },
    {
      "cell_type": "code",
      "metadata": {
        "id": "0eXhySj6IJaW",
        "colab": {
          "base_uri": "https://localhost:8080/"
        },
        "outputId": "e5bf66ed-a435-4d4c-917c-109491904ef4"
      },
      "source": [
        "# Model instance 생성, device 설정\n",
        "model = NeuralNetwork().to(device)\n",
        "print(model)"
      ],
      "execution_count": null,
      "outputs": [
        {
          "output_type": "stream",
          "name": "stdout",
          "text": [
            "NeuralNetwork(\n",
            "  (flatten): Flatten(start_dim=1, end_dim=-1)\n",
            "  (linear_relu_stack): Sequential(\n",
            "    (0): Linear(in_features=784, out_features=128, bias=True)\n",
            "    (1): ReLU()\n",
            "    (2): Dropout(p=0.2, inplace=False)\n",
            "    (3): Linear(in_features=128, out_features=10, bias=True)\n",
            "  )\n",
            ")\n"
          ]
        }
      ]
    },
    {
      "cell_type": "code",
      "metadata": {
        "id": "Z_k0QBI2INoW",
        "colab": {
          "base_uri": "https://localhost:8080/"
        },
        "outputId": "95e89a75-8609-4967-b066-ca5fd18613af"
      },
      "source": [
        "# 가상의 data 만들어서 예측해보기\n",
        "X = torch.rand(1, 28, 28, device=device)\n",
        "logits = model(X)\n",
        "pred_probab = nn.Softmax(dim=1)(logits)\n",
        "y_pred = pred_probab.argmax(1)\n",
        "print(f\"Predicted class: {y_pred}\")"
      ],
      "execution_count": null,
      "outputs": [
        {
          "output_type": "stream",
          "name": "stdout",
          "text": [
            "Predicted class: tensor([0], device='cuda:0')\n"
          ]
        }
      ]
    },
    {
      "cell_type": "markdown",
      "metadata": {
        "id": "bsIY58t0JB0V"
      },
      "source": [
        "## Training / Validation"
      ]
    },
    {
      "cell_type": "markdown",
      "metadata": {
        "id": "AlkPl2JJJI9E"
      },
      "source": [
        "#### Loss Function"
      ]
    },
    {
      "cell_type": "code",
      "metadata": {
        "id": "8LMgsDSoIYtG"
      },
      "source": [
        "# 손실 함수를 초기화합니다.\n",
        "loss_fn = nn.CrossEntropyLoss()"
      ],
      "execution_count": null,
      "outputs": []
    },
    {
      "cell_type": "markdown",
      "metadata": {
        "id": "SAlqtzkDJOZU"
      },
      "source": [
        "### Optimizer"
      ]
    },
    {
      "cell_type": "code",
      "metadata": {
        "id": "h7dELqElJNkW"
      },
      "source": [
        "learning_rate = 1e-3\n",
        "optimizer = torch.optim.Adam(model.parameters(), lr=learning_rate) # optimizer : w, b update"
      ],
      "execution_count": null,
      "outputs": []
    },
    {
      "cell_type": "markdown",
      "metadata": {
        "id": "vaYAnBUCJXe-"
      },
      "source": [
        "### Training / Validation(Test) Function"
      ]
    },
    {
      "cell_type": "code",
      "metadata": {
        "id": "tje2CPpeJR5W"
      },
      "source": [
        "# Training을 위한 함수\n",
        "def train_loop(dataloader, model, loss_fn, optimizer):\n",
        "    size = len(dataloader.dataset)\n",
        "    for batch, (X, y) in enumerate(dataloader):\n",
        "        X, y = X.to(device), y.to(device)\n",
        "        # 예측(prediction)과 손실(loss) 계산\n",
        "        pred = model(X)\n",
        "        loss = loss_fn(pred, y)\n",
        "\n",
        "        # 역전파\n",
        "        optimizer.zero_grad()\n",
        "        loss.backward()\n",
        "        optimizer.step() # w, b  한번씩 update\n",
        "\n",
        "        if batch % 100 == 0:\n",
        "            loss, current = loss.item(), batch * len(X)\n",
        "            print(f\"loss: {loss:>7f}  [{current:>5d}/{size:>5d}]\")\n",
        "\n",
        "# Test를 위한 함수\n",
        "def test_loop(dataloader, model, loss_fn):\n",
        "    size = len(dataloader.dataset)\n",
        "    num_batches = len(dataloader)\n",
        "    test_loss, correct = 0, 0\n",
        "\n",
        "    with torch.no_grad():\n",
        "        for X, y in dataloader:\n",
        "            X, y = X.to(device), y.to(device)\n",
        "            pred = model(X)\n",
        "            test_loss += loss_fn(pred, y).item() # item() : 스칼라 -> loss, accuracy에서 많이씀\n",
        "            correct += (pred.argmax(1) == y).type(torch.float).sum().item()\n",
        "\n",
        "    test_loss /= num_batches\n",
        "    correct /= size\n",
        "    print(f\"Test Error: \\n Accuracy: {(100*correct):>0.1f}%, Avg loss: {test_loss:>8f} \\n\")"
      ],
      "execution_count": null,
      "outputs": []
    },
    {
      "cell_type": "code",
      "metadata": {
        "id": "pTp_mTRKJxNe",
        "colab": {
          "base_uri": "https://localhost:8080/"
        },
        "outputId": "f0b5775d-f89e-4e89-ec79-fdb9d1aded3c"
      },
      "source": [
        "# 학습 진행하기\n",
        "epochs = 10\n",
        "for t in range(epochs):\n",
        "    print(f\"Epoch {t+1}\\n-------------------------------\")\n",
        "    train_loop(train_dataloader, model, loss_fn, optimizer)\n",
        "    test_loop(test_dataloader, model, loss_fn)\n",
        "print(\"Done!\")"
      ],
      "execution_count": null,
      "outputs": [
        {
          "output_type": "stream",
          "name": "stdout",
          "text": [
            "Epoch 1\n",
            "-------------------------------\n",
            "loss: 2.284901  [    0/60000]\n",
            "loss: 0.734868  [ 6400/60000]\n",
            "loss: 0.587672  [12800/60000]\n",
            "loss: 0.681301  [19200/60000]\n",
            "loss: 0.377136  [25600/60000]\n",
            "loss: 0.426860  [32000/60000]\n",
            "loss: 0.393427  [38400/60000]\n",
            "loss: 0.494770  [44800/60000]\n",
            "loss: 0.581516  [51200/60000]\n",
            "loss: 0.499922  [57600/60000]\n",
            "Test Error: \n",
            " Accuracy: 82.8%, Avg loss: 0.476092 \n",
            "\n",
            "Epoch 2\n",
            "-------------------------------\n",
            "loss: 0.313921  [    0/60000]\n",
            "loss: 0.411912  [ 6400/60000]\n",
            "loss: 0.386883  [12800/60000]\n",
            "loss: 0.408415  [19200/60000]\n",
            "loss: 0.462366  [25600/60000]\n",
            "loss: 0.351059  [32000/60000]\n",
            "loss: 0.343304  [38400/60000]\n",
            "loss: 0.398150  [44800/60000]\n",
            "loss: 0.325980  [51200/60000]\n",
            "loss: 0.427454  [57600/60000]\n",
            "Test Error: \n",
            " Accuracy: 83.7%, Avg loss: 0.445756 \n",
            "\n",
            "Epoch 3\n",
            "-------------------------------\n",
            "loss: 0.312291  [    0/60000]\n",
            "loss: 0.380417  [ 6400/60000]\n",
            "loss: 0.530779  [12800/60000]\n",
            "loss: 0.439627  [19200/60000]\n",
            "loss: 0.397562  [25600/60000]\n",
            "loss: 0.282300  [32000/60000]\n",
            "loss: 0.407179  [38400/60000]\n",
            "loss: 0.226633  [44800/60000]\n",
            "loss: 0.490462  [51200/60000]\n",
            "loss: 0.374965  [57600/60000]\n",
            "Test Error: \n",
            " Accuracy: 86.0%, Avg loss: 0.395292 \n",
            "\n",
            "Epoch 4\n",
            "-------------------------------\n",
            "loss: 0.184846  [    0/60000]\n",
            "loss: 0.255475  [ 6400/60000]\n",
            "loss: 0.167006  [12800/60000]\n",
            "loss: 0.396971  [19200/60000]\n",
            "loss: 0.376391  [25600/60000]\n",
            "loss: 0.416932  [32000/60000]\n",
            "loss: 0.308795  [38400/60000]\n",
            "loss: 0.192094  [44800/60000]\n",
            "loss: 0.296363  [51200/60000]\n",
            "loss: 0.308718  [57600/60000]\n",
            "Test Error: \n",
            " Accuracy: 85.6%, Avg loss: 0.398300 \n",
            "\n",
            "Epoch 5\n",
            "-------------------------------\n",
            "loss: 0.365975  [    0/60000]\n",
            "loss: 0.304534  [ 6400/60000]\n",
            "loss: 0.207724  [12800/60000]\n",
            "loss: 0.277400  [19200/60000]\n",
            "loss: 0.367477  [25600/60000]\n",
            "loss: 0.496675  [32000/60000]\n",
            "loss: 0.282935  [38400/60000]\n",
            "loss: 0.288006  [44800/60000]\n",
            "loss: 0.231981  [51200/60000]\n",
            "loss: 0.283766  [57600/60000]\n",
            "Test Error: \n",
            " Accuracy: 86.3%, Avg loss: 0.377977 \n",
            "\n",
            "Epoch 6\n",
            "-------------------------------\n",
            "loss: 0.240655  [    0/60000]\n",
            "loss: 0.271497  [ 6400/60000]\n",
            "loss: 0.261572  [12800/60000]\n",
            "loss: 0.451479  [19200/60000]\n",
            "loss: 0.277349  [25600/60000]\n",
            "loss: 0.293513  [32000/60000]\n",
            "loss: 0.448511  [38400/60000]\n",
            "loss: 0.317637  [44800/60000]\n",
            "loss: 0.292376  [51200/60000]\n",
            "loss: 0.307751  [57600/60000]\n",
            "Test Error: \n",
            " Accuracy: 86.9%, Avg loss: 0.372188 \n",
            "\n",
            "Epoch 7\n",
            "-------------------------------\n",
            "loss: 0.365092  [    0/60000]\n",
            "loss: 0.349302  [ 6400/60000]\n",
            "loss: 0.382712  [12800/60000]\n",
            "loss: 0.279191  [19200/60000]\n",
            "loss: 0.280575  [25600/60000]\n",
            "loss: 0.235971  [32000/60000]\n",
            "loss: 0.311579  [38400/60000]\n",
            "loss: 0.145756  [44800/60000]\n",
            "loss: 0.215134  [51200/60000]\n",
            "loss: 0.312834  [57600/60000]\n",
            "Test Error: \n",
            " Accuracy: 86.3%, Avg loss: 0.380282 \n",
            "\n",
            "Epoch 8\n",
            "-------------------------------\n",
            "loss: 0.385630  [    0/60000]\n",
            "loss: 0.351118  [ 6400/60000]\n",
            "loss: 0.540454  [12800/60000]\n",
            "loss: 0.336867  [19200/60000]\n",
            "loss: 0.252326  [25600/60000]\n",
            "loss: 0.208663  [32000/60000]\n",
            "loss: 0.305885  [38400/60000]\n",
            "loss: 0.553792  [44800/60000]\n",
            "loss: 0.265900  [51200/60000]\n",
            "loss: 0.265380  [57600/60000]\n",
            "Test Error: \n",
            " Accuracy: 86.9%, Avg loss: 0.364059 \n",
            "\n",
            "Epoch 9\n",
            "-------------------------------\n",
            "loss: 0.284696  [    0/60000]\n",
            "loss: 0.378453  [ 6400/60000]\n",
            "loss: 0.181645  [12800/60000]\n",
            "loss: 0.252320  [19200/60000]\n",
            "loss: 0.173232  [25600/60000]\n",
            "loss: 0.290192  [32000/60000]\n",
            "loss: 0.287360  [38400/60000]\n",
            "loss: 0.237752  [44800/60000]\n",
            "loss: 0.442346  [51200/60000]\n",
            "loss: 0.446133  [57600/60000]\n",
            "Test Error: \n",
            " Accuracy: 87.2%, Avg loss: 0.359532 \n",
            "\n",
            "Epoch 10\n",
            "-------------------------------\n",
            "loss: 0.296081  [    0/60000]\n",
            "loss: 0.246290  [ 6400/60000]\n",
            "loss: 0.176560  [12800/60000]\n",
            "loss: 0.272436  [19200/60000]\n",
            "loss: 0.228247  [25600/60000]\n",
            "loss: 0.347121  [32000/60000]\n",
            "loss: 0.279202  [38400/60000]\n",
            "loss: 0.198067  [44800/60000]\n",
            "loss: 0.742260  [51200/60000]\n",
            "loss: 0.355347  [57600/60000]\n",
            "Test Error: \n",
            " Accuracy: 87.1%, Avg loss: 0.356903 \n",
            "\n",
            "Done!\n"
          ]
        }
      ]
    },
    {
      "cell_type": "markdown",
      "metadata": {
        "id": "wSAxLgwNMJke"
      },
      "source": [
        "## Model 저장하고 불러오기"
      ]
    },
    {
      "cell_type": "markdown",
      "metadata": {
        "id": "xAE2aT-LMPja"
      },
      "source": [
        "#### parameter만 저장하고 불러오기"
      ]
    },
    {
      "cell_type": "code",
      "metadata": {
        "id": "hD_9zmzLJ5aP"
      },
      "source": [
        "# 학습된 model parameter 저장\n",
        "torch.save(model.state_dict(), 'model_weights.pth')"
      ],
      "execution_count": null,
      "outputs": []
    },
    {
      "cell_type": "code",
      "metadata": {
        "id": "suOyvvDpMTeA",
        "colab": {
          "base_uri": "https://localhost:8080/"
        },
        "outputId": "d3837121-c497-49cb-fc5a-473b81eb224f"
      },
      "source": [
        "# 새 Model instance 생성, device 설정\n",
        "model2 = NeuralNetwork().to(device)\n",
        "print(model2)"
      ],
      "execution_count": null,
      "outputs": [
        {
          "output_type": "stream",
          "name": "stdout",
          "text": [
            "NeuralNetwork(\n",
            "  (flatten): Flatten(start_dim=1, end_dim=-1)\n",
            "  (linear_relu_stack): Sequential(\n",
            "    (0): Linear(in_features=784, out_features=128, bias=True)\n",
            "    (1): ReLU()\n",
            "    (2): Dropout(p=0.2, inplace=False)\n",
            "    (3): Linear(in_features=128, out_features=10, bias=True)\n",
            "  )\n",
            ")\n"
          ]
        }
      ]
    },
    {
      "cell_type": "code",
      "metadata": {
        "id": "0vtLNWzdMmP_",
        "colab": {
          "base_uri": "https://localhost:8080/"
        },
        "outputId": "e4928398-64be-412c-c439-8c99dfc2b671"
      },
      "source": [
        "# test\n",
        "model2.eval() # eval() : training 안한다는 것을 알려줌\n",
        "test_loop(test_dataloader, model2, loss_fn)"
      ],
      "execution_count": null,
      "outputs": [
        {
          "output_type": "stream",
          "name": "stdout",
          "text": [
            "Test Error: \n",
            " Accuracy: 8.8%, Avg loss: 2.332707 \n",
            "\n"
          ]
        }
      ]
    },
    {
      "cell_type": "code",
      "metadata": {
        "id": "epmWcHXlMsj3",
        "colab": {
          "base_uri": "https://localhost:8080/"
        },
        "outputId": "073943af-eaf2-4778-e2d7-ee955b97ab90"
      },
      "source": [
        "# 저장한 parameter 불러오기\n",
        "model2.load_state_dict(torch.load('model_weights.pth'))"
      ],
      "execution_count": null,
      "outputs": [
        {
          "output_type": "execute_result",
          "data": {
            "text/plain": [
              "<All keys matched successfully>"
            ]
          },
          "metadata": {},
          "execution_count": 78
        }
      ]
    },
    {
      "cell_type": "code",
      "metadata": {
        "id": "1JBBYyaIM37v",
        "colab": {
          "base_uri": "https://localhost:8080/"
        },
        "outputId": "9ccfd472-f3da-4920-f034-f130c25df7b4"
      },
      "source": [
        "# test\n",
        "model2.eval()\n",
        "test_loop(test_dataloader, model2, loss_fn)"
      ],
      "execution_count": null,
      "outputs": [
        {
          "output_type": "stream",
          "name": "stdout",
          "text": [
            "Test Error: \n",
            " Accuracy: 87.9%, Avg loss: 0.332399 \n",
            "\n"
          ]
        }
      ]
    },
    {
      "cell_type": "markdown",
      "metadata": {
        "id": "AjPKRMdtNFH_"
      },
      "source": [
        "### Model 전체를 저장하고 불러오기"
      ]
    },
    {
      "cell_type": "code",
      "metadata": {
        "id": "j_ZjA5ehM78H"
      },
      "source": [
        "# 저장하기\n",
        "torch.save(model, 'model.pth')"
      ],
      "execution_count": null,
      "outputs": []
    },
    {
      "cell_type": "code",
      "metadata": {
        "id": "oD0OjcyJNJ0_"
      },
      "source": [
        "# 불러오기\n",
        "model3 = torch.load('model.pth')"
      ],
      "execution_count": null,
      "outputs": []
    },
    {
      "cell_type": "code",
      "metadata": {
        "id": "xjZICUrCNM7X",
        "colab": {
          "base_uri": "https://localhost:8080/"
        },
        "outputId": "f6fa3b9d-2fe9-447d-9eda-f14fa73d6272"
      },
      "source": [
        "# test\n",
        "model3.eval()\n",
        "test_loop(test_dataloader, model2, loss_fn)"
      ],
      "execution_count": null,
      "outputs": [
        {
          "output_type": "stream",
          "name": "stdout",
          "text": [
            "Test Error: \n",
            " Accuracy: 87.9%, Avg loss: 0.332399 \n",
            "\n"
          ]
        }
      ]
    },
    {
      "cell_type": "markdown",
      "metadata": {
        "id": "l2vRMsioNV3W"
      },
      "source": [
        "## Tensorboard 사용하여 시각화하기"
      ]
    },
    {
      "cell_type": "code",
      "metadata": {
        "id": "XGnzohCJNR9Y"
      },
      "source": [
        "# Load the TensorBoard notebook extension\n",
        "%load_ext tensorboard"
      ],
      "execution_count": null,
      "outputs": []
    },
    {
      "cell_type": "code",
      "metadata": {
        "id": "BENziPMuNluP"
      },
      "source": [
        "from torch.utils.tensorboard import SummaryWriter\n",
        "\n",
        "writer = SummaryWriter('./logs/pytorch')"
      ],
      "execution_count": null,
      "outputs": []
    },
    {
      "cell_type": "code",
      "metadata": {
        "id": "rVB7XWHwO9jH",
        "colab": {
          "base_uri": "https://localhost:8080/"
        },
        "outputId": "a0a6611d-2709-47d9-840f-c0b2ed3e6491"
      },
      "source": [
        "# 새 Model instance 생성, device 설정\n",
        "model4 = NeuralNetwork().to(device)\n",
        "print(model4)\n",
        "\n",
        "model4.eval()\n",
        "test_loop(test_dataloader, model4, loss_fn)"
      ],
      "execution_count": null,
      "outputs": [
        {
          "output_type": "stream",
          "name": "stdout",
          "text": [
            "NeuralNetwork(\n",
            "  (flatten): Flatten(start_dim=1, end_dim=-1)\n",
            "  (linear_relu_stack): Sequential(\n",
            "    (0): Linear(in_features=784, out_features=128, bias=True)\n",
            "    (1): ReLU()\n",
            "    (2): Dropout(p=0.2, inplace=False)\n",
            "    (3): Linear(in_features=128, out_features=10, bias=True)\n",
            "  )\n",
            ")\n",
            "Test Error: \n",
            " Accuracy: 7.6%, Avg loss: 2.309033 \n",
            "\n"
          ]
        }
      ]
    },
    {
      "cell_type": "code",
      "metadata": {
        "id": "xiTetkobNwUX"
      },
      "source": [
        "X = torch.rand(1, 28, 28, device=device)\n",
        "writer.add_graph(model4, X) # 모델과 입력 넣어주면 tensorboard에 그려줌"
      ],
      "execution_count": null,
      "outputs": []
    },
    {
      "cell_type": "code",
      "metadata": {
        "id": "MgGBmkZOONG4"
      },
      "source": [
        "def train(dataloader, model, loss_fn, optimizer):\n",
        "    size = len(dataloader.dataset)\n",
        "    model.train()\n",
        "    total_loss = 0.\n",
        "    for batch, (X, y) in enumerate(dataloader):\n",
        "        X, y = X.to(device), y.to(device)\n",
        "\n",
        "        # 예측(prediction)과 손실(loss) 계산\n",
        "        pred = model(X)\n",
        "        loss = loss_fn(pred, y)\n",
        "\n",
        "        # 역전파\n",
        "        optimizer.zero_grad()\n",
        "        loss.backward()\n",
        "        optimizer.step()\n",
        "\n",
        "        if batch % 100 == 0:\n",
        "            loss, current = loss.item(), batch * len(X) # batch 단위의 loss (batch=64개, 64개에 대한 loss)\n",
        "            print(f\"loss: {loss:>7f}  [{current:>5d}/{size:>5d}]\")\n",
        "        \n",
        "        total_loss += loss / len(dataloader) # data 전체의 loss 평균\n",
        "    return total_loss"
      ],
      "execution_count": null,
      "outputs": []
    },
    {
      "cell_type": "code",
      "metadata": {
        "id": "S8o9uvecOZZ_"
      },
      "source": [
        "def test(dataloader, model, loss_fn):\n",
        "    size = len(dataloader.dataset)\n",
        "    num_batches = len(dataloader)\n",
        "    model.eval()\n",
        "    test_loss, correct = 0, 0\n",
        "    with torch.no_grad():\n",
        "        for X, y in dataloader:\n",
        "            X, y = X.to(device), y.to(device)\n",
        "            pred = model(X)\n",
        "            test_loss += loss_fn(pred, y).item()\n",
        "            correct += (pred.argmax(1) == y).type(torch.float).sum().item()\n",
        "    test_loss /= num_batches\n",
        "    correct /= size\n",
        "    print(f\"Test Error: \\n Accuracy: {(100*correct):>0.1f}%, Avg loss: {test_loss:>8f} \\n\")\n",
        "    return test_loss"
      ],
      "execution_count": null,
      "outputs": []
    },
    {
      "cell_type": "code",
      "metadata": {
        "id": "1W2fyFMqPji4",
        "colab": {
          "base_uri": "https://localhost:8080/"
        },
        "outputId": "61668d10-ccd9-4a00-8577-b189d76838a2"
      },
      "source": [
        "parameters = ['Weight1', 'Bias1', 'Weight2', 'Bias2']\n",
        "\n",
        "epochs = 10\n",
        "for t in range(epochs):\n",
        "    print(f\"Epoch {t+1}\\n-------------------------------\")\n",
        "    train_loss = train(train_dataloader, model, loss_fn, optimizer)\n",
        "    writer.add_scalar('training loss', train_loss, t)\n",
        "    for param, name in zip(model.parameters(), parameters):\n",
        "        writer.add_histogram(name, param, t)\n",
        "    test_loss = test(test_dataloader, model, loss_fn)\n",
        "    writer.add_scalar('test_loss', test_loss, t)\n",
        "print(\"Done!\")"
      ],
      "execution_count": null,
      "outputs": [
        {
          "output_type": "stream",
          "name": "stdout",
          "text": [
            "Epoch 1\n",
            "-------------------------------\n",
            "loss: 0.268006  [    0/60000]\n",
            "loss: 0.281039  [ 6400/60000]\n",
            "loss: 0.308223  [12800/60000]\n",
            "loss: 0.255364  [19200/60000]\n",
            "loss: 0.158929  [25600/60000]\n",
            "loss: 0.386074  [32000/60000]\n",
            "loss: 0.379566  [38400/60000]\n",
            "loss: 0.270723  [44800/60000]\n",
            "loss: 0.283389  [51200/60000]\n",
            "loss: 0.233395  [57600/60000]\n",
            "Test Error: \n",
            " Accuracy: 88.0%, Avg loss: 0.330266 \n",
            "\n",
            "Epoch 2\n",
            "-------------------------------\n",
            "loss: 0.302679  [    0/60000]\n",
            "loss: 0.433080  [ 6400/60000]\n",
            "loss: 0.305837  [12800/60000]\n",
            "loss: 0.255838  [19200/60000]\n",
            "loss: 0.362909  [25600/60000]\n",
            "loss: 0.380864  [32000/60000]\n",
            "loss: 0.468968  [38400/60000]\n",
            "loss: 0.164874  [44800/60000]\n",
            "loss: 0.195580  [51200/60000]\n",
            "loss: 0.282977  [57600/60000]\n",
            "Test Error: \n",
            " Accuracy: 87.7%, Avg loss: 0.342331 \n",
            "\n",
            "Epoch 3\n",
            "-------------------------------\n",
            "loss: 0.168741  [    0/60000]\n",
            "loss: 0.211411  [ 6400/60000]\n",
            "loss: 0.324171  [12800/60000]\n",
            "loss: 0.240300  [19200/60000]\n",
            "loss: 0.265921  [25600/60000]\n",
            "loss: 0.111026  [32000/60000]\n",
            "loss: 0.185164  [38400/60000]\n",
            "loss: 0.345029  [44800/60000]\n",
            "loss: 0.151644  [51200/60000]\n",
            "loss: 0.386184  [57600/60000]\n",
            "Test Error: \n",
            " Accuracy: 87.5%, Avg loss: 0.347619 \n",
            "\n",
            "Epoch 4\n",
            "-------------------------------\n",
            "loss: 0.255057  [    0/60000]\n",
            "loss: 0.246288  [ 6400/60000]\n",
            "loss: 0.158712  [12800/60000]\n",
            "loss: 0.167196  [19200/60000]\n",
            "loss: 0.399594  [25600/60000]\n",
            "loss: 0.323402  [32000/60000]\n",
            "loss: 0.261437  [38400/60000]\n",
            "loss: 0.287019  [44800/60000]\n",
            "loss: 0.186717  [51200/60000]\n",
            "loss: 0.266211  [57600/60000]\n",
            "Test Error: \n",
            " Accuracy: 88.4%, Avg loss: 0.328588 \n",
            "\n",
            "Epoch 5\n",
            "-------------------------------\n",
            "loss: 0.398904  [    0/60000]\n",
            "loss: 0.215008  [ 6400/60000]\n",
            "loss: 0.188964  [12800/60000]\n",
            "loss: 0.412272  [19200/60000]\n",
            "loss: 0.140739  [25600/60000]\n",
            "loss: 0.202382  [32000/60000]\n",
            "loss: 0.169830  [38400/60000]\n",
            "loss: 0.323869  [44800/60000]\n",
            "loss: 0.104041  [51200/60000]\n",
            "loss: 0.162013  [57600/60000]\n",
            "Test Error: \n",
            " Accuracy: 88.3%, Avg loss: 0.325019 \n",
            "\n",
            "Epoch 6\n",
            "-------------------------------\n",
            "loss: 0.256104  [    0/60000]\n",
            "loss: 0.421608  [ 6400/60000]\n",
            "loss: 0.157443  [12800/60000]\n",
            "loss: 0.199048  [19200/60000]\n",
            "loss: 0.241936  [25600/60000]\n",
            "loss: 0.238616  [32000/60000]\n",
            "loss: 0.242303  [38400/60000]\n",
            "loss: 0.206328  [44800/60000]\n",
            "loss: 0.269520  [51200/60000]\n",
            "loss: 0.168306  [57600/60000]\n",
            "Test Error: \n",
            " Accuracy: 88.8%, Avg loss: 0.319927 \n",
            "\n",
            "Epoch 7\n",
            "-------------------------------\n",
            "loss: 0.251447  [    0/60000]\n",
            "loss: 0.167785  [ 6400/60000]\n",
            "loss: 0.217349  [12800/60000]\n",
            "loss: 0.288873  [19200/60000]\n",
            "loss: 0.177611  [25600/60000]\n",
            "loss: 0.218399  [32000/60000]\n",
            "loss: 0.095469  [38400/60000]\n",
            "loss: 0.332446  [44800/60000]\n",
            "loss: 0.240596  [51200/60000]\n",
            "loss: 0.351598  [57600/60000]\n",
            "Test Error: \n",
            " Accuracy: 88.6%, Avg loss: 0.330882 \n",
            "\n",
            "Epoch 8\n",
            "-------------------------------\n",
            "loss: 0.169855  [    0/60000]\n",
            "loss: 0.236279  [ 6400/60000]\n",
            "loss: 0.241375  [12800/60000]\n",
            "loss: 0.077620  [19200/60000]\n",
            "loss: 0.305381  [25600/60000]\n",
            "loss: 0.062831  [32000/60000]\n",
            "loss: 0.249756  [38400/60000]\n",
            "loss: 0.214463  [44800/60000]\n",
            "loss: 0.221625  [51200/60000]\n",
            "loss: 0.343570  [57600/60000]\n",
            "Test Error: \n",
            " Accuracy: 88.4%, Avg loss: 0.326696 \n",
            "\n",
            "Epoch 9\n",
            "-------------------------------\n",
            "loss: 0.235469  [    0/60000]\n",
            "loss: 0.185194  [ 6400/60000]\n",
            "loss: 0.202632  [12800/60000]\n",
            "loss: 0.412139  [19200/60000]\n",
            "loss: 0.354644  [25600/60000]\n",
            "loss: 0.277756  [32000/60000]\n",
            "loss: 0.320468  [38400/60000]\n",
            "loss: 0.164248  [44800/60000]\n",
            "loss: 0.206891  [51200/60000]\n",
            "loss: 0.196120  [57600/60000]\n",
            "Test Error: \n",
            " Accuracy: 88.4%, Avg loss: 0.330526 \n",
            "\n",
            "Epoch 10\n",
            "-------------------------------\n",
            "loss: 0.205951  [    0/60000]\n",
            "loss: 0.333752  [ 6400/60000]\n",
            "loss: 0.161960  [12800/60000]\n",
            "loss: 0.257114  [19200/60000]\n",
            "loss: 0.174682  [25600/60000]\n",
            "loss: 0.289483  [32000/60000]\n",
            "loss: 0.187037  [38400/60000]\n",
            "loss: 0.143102  [44800/60000]\n",
            "loss: 0.324685  [51200/60000]\n",
            "loss: 0.220801  [57600/60000]\n",
            "Test Error: \n",
            " Accuracy: 88.7%, Avg loss: 0.330331 \n",
            "\n",
            "Done!\n"
          ]
        }
      ]
    },
    {
      "cell_type": "code",
      "metadata": {
        "id": "aeHuGnvaQAaQ"
      },
      "source": [
        "writer.close()"
      ],
      "execution_count": null,
      "outputs": []
    },
    {
      "cell_type": "code",
      "metadata": {
        "id": "sk6SdayOQDRg"
      },
      "source": [
        "%tensorboard --logdir './logs/pytorch'"
      ],
      "execution_count": null,
      "outputs": []
    },
    {
      "cell_type": "code",
      "metadata": {
        "id": "FbX3qNzrQP_g"
      },
      "source": [
        ""
      ],
      "execution_count": null,
      "outputs": []
    }
  ]
}