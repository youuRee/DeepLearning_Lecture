{
  "nbformat": 4,
  "nbformat_minor": 0,
  "metadata": {
    "colab": {
      "name": "Part2-1_CH04.ipynb",
      "provenance": [],
      "collapsed_sections": [],
      "toc_visible": true,
      "authorship_tag": "ABX9TyN1XadDwsuAKu6Zk0tLNA0k",
      "include_colab_link": true
    },
    "kernelspec": {
      "name": "python3",
      "display_name": "Python 3"
    },
    "language_info": {
      "name": "python"
    }
  },
  "cells": [
    {
      "cell_type": "markdown",
      "metadata": {
        "id": "view-in-github",
        "colab_type": "text"
      },
      "source": [
        "<a href=\"https://colab.research.google.com/github/youuRee/DeepLearning_Lecture/blob/main/Part2_1_CH04.ipynb\" target=\"_parent\"><img src=\"https://colab.research.google.com/assets/colab-badge.svg\" alt=\"Open In Colab\"/></a>"
      ]
    },
    {
      "cell_type": "markdown",
      "source": [
        "4-1: Datasets"
      ],
      "metadata": {
        "id": "S-8Umrd_oP-N"
      }
    },
    {
      "cell_type": "code",
      "execution_count": null,
      "metadata": {
        "colab": {
          "base_uri": "https://localhost:8080/"
        },
        "id": "6Iv8RsBTn3YT",
        "outputId": "767f3a33-e16d-4eeb-d4cd-ca74e5dcf6c9"
      },
      "outputs": [
        {
          "output_type": "stream",
          "name": "stdout",
          "text": [
            "X(shape/dtype/data): (8, 5) / <dtype: 'float32'>\n",
            "[[ 1.2997624  -1.0969499  -0.06612647  0.01673893  0.6730824 ]\n",
            " [-1.0105082   0.5481831  -0.22365072  0.41516572  0.2560815 ]\n",
            " [-0.03691694 -0.8984707   2.260788    0.33176595 -0.44842806]\n",
            " [ 1.3949498  -0.86070865 -0.7239395   1.3889034   0.09827504]\n",
            " [ 1.1089966  -0.30115372  1.3592161  -0.36164066 -0.5561566 ]\n",
            " [-0.8725337  -0.69669247  1.7309817   0.2832473  -0.36266547]\n",
            " [ 0.6047139   0.36431274  0.06208201 -0.10121845  0.49985328]\n",
            " [ 0.70561236 -0.19710615  0.01865393 -0.6482396   0.9795074 ]]\n",
            "\n",
            "Y(shape/dtype/data): (8,) / <dtype: 'float32'>\n",
            "[12.339851 12.355976 14.033428 13.548702 10.356992 12.246689 13.613978\n",
            " 12.67194 ]\n",
            "\n"
          ]
        }
      ],
      "source": [
        "# Code.4-1-1: Dataset for Regression\n",
        "\n",
        "import tensorflow as tf\n",
        "\n",
        "N, n_feature = 8, 5\n",
        "t_weights = tf.constant([1, 2, 3, 4, 5], dtype=tf.float32) # 중요! float 32비트\n",
        "t_bias = tf.constant([10], dtype=tf.float32)\n",
        "\n",
        "X = tf.random.normal(mean=0, stddev=1, shape=(N, n_feature))\n",
        "Y = tf.reduce_sum(t_weights*X, axis=1) + t_bias # axis=0(index)은 행을 따라 동작, axis=1(columns)은 열을 따라 동작\n",
        "\n",
        "print(\"X(shape/dtype/data): {} / {}\\n{}\\n\".format(X.shape, X.dtype, X.numpy()))\n",
        "print(\"Y(shape/dtype/data): {} / {}\\n{}\\n\".format(Y.shape, Y.dtype, Y.numpy()))"
      ]
    },
    {
      "cell_type": "code",
      "source": [
        "# Code.4-1-2: Dataset for Binary classification\n",
        "\n",
        "import tensorflow as tf\n",
        "\n",
        "N, n_feature = 8, 5\n",
        "t_weights = tf.constant([1, 2, 3, 4, 5], dtype=tf.float32) # 중요! float 32비트\n",
        "t_bias = tf.constant([10], dtype=tf.float32)\n",
        "\n",
        "X = tf.random.normal(mean=0, stddev=1, shape=(N, n_feature))\n",
        "Y = tf.reduce_sum(t_weights*X, axis=1) + t_bias # axis=0(index)은 행을 따라 동작, axis=1(columns)은 열을 따라 동작\n",
        "print(Y)\n",
        "Y = tf.cast(Y > 5, tf.int32) # cast: data type 바꿔줌\n",
        "print(Y)\n",
        "\n",
        "print(\"X(shape/dtype/data): {} / {}\\n{}\\n\".format(X.shape, X.dtype, X.numpy()))\n",
        "print(\"Y(shape/dtype/data): {} / {}\\n{}\\n\".format(Y.shape, Y.dtype, Y.numpy()))"
      ],
      "metadata": {
        "colab": {
          "base_uri": "https://localhost:8080/"
        },
        "id": "5Al1XWBttS11",
        "outputId": "fcc125f7-d4c8-49a9-f675-c92ed446fef4"
      },
      "execution_count": null,
      "outputs": [
        {
          "output_type": "stream",
          "name": "stdout",
          "text": [
            "tf.Tensor(\n",
            "[ 7.267207  11.386385  19.776417  18.941807  19.111794   3.4693298\n",
            "  7.0537558 14.377321 ], shape=(8,), dtype=float32)\n",
            "tf.Tensor([1 1 1 1 1 0 1 1], shape=(8,), dtype=int32)\n",
            "X(shape/dtype/data): (8, 5) / <dtype: 'float32'>\n",
            "[[ 0.71347976 -1.2438486   0.5249275  -0.7238951   0.07244438]\n",
            " [-0.18831305  0.39381528  0.11942967  0.85508275 -0.5983105 ]\n",
            " [-0.09455627  1.6371824  -0.8529839   1.3416624   0.75778204]\n",
            " [-0.47785947 -0.12526111  0.99403393 -0.23244464  1.5235732 ]\n",
            " [ 1.0281003   0.10818602  0.7148065  -0.30032492  1.3848404 ]\n",
            " [ 0.6025027   0.5848719   0.77349776 -1.3365365  -1.0554527 ]\n",
            " [-0.8851222  -0.19346309 -0.85213876 -0.58435416  0.6439274 ]\n",
            " [-1.5186162   1.6589804   0.5399746   1.3866208  -0.91768616]]\n",
            "\n",
            "Y(shape/dtype/data): (8,) / <dtype: 'int32'>\n",
            "[1 1 1 1 1 0 1 1]\n",
            "\n"
          ]
        }
      ]
    },
    {
      "cell_type": "code",
      "source": [
        "# Code.4-1-3: Dataset for Multi-class classification\n",
        "\n",
        "import tensorflow as tf\n",
        "import matplotlib.pyplot as plt\n",
        "\n",
        "plt.style.use('seaborn')\n",
        "\n",
        "N, n_feature = 8, 2\n",
        "n_class = 3\n",
        "\n",
        "X = tf.zeros(shape=(0, n_feature))\n",
        "Y = tf.zeros(shape=(0, 1), dtype=tf.int32)\n",
        "\n",
        "fig, ax = plt.subplots(figsize=(5, 5))\n",
        "for class_idx in range(n_class):\n",
        "  center = tf.random.uniform(minval=-15, maxval=15, shape=(2, )) # tf.random.uniform: 원하는 형태의 랜덤 값을 가진 배열 만듬\n",
        "\n",
        "  x1 = center[0] + tf.random.normal(shape=(N, 1))\n",
        "  x2 = center[1] + tf.random.normal(shape=(N, 1))\n",
        "\n",
        "  x = tf.concat((x1, x2), axis=1) # axis=1: 옆으로 합치기(열 기준) -> x1 옆에 x2\n",
        "  y = class_idx*tf.ones(shape=(N, 1), dtype=tf.int32)\n",
        "\n",
        "  ax.scatter(x[:, 0].numpy(), x[:, 1].numpy(), alpha=0.3) # x[:, 1]: 열의 인덱스가 1인 값, [행시작:행끝, 열시작:열끝]\n",
        "\n",
        "  X = tf.concat((X, x), axis=0) # axis=0: 위/아래로 합치기(행 기준) -> x 아래에 y\n",
        "  Y = tf.concat((Y, y), axis=0)\n",
        "\n",
        "print(\"X(shape/dtype/data): {} / {}\\n{}\\n\".format(X.shape, X.dtype, X.numpy()))\n",
        "print(\"Y(shape/dtype/data): {} / {}\\n{}\\n\".format(Y.shape, Y.dtype, Y.numpy()))"
      ],
      "metadata": {
        "colab": {
          "base_uri": "https://localhost:8080/",
          "height": 1000
        },
        "id": "XbwntPRwvcCF",
        "outputId": "b9d86f05-7e62-406a-8625-81d7667f7e42"
      },
      "execution_count": null,
      "outputs": [
        {
          "output_type": "stream",
          "name": "stdout",
          "text": [
            "X(shape/dtype/data): (24, 2) / <dtype: 'float32'>\n",
            "[[ 9.384394    4.816088  ]\n",
            " [ 9.99552     6.382963  ]\n",
            " [11.449341    4.744154  ]\n",
            " [11.62536     3.7153654 ]\n",
            " [11.826985    2.8711543 ]\n",
            " [11.956849    5.0743847 ]\n",
            " [11.095363    2.8819559 ]\n",
            " [11.756178    3.51567   ]\n",
            " [ 6.848179   13.361053  ]\n",
            " [ 6.5036526  13.805631  ]\n",
            " [ 7.350346   17.371134  ]\n",
            " [ 7.1894264  12.9828205 ]\n",
            " [ 7.3803396  11.067243  ]\n",
            " [ 8.004534   14.082379  ]\n",
            " [ 7.1523204  14.030254  ]\n",
            " [ 8.087265   14.307114  ]\n",
            " [ 7.370603    2.6859643 ]\n",
            " [ 6.789645    2.857997  ]\n",
            " [ 6.2915134   0.9750016 ]\n",
            " [ 8.449382    3.5257566 ]\n",
            " [ 7.3909845   2.8312972 ]\n",
            " [ 9.657618    0.67707765]\n",
            " [ 7.4079022   4.524657  ]\n",
            " [ 8.674547    3.615424  ]]\n",
            "\n",
            "Y(shape/dtype/data): (24, 1) / <dtype: 'int32'>\n",
            "[[0]\n",
            " [0]\n",
            " [0]\n",
            " [0]\n",
            " [0]\n",
            " [0]\n",
            " [0]\n",
            " [0]\n",
            " [1]\n",
            " [1]\n",
            " [1]\n",
            " [1]\n",
            " [1]\n",
            " [1]\n",
            " [1]\n",
            " [1]\n",
            " [2]\n",
            " [2]\n",
            " [2]\n",
            " [2]\n",
            " [2]\n",
            " [2]\n",
            " [2]\n",
            " [2]]\n",
            "\n"
          ]
        },
        {
          "output_type": "display_data",
          "data": {
            "text/plain": [
              "<Figure size 360x360 with 1 Axes>"
            ],
            "image/png": "[encoded data removed]"
          },
          "metadata": {}
        }
      ]
    },
    {
      "cell_type": "code",
      "source": [
        "# Code.4-1-4: Dataset for Multi-class classification with One-hat Encoding\n",
        "\n",
        "import tensorflow as tf\n",
        "import matplotlib.pyplot as plt\n",
        "\n",
        "plt.style.use('seaborn')\n",
        "\n",
        "N, n_feature = 8, 2\n",
        "n_class = 3\n",
        "\n",
        "X = tf.zeros(shape=(0, n_feature))\n",
        "Y = tf.zeros(shape=(0, ), dtype=tf.int32)\n",
        "\n",
        "fig, ax = plt.subplots(figsize=(5, 5))\n",
        "for class_idx in range(n_class):\n",
        "  center = tf.random.uniform(minval=-15, maxval=15, shape=(2, )) # tf.random.uniform: 원하는 형태의 랜덤 값을 가진 배열 만듬\n",
        "\n",
        "  x1 = center[0] + tf.random.normal(shape=(N, 1))\n",
        "  x2 = center[1] + tf.random.normal(shape=(N, 1))\n",
        "\n",
        "  x = tf.concat((x1, x2), axis=1) # axis=1: 옆으로 합치기(열 기준) -> x1 옆에 x2\n",
        "  y = class_idx*tf.ones(shape=(N, ), dtype=tf.int32)\n",
        "\n",
        "  ax.scatter(x[:, 0].numpy(), x[:, 1].numpy(), alpha=0.3) # x[:, 1]: 열의 인덱스가 1인 값, [행시작:행끝, 열시작:열끝]\n",
        "\n",
        "  X = tf.concat((X, x), axis=0) # axis=0: 위/아래로 합치기(행 기준) -> x 아래에 y\n",
        "  Y = tf.concat((Y, y), axis=0)\n",
        "\n",
        "Y = tf.one_hot(Y, depth=n_class, dtype=tf.int32)\n",
        "\n",
        "print(\"X(shape/dtype/data): {} / {}\\n{}\\n\".format(X.shape, X.dtype, X.numpy()))\n",
        "print(\"Y(shape/dtype/data): {} / {}\\n{}\\n\".format(Y.shape, Y.dtype, Y.numpy()))"
      ],
      "metadata": {
        "colab": {
          "base_uri": "https://localhost:8080/",
          "height": 1000
        },
        "id": "IUHIrKG43823",
        "outputId": "e26ac6c7-e8dc-4a3f-fa91-337ae905f549"
      },
      "execution_count": null,
      "outputs": [
        {
          "output_type": "stream",
          "name": "stdout",
          "text": [
            "X(shape/dtype/data): (24, 2) / <dtype: 'float32'>\n",
            "[[  2.2457983    2.1882951 ]\n",
            " [  3.6815479    1.5968275 ]\n",
            " [ -0.17100489   2.7898397 ]\n",
            " [  1.2925215    1.4879497 ]\n",
            " [  0.4236884    2.108684  ]\n",
            " [  0.36192155   1.520411  ]\n",
            " [  1.813257     0.98540556]\n",
            " [  2.9613194    1.3907847 ]\n",
            " [-13.784617    12.260272  ]\n",
            " [-12.063953    12.243035  ]\n",
            " [-16.534395    11.676742  ]\n",
            " [-12.394498    12.598097  ]\n",
            " [-15.499733    13.182819  ]\n",
            " [-14.180206    13.514003  ]\n",
            " [-13.820151    14.791428  ]\n",
            " [-12.025633    11.81609   ]\n",
            " [ -8.789663    -8.14423   ]\n",
            " [ -9.872172    -9.894392  ]\n",
            " [ -8.285094   -10.152148  ]\n",
            " [ -8.019763   -11.193613  ]\n",
            " [ -8.650488   -10.006808  ]\n",
            " [ -8.986313    -9.654834  ]\n",
            " [ -8.532793   -10.693855  ]\n",
            " [ -8.141847   -10.567768  ]]\n",
            "\n",
            "Y(shape/dtype/data): (24, 3) / <dtype: 'int32'>\n",
            "[[1 0 0]\n",
            " [1 0 0]\n",
            " [1 0 0]\n",
            " [1 0 0]\n",
            " [1 0 0]\n",
            " [1 0 0]\n",
            " [1 0 0]\n",
            " [1 0 0]\n",
            " [0 1 0]\n",
            " [0 1 0]\n",
            " [0 1 0]\n",
            " [0 1 0]\n",
            " [0 1 0]\n",
            " [0 1 0]\n",
            " [0 1 0]\n",
            " [0 1 0]\n",
            " [0 0 1]\n",
            " [0 0 1]\n",
            " [0 0 1]\n",
            " [0 0 1]\n",
            " [0 0 1]\n",
            " [0 0 1]\n",
            " [0 0 1]\n",
            " [0 0 1]]\n",
            "\n"
          ]
        },
        {
          "output_type": "display_data",
          "data": {
            "text/plain": [
              "<Figure size 360x360 with 1 Axes>"
            ],
            "image/png": "[encoded data removed]"
          },
          "metadata": {}
        }
      ]
    },
    {
      "cell_type": "code",
      "source": [
        "# Code.4-1-5: Dataset Objects\n",
        "\n",
        "import tensorflow as tf\n",
        "\n",
        "N, n_feature = 100, 5\n",
        "batch_size = 32\n",
        "\n",
        "t_weights = tf.constant([1, 2, 3, 4, 5], dtype=tf.float32)\n",
        "t_bias = tf.constant([10], dtype=tf.float32)\n",
        "\n",
        "X = tf.random.normal(mean=0, stddev=1, shape=(N, n_feature))\n",
        "Y = tf.reduce_sum(t_weights*X, axis=1) + t_bias\n",
        "\n",
        "# dataset 만들기(생성)\n",
        "dataset = tf.data.Dataset.from_tensor_slices((X, Y)) # data.Dataset.from_tensor_slices: 주어진 데이터소스를 여러 Tensor로 자름\n",
        "dataset = dataset.batch(batch_size).shuffle(100) # 배치사이즈 설정\n",
        "\n",
        "for x, y in dataset:\n",
        "  print(x.shape, y.shape)"
      ],
      "metadata": {
        "colab": {
          "base_uri": "https://localhost:8080/"
        },
        "id": "gDp-inhz9DC-",
        "outputId": "800577ef-bfc7-431b-f5e2-89aba66b7bdc"
      },
      "execution_count": null,
      "outputs": [
        {
          "output_type": "stream",
          "name": "stdout",
          "text": [
            "(4, 5) (4,)\n",
            "(32, 5) (32,)\n",
            "(32, 5) (32,)\n",
            "(32, 5) (32,)\n"
          ]
        }
      ]
    },
    {
      "cell_type": "markdown",
      "source": [
        "4-2: Mean Squared Error"
      ],
      "metadata": {
        "id": "IKP0LP_8BGz0"
      }
    },
    {
      "cell_type": "code",
      "source": [
        "# Code.4-2-1: MSE Calculation\n",
        "\n",
        "import tensorflow as tf\n",
        "from tensorflow.keras.losses import MeanSquaredError\n",
        "\n",
        "loss_object = MeanSquaredError()\n",
        "\n",
        "batch_size = 32\n",
        "predictions = tf.random.normal(shape=(batch_size, 1)) # 모델에서 나온 예측 값\n",
        "labels = tf.random.normal(shape=(batch_size, 1)) # 실제 데이터 값\n",
        "\n",
        "mse = loss_object(labels, predictions)\n",
        "mse_manual = tf.reduce_mean(tf.math.pow(labels - predictions, 2))\n",
        "\n",
        "print(\"MSE(Tensorflow): \", mse.numpy())\n",
        "print(\"MSE(Manual): \", mse_manual.numpy())"
      ],
      "metadata": {
        "colab": {
          "base_uri": "https://localhost:8080/"
        },
        "id": "jM-q7jGEBFt1",
        "outputId": "526e2fba-62b6-414a-8868-7bf2922fa982"
      },
      "execution_count": null,
      "outputs": [
        {
          "output_type": "stream",
          "name": "stdout",
          "text": [
            "MSE(Tensorflow):  2.9956808\n",
            "MSE(Manual):  2.9956808\n"
          ]
        }
      ]
    },
    {
      "cell_type": "code",
      "source": [
        "# Code.4-2-2: MSE with Model/Dataset\n",
        "\n",
        "import tensorflow as tf\n",
        "from tensorflow.keras.layers import Dense\n",
        "from tensorflow.keras.losses import MeanSquaredError\n",
        "\n",
        "N, n_feature = 100, 5\n",
        "batch_size = 32\n",
        "\n",
        "X = tf.random.normal(shape=(N, n_feature))\n",
        "Y = tf.random.normal(shape=(N, 1))\n",
        "\n",
        "dataset = tf.data.Dataset.from_tensor_slices((X, Y))\n",
        "dataset = dataset.batch(batch_size)\n",
        "\n",
        "model = Dense(units=1, activation='linear')\n",
        "loss_object = MeanSquaredError()\n",
        "\n",
        "for x, y in dataset:\n",
        "  predictions = model(x)\n",
        "  loss = loss_object(y, predictions)\n",
        "  print(loss.numpy())"
      ],
      "metadata": {
        "colab": {
          "base_uri": "https://localhost:8080/"
        },
        "id": "7JkVtP-bDRA4",
        "outputId": "19dcd436-a223-4023-9c53-ee7f4d99fd14"
      },
      "execution_count": null,
      "outputs": [
        {
          "output_type": "stream",
          "name": "stdout",
          "text": [
            "2.1426206\n",
            "2.6648479\n",
            "2.7667775\n",
            "1.9743322\n"
          ]
        }
      ]
    },
    {
      "cell_type": "markdown",
      "source": [
        "4-3: Binary Cross Entropy"
      ],
      "metadata": {
        "id": "pLM6VqBKF6TT"
      }
    },
    {
      "cell_type": "code",
      "source": [
        "# Code.4-3-1: BCE Calculation\n",
        "\n",
        "from tensorflow.keras.losses import BinaryCrossentropy\n",
        "\n",
        "batch_size = 4\n",
        "n_class = 2\n",
        "\n",
        "predictions = tf.random.uniform(shape=(batch_size, 1),\n",
        "                                minval=0, maxval=1,\n",
        "                                dtype=tf.float32)\n",
        "labels = tf.random.uniform(shape=(batch_size, 1),\n",
        "                                minval=0, maxval=n_class,\n",
        "                                dtype=tf.float32)\n",
        "print(predictions)\n",
        "print(labels)\n",
        "\n",
        "loss_object = BinaryCrossentropy()\n",
        "loss = loss_object(labels, predictions) # label: 0~1, predictions: vector\n",
        "\n",
        "labels = tf.cast(labels, tf.float32)\n",
        "bce_man = - (labels*tf.math.log(predictions) + (1 - labels)*tf.math.log(1 - predictions))\n",
        "bce_man = tf.reduce_mean(bce_man)\n",
        "\n",
        "print(\"BCE(Tensorflow): \", loss.numpy())\n",
        "print(\"BCE(Manual): \", bce_man.numpy())"
      ],
      "metadata": {
        "colab": {
          "base_uri": "https://localhost:8080/"
        },
        "id": "qLJlvUX-F5vI",
        "outputId": "51497769-550e-4069-bb0a-46f44f3d8771"
      },
      "execution_count": null,
      "outputs": [
        {
          "output_type": "stream",
          "name": "stdout",
          "text": [
            "tf.Tensor(\n",
            "[[0.8934318 ]\n",
            " [0.4099487 ]\n",
            " [0.18371463]\n",
            " [0.24062765]], shape=(4, 1), dtype=float32)\n",
            "tf.Tensor(\n",
            "[[0.9284241]\n",
            " [1.1367981]\n",
            " [1.2076342]\n",
            " [1.852725 ]], shape=(4, 1), dtype=float32)\n",
            "BCE(Tensorflow):  1.4037353\n",
            "BCE(Manual):  1.4037356\n"
          ]
        }
      ]
    },
    {
      "cell_type": "code",
      "source": [
        "# Code.4-3-2: BCE with Model/Dataset\n",
        "\n",
        "import tensorflow as tf\n",
        "from tensorflow.keras.layers import Dense\n",
        "from tensorflow.keras.losses import BinaryCrossentropy\n",
        "\n",
        "N, n_feature = 100, 5\n",
        "\n",
        "t_weights = tf.constant([1, 2, 3, 4, 5], dtype=tf.float32)\n",
        "t_bias = tf.constant([10], dtype=tf.float32)\n",
        "\n",
        "X = tf.random.normal(mean=0, stddev=1, shape=(N, n_feature))\n",
        "Y = tf.reduce_sum(t_weights*X, axis=1) + t_bias\n",
        "Y = tf.cast(Y > 5, tf.int32)\n",
        "\n",
        "dataset = tf.data.Dataset.from_tensor_slices((X, Y))\n",
        "dataset = dataset.batch(batch_size)\n",
        "\n",
        "model = Dense(units=1, activation='sigmoid')\n",
        "loss_object = BinaryCrossentropy()\n",
        "\n",
        "for x, y in dataset:\n",
        "  predictions = model(x)\n",
        "  loss = loss_object(y, predictions)\n",
        "  print(loss.numpy())"
      ],
      "metadata": {
        "colab": {
          "base_uri": "https://localhost:8080/"
        },
        "id": "Jeb9zniqInee",
        "outputId": "57825a80-1d07-4c21-ff3a-bc41c33be21a"
      },
      "execution_count": null,
      "outputs": [
        {
          "output_type": "stream",
          "name": "stdout",
          "text": [
            "0.86041933\n",
            "0.5506957\n",
            "0.81359255\n",
            "0.9068358\n",
            "1.2145821\n",
            "0.99988014\n",
            "1.0115168\n",
            "0.7133987\n",
            "0.6306483\n",
            "0.9353664\n",
            "0.51454735\n",
            "0.5724159\n",
            "0.3676501\n",
            "1.2330741\n",
            "0.65241164\n",
            "0.99602365\n",
            "0.65177745\n",
            "1.3562925\n",
            "0.8806575\n",
            "0.5482333\n",
            "0.92645943\n",
            "0.75689507\n",
            "0.74740094\n",
            "0.57879883\n",
            "0.7229487\n"
          ]
        }
      ]
    },
    {
      "cell_type": "markdown",
      "source": [
        "4-4: Sparse Categorical Cross Entropy"
      ],
      "metadata": {
        "id": "tCk4DbRyMISD"
      }
    },
    {
      "cell_type": "code",
      "source": [
        "# Code.4-4-1: SCCE Calculation\n",
        "\n",
        "from tensorflow.keras.losses import SparseCategoricalCrossentropy # class index를 가지는 벡터일 때 사용\n",
        "\n",
        "batch_size, n_class = 16, 5\n",
        "\n",
        "predictions = tf.random.uniform(shape=(batch_size, n_class),\n",
        "                                minval=0, maxval=1,\n",
        "                                dtype=tf.float32)\n",
        "\n",
        "pred_sum = tf.reshape(tf.reduce_sum(predictions, axis=1), (-1, 1))\n",
        "predictions = predictions/pred_sum\n",
        "\n",
        "labels = tf.random.uniform(shape=(batch_size, ),\n",
        "                                minval=0, maxval=n_class,\n",
        "                                dtype=tf.int32)\n",
        "print(labels)\n",
        "\n",
        "loss_object = SparseCategoricalCrossentropy()\n",
        "loss = loss_object(labels, predictions)\n",
        "\n",
        "print(loss.numpy())\n",
        "\n",
        "ce = 0\n",
        "for label, prediction in zip(labels, predictions):\n",
        "  ce += -tf.math.log(prediction[label])\n",
        "ce /= batch_size\n",
        "print(ce.numpy())"
      ],
      "metadata": {
        "colab": {
          "base_uri": "https://localhost:8080/"
        },
        "id": "pIS76u3WMRkU",
        "outputId": "58a0c2e9-17d7-4e6a-bf3f-a56780147afa"
      },
      "execution_count": null,
      "outputs": [
        {
          "output_type": "stream",
          "name": "stdout",
          "text": [
            "tf.Tensor([3 3 1 1 2 2 3 3 0 4 1 2 1 3 0 2], shape=(16,), dtype=int32)\n",
            "1.9516785\n",
            "1.9516784\n"
          ]
        }
      ]
    },
    {
      "cell_type": "code",
      "source": [
        "# Code.4-4-2: SCCE with Model/Dataset\n",
        "\n",
        "import tensorflow as tf\n",
        "from tensorflow.keras.layers import Dense\n",
        "from tensorflow.keras.losses import SparseCategoricalCrossentropy\n",
        "\n",
        "N, n_feature = 100, 2\n",
        "n_class = 5\n",
        "batch_size = 16\n",
        "\n",
        "X = tf.zeros(shape=(0, n_feature))\n",
        "Y = tf.zeros(shape=(0, 1), dtype=tf.int32)\n",
        "\n",
        "for class_idx in range(n_class):\n",
        "  center = tf.random.uniform(minval=-15, maxval=15, shape=(2, )) # tf.random.uniform: 원하는 형태의 랜덤 값을 가진 배열 만듬\n",
        "\n",
        "  x1 = center[0] + tf.random.normal(shape=(N, 1))\n",
        "  x2 = center[1] + tf.random.normal(shape=(N, 1))\n",
        "\n",
        "  x = tf.concat((x1, x2), axis=1) # axis=1: 옆으로 합치기(열 기준) -> x1 옆에 x2\n",
        "  y = class_idx*tf.ones(shape=(N, 1), dtype=tf.int32)\n",
        "\n",
        "  X = tf.concat((X, x), axis=0) # axis=0: 위/아래로 합치기(행 기준) -> x 아래에 y\n",
        "  Y = tf.concat((Y, y), axis=0)\n",
        "\n",
        "dataset = tf.data.Dataset.from_tensor_slices((X, Y))\n",
        "dataset = dataset.batch(batch_size)\n",
        "\n",
        "model = Dense(units=n_class, activation='softmax')\n",
        "loss_object = SparseCategoricalCrossentropy()\n",
        "\n",
        "for x, y in dataset:\n",
        "  predictions = model(x)\n",
        "  loss = loss_object(y, predictions)\n",
        "  print(loss.numpy())"
      ],
      "metadata": {
        "colab": {
          "base_uri": "https://localhost:8080/"
        },
        "id": "r8kOM0rMcoZG",
        "outputId": "6c59f680-0080-48ee-e9f4-c7c6eb017c59"
      },
      "execution_count": 12,
      "outputs": [
        {
          "output_type": "stream",
          "name": "stdout",
          "text": [
            "16.975521\n",
            "16.67894\n",
            "17.140036\n",
            "16.638552\n",
            "17.06066\n",
            "16.50644\n",
            "5.800628\n",
            "2.3438387\n",
            "2.1864002\n",
            "2.2194722\n",
            "2.2012575\n",
            "2.1021254\n",
            "6.044853\n",
            "9.953021\n",
            "9.865055\n",
            "10.73972\n",
            "10.747174\n",
            "10.626587\n",
            "7.9165998\n",
            "2.91115\n",
            "3.2186544\n",
            "2.9206758\n",
            "3.2376943\n",
            "3.094013\n",
            "2.909082\n",
            "25.340218\n",
            "25.266253\n",
            "25.822529\n",
            "24.579527\n",
            "24.591787\n",
            "24.215595\n",
            "25.10451\n"
          ]
        }
      ]
    },
    {
      "cell_type": "markdown",
      "source": [
        "4-5: Categorical Cross Entropy"
      ],
      "metadata": {
        "id": "YRh8IXlrgPAK"
      }
    },
    {
      "cell_type": "code",
      "source": [
        "# Code.4-5-1: CCE Calculation\n",
        "\n",
        "import tensorflow as tf\n",
        "from tensorflow.keras.losses import CategoricalCrossentropy\n",
        "\n",
        "batch_size, n_class = 16, 5\n",
        "\n",
        "predictions = tf.random.uniform(shape=(batch_size, n_class),\n",
        "                                minval=0, maxval=1,\n",
        "                                dtype=tf.float32)\n",
        "\n",
        "pred_sum = tf.reshape(tf.reduce_sum(predictions, axis=1), (-1, 1))\n",
        "predictions = predictions/pred_sum\n",
        "\n",
        "labels = tf.random.uniform(shape=(batch_size, ),\n",
        "                                minval=0, maxval=n_class,\n",
        "                                dtype=tf.int32)\n",
        "labels = tf.one_hot(labels, n_class)\n",
        "\n",
        "loss_object = CategoricalCrossentropy()\n",
        "loss = loss_object(labels, predictions)\n",
        "\n",
        "print(\"CCE(Tensorflow): \", loss.numpy())\n",
        "\n",
        "cce_man = tf.reduce_mean(tf.reduce_sum(-labels*tf.math.log(predictions), axis=1)) # 행끼리 더해지고 그것을 평균 -> 스칼라\n",
        "print(\"CCE(Manual): \", cce_man.numpy())"
      ],
      "metadata": {
        "colab": {
          "base_uri": "https://localhost:8080/"
        },
        "id": "vQezifjRgVSp",
        "outputId": "b886817c-21b2-45a1-964b-6b021b799ab8"
      },
      "execution_count": 11,
      "outputs": [
        {
          "output_type": "stream",
          "name": "stdout",
          "text": [
            "CCE(Tensorflow):  1.8547711\n",
            "CCE(Manual):  1.8547711\n"
          ]
        }
      ]
    },
    {
      "cell_type": "code",
      "source": [
        "# Code.4-5-2: CCE with Model/Dataset\n",
        "\n",
        "import tensorflow as tf\n",
        "from tensorflow.keras.losses import CategoricalCrossentropy\n",
        "\n",
        "N, n_feature = 8, 2\n",
        "n_class = 3\n",
        "\n",
        "X = tf.zeros(shape=(0, n_feature))\n",
        "Y = tf.zeros(shape=(0, ), dtype=tf.int32)\n",
        "\n",
        "for class_idx in range(n_class):\n",
        "  center = tf.random.uniform(minval=-15, maxval=15, shape=(2, )) # tf.random.uniform: 원하는 형태의 랜덤 값을 가진 배열 만듬\n",
        "\n",
        "  x1 = center[0] + tf.random.normal(shape=(N, 1))\n",
        "  x2 = center[1] + tf.random.normal(shape=(N, 1))\n",
        "\n",
        "  x = tf.concat((x1, x2), axis=1) # axis=1: 옆으로 합치기(열 기준) -> x1 옆에 x2\n",
        "  y = class_idx*tf.ones(shape=(N, ), dtype=tf.int32)\n",
        "\n",
        "\n",
        "  X = tf.concat((X, x), axis=0) # axis=0: 위/아래로 합치기(행 기준) -> x 아래에 y\n",
        "  Y = tf.concat((Y, y), axis=0)\n",
        "\n",
        "Y = tf.one_hot(Y, depth=n_class, dtype=tf.int32)\n",
        "\n",
        "dataset = tf.data.Dataset.from_tensor_slices((X, Y))\n",
        "dataset = dataset.batch(batch_size)\n",
        "\n",
        "model = Dense(units=n_class, activation='softmax')\n",
        "loss_object = CategoricalCrossentropy()\n",
        "\n",
        "for x, y in dataset:\n",
        "  predictions = model(x)\n",
        "  loss = loss_object(y, predictions)\n",
        "  print(loss.numpy())\n"
      ],
      "metadata": {
        "colab": {
          "base_uri": "https://localhost:8080/"
        },
        "id": "87_3WiqSi7b0",
        "outputId": "76ba5462-dff5-44b0-9bd9-8a74c1c291dd"
      },
      "execution_count": 21,
      "outputs": [
        {
          "output_type": "stream",
          "name": "stdout",
          "text": [
            "0.48500234\n",
            "4.8013926\n"
          ]
        }
      ]
    },
    {
      "cell_type": "markdown",
      "source": [
        "SparseCategoricalCrossentropy: label이 정수형태일 때 [0, 1, 2, 3, 4, 5]\n",
        "CategoricalCrossentropy: label이 실수형태일 때 [0.2, 0.05, 0.34]"
      ],
      "metadata": {
        "id": "GmDnOdR9nHlK"
      }
    }
  ]
}