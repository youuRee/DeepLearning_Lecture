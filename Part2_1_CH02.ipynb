{
  "nbformat": 4,
  "nbformat_minor": 0,
  "metadata": {
    "colab": {
      "name": "Part2-1_CH02.ipynb",
      "provenance": [],
      "collapsed_sections": [],
      "authorship_tag": "ABX9TyPjSWg0QOLuw6dIlh19uMSN",
      "include_colab_link": true
    },
    "kernelspec": {
      "name": "python3",
      "display_name": "Python 3"
    },
    "language_info": {
      "name": "python"
    }
  },
  "cells": [
    {
      "cell_type": "markdown",
      "metadata": {
        "id": "view-in-github",
        "colab_type": "text"
      },
      "source": [
        "<a href=\"https://colab.research.google.com/github/youuRee/DeepLearning_Lecture/blob/main/Part2_1_CH02.ipynb\" target=\"_parent\"><img src=\"https://colab.research.google.com/assets/colab-badge.svg\" alt=\"Open In Colab\"/></a>"
      ]
    },
    {
      "cell_type": "markdown",
      "source": [
        "2-1: Dense Layers"
      ],
      "metadata": {
        "id": "IJ6sA8P484ZQ"
      }
    },
    {
      "cell_type": "code",
      "source": [
        "# Code.2-1-1: Shapes of Dense Layers\n",
        "\n",
        "import tensorflow as tf\n",
        "from tensorflow.keras.layers import Dense\n",
        "\n",
        "N, n_feature = 1, 10\n",
        "X = tf.random.normal(shape=(N, n_feature)) # X's row vestor = N(1) * n_feature(10)\n",
        "\n",
        "n_neuron = 3 # weights metrix = 10 * 3, bias row vector = 1 * 10\n",
        "dense = Dense(units=n_neuron, activation='sigmoid')\n",
        "Y = dense(X)\n",
        "\n",
        "W, B = dense.get_weights()\n",
        "\n",
        "print('===== Input/Weights/Bias =====')\n",
        "print(\"X: \", X.shape)\n",
        "print(\"W: \", W.shape)\n",
        "print(\"B: \", B.shape)\n",
        "print(\"Y: \", Y.shape)"
      ],
      "metadata": {
        "colab": {
          "base_uri": "https://localhost:8080/"
        },
        "id": "yGNVcmUw85Yq",
        "outputId": "4e3ad990-b9a5-46e6-ab74-bbf5a5b33fe8"
      },
      "execution_count": null,
      "outputs": [
        {
          "output_type": "stream",
          "name": "stdout",
          "text": [
            "===== Input/Weights/Bias =====\n",
            "X:  (1, 10)\n",
            "W:  (10, 3)\n",
            "B:  (3,)\n",
            "Y:  (1, 3)\n"
          ]
        }
      ]
    },
    {
      "cell_type": "code",
      "source": [
        "# Code.2-1-2: Output Calculations\n",
        "\n",
        "import numpy as np\n",
        "import tensorflow as tf\n",
        "\n",
        "from tensorflow.math import exp\n",
        "from tensorflow.linalg import matmul\n",
        "\n",
        "from tensorflow.keras.layers import Dense\n",
        "\n",
        "N, n_feature = 4, 10\n",
        "X = tf.random.normal(shape=(N, n_feature)) # X's row vestor = N(1) * n_feature(10)\n",
        "\n",
        "n_neuron = 3 # weights metrix = 10 * 3, bias row vector = 1 * 10\n",
        "dense = Dense(units=n_neuron, activation='sigmoid')\n",
        "Y_tf = dense(X)\n",
        "\n",
        "W, B = dense.get_weights()\n",
        "print(\"Y(Tensotflow): \\n\", Y_tf.numpy())\n",
        "\n",
        "# calculate with matrix multplication\n",
        "z = matmul(X, W) + B\n",
        "Y_man_matmul = 1 / (1 + exp(-z))\n",
        "print(\"Y(with matrix multiolication): \\n\", Y_man_matmul.numpy())\n",
        "\n",
        "# calculate with dot products\n",
        "Y_man_vec = np.zeros(shape=(N, n_neuron))\n",
        "for x_idx in range(N):\n",
        "  x = X[x_idx]\n",
        "\n",
        "  for nu_idx in range(n_neuron):\n",
        "    w, b = W[:, nu_idx], B[nu_idx]\n",
        "\n",
        "    z = tf.reduce_sum(x * w) + b\n",
        "    a = 1 / (1 + np.exp(-z))\n",
        "    Y_man_vec[x_idx, nu_idx] = a\n",
        "\n",
        "print(\"Y(with dot products): \\n\", Y_man_vec)"
      ],
      "metadata": {
        "colab": {
          "base_uri": "https://localhost:8080/"
        },
        "id": "sHdWkz8rAvWq",
        "outputId": "9c338bd2-1726-4c5b-c7bd-55f33a556723"
      },
      "execution_count": null,
      "outputs": [
        {
          "output_type": "stream",
          "name": "stdout",
          "text": [
            "Y(Tensotflow): \n",
            " [[0.3374349  0.8389372  0.8717373 ]\n",
            " [0.553568   0.95240414 0.6866497 ]\n",
            " [0.07051834 0.05846536 0.12135008]\n",
            " [0.7909593  0.28545392 0.667162  ]]\n",
            "Y(with matrix multiolication): \n",
            " [[0.3374349  0.8389372  0.8717373 ]\n",
            " [0.553568   0.952404   0.6866497 ]\n",
            " [0.07051836 0.05846533 0.12135009]\n",
            " [0.7909593  0.28545392 0.667162  ]]\n",
            "Y(with dot products): \n",
            " [[0.33743486 0.83893724 0.8717373 ]\n",
            " [0.55356808 0.95240405 0.6866497 ]\n",
            " [0.07051836 0.05846531 0.12135012]\n",
            " [0.79095932 0.2854539  0.66716203]]\n"
          ]
        }
      ]
    },
    {
      "cell_type": "markdown",
      "source": [
        "2-2: Cascaded Dense Layers"
      ],
      "metadata": {
        "id": "L3QaVi_NGA-n"
      }
    },
    {
      "cell_type": "code",
      "source": [
        "# Code.2-2-1: Shapes of Cacaded Dense Layers\n",
        "\n",
        "import tensorflow as tf\n",
        "from tensorflow.keras.layers import Dense\n",
        "\n",
        "N, n_feature = 4, 10\n",
        "X = tf.random.normal(shape=(N, n_feature))\n",
        "\n",
        "n_neurons = [3, 5]\n",
        "dense1 = Dense(units=n_neurons[0], activation='sigmoid')\n",
        "dense2 = Dense(units=n_neurons[1], activation='sigmoid')\n",
        "\n",
        "# forward propagation\n",
        "A1 = dense1(X)\n",
        "Y = dense2(A1)\n",
        "\n",
        "# get weights/bias\n",
        "W1, B1 = dense1.get_weights()\n",
        "W2, B2 = dense2.get_weights()\n",
        "\n",
        "\n",
        "print(\"X: {}\\n\".format(X.shape))\n",
        "\n",
        "print(\"W1: {}\\n\".format(W1.shape))\n",
        "print(\"B1: {}\\n\".format(B1.shape))\n",
        "print(\"A1: {}\\n\".format(A1.shape))\n",
        "\n",
        "print(\"W2: {}\\n\".format(W2.shape))\n",
        "print(\"B2: {}\\n\".format(B2.shape))\n",
        "print(\"Y: {}\\n\".format(Y.shape))"
      ],
      "metadata": {
        "colab": {
          "base_uri": "https://localhost:8080/"
        },
        "id": "ioamWztmGH6Q",
        "outputId": "59571a2e-0408-4a68-a1f9-7fb98e001c64"
      },
      "execution_count": null,
      "outputs": [
        {
          "output_type": "stream",
          "name": "stdout",
          "text": [
            "X: (4, 10)\n",
            "\n",
            "W1: (10, 3)\n",
            "\n",
            "B1: (3,)\n",
            "\n",
            "A1: (4, 3)\n",
            "\n",
            "W2: (3, 5)\n",
            "\n",
            "B2: (5,)\n",
            "\n",
            "Y: (4, 5)\n",
            "\n"
          ]
        }
      ]
    },
    {
      "cell_type": "code",
      "source": [
        "# Code.2-2-2: Dense Layers with Python List\n",
        "\n",
        "import tensorflow as tf\n",
        "from tensorflow.keras.layers import Dense\n",
        "\n",
        "N, n_feature = 4, 10\n",
        "X = tf.random.normal(shape=(N, n_feature))\n",
        "\n",
        "n_neurons = [10, 20, 30, 40, 50, 60, 70, 80, 90, 100]\n",
        "dense_layers = list()\n",
        "\n",
        "for n_neuron in n_neurons:\n",
        "  dense = Dense(units=n_neuron, activation='relu')\n",
        "  dense_layers.append(dense)\n",
        "\n",
        "print('Input: ', X.shape)\n",
        "\n",
        "for dense_idx, dense in enumerate(dense_layers): # enumerate: 인덱스와 원소 동시 접근, (index, 원소) 할당\n",
        "  X = dense(X)\n",
        "  print('After dense layer', dense_idx+1)\n",
        "  print(X.shape, '\\n')\n",
        "Y = X"
      ],
      "metadata": {
        "colab": {
          "base_uri": "https://localhost:8080/"
        },
        "id": "iG8cVD0lcjQC",
        "outputId": "d9e6f568-c95d-418b-b214-f945171ca7f2"
      },
      "execution_count": null,
      "outputs": [
        {
          "output_type": "stream",
          "name": "stdout",
          "text": [
            "Input:  (4, 10)\n",
            "After dense layer 1\n",
            "(4, 10) \n",
            "\n",
            "After dense layer 2\n",
            "(4, 20) \n",
            "\n",
            "After dense layer 3\n",
            "(4, 30) \n",
            "\n",
            "After dense layer 4\n",
            "(4, 40) \n",
            "\n",
            "After dense layer 5\n",
            "(4, 50) \n",
            "\n",
            "After dense layer 6\n",
            "(4, 60) \n",
            "\n",
            "After dense layer 7\n",
            "(4, 70) \n",
            "\n",
            "After dense layer 8\n",
            "(4, 80) \n",
            "\n",
            "After dense layer 9\n",
            "(4, 90) \n",
            "\n",
            "After dense layer 10\n",
            "(4, 100) \n",
            "\n"
          ]
        }
      ]
    },
    {
      "cell_type": "code",
      "source": [
        "# Code.2-2-3: Output Calculation\n",
        "\n",
        "import tensorflow as tf\n",
        "\n",
        "from tensorflow.math import exp\n",
        "from tensorflow.linalg import matmul\n",
        "\n",
        "from tensorflow.keras.layers import Dense\n",
        "\n",
        "N, n_feature = 4, 10\n",
        "X = tf.random.normal(shape=(N, n_feature))\n",
        "X_cp = tf.identity(X) # X를 복사\n",
        "\n",
        "n_neurons = [3, 4, 5]\n",
        "dense_layers = list()\n",
        "\n",
        "for n_neuron in n_neurons:\n",
        "  dense = Dense(units=n_neuron, activation='sigmoid')\n",
        "  dense_layers.append(dense)\n",
        "\n",
        "# forward propagation(Tensorflow)\n",
        "W, B = list(), list()\n",
        "for dense_idx, dense in enumerate(dense_layers): # enumerate: 인덱스와 원소 동시 접근, (index, 원소) 할당\n",
        "  X = dense(X)\n",
        "  w, b = dense.get_weights()\n",
        "\n",
        "  W.append(w)\n",
        "  B.append(b)\n",
        "\n",
        "print('Y(Tensorflow): \\n', X.numpy())\n",
        "\n",
        "# forward propagation(Manual)\n",
        "for layer_idx in range(len(n_neurons)):\n",
        "  w, b = W[layer_idx], B[layer_idx]\n",
        "\n",
        "  X_cp = matmul(X_cp, w) + b\n",
        "  X_cp = 1/(1 + exp(-X_cp))\n",
        "\n",
        "print('Y(Manmul): \\n', X_cp.numpy())"
      ],
      "metadata": {
        "colab": {
          "base_uri": "https://localhost:8080/"
        },
        "id": "bF0ctr4EftnU",
        "outputId": "dfddc320-85ac-4b64-dd66-d413dc506819"
      },
      "execution_count": null,
      "outputs": [
        {
          "output_type": "stream",
          "name": "stdout",
          "text": [
            "Y(Tensorflow): \n",
            " [[0.67852825 0.70646363 0.587519   0.30788428 0.48369282]\n",
            " [0.68134487 0.7127404  0.60265166 0.3085062  0.50906956]\n",
            " [0.67237014 0.70281637 0.6041     0.31456006 0.50714386]\n",
            " [0.6610224  0.6877475  0.5938591  0.32353073 0.4942216 ]]\n",
            "Y(Manmul): \n",
            " [[0.67852825 0.70646363 0.587519   0.30788428 0.48369285]\n",
            " [0.6813449  0.71274036 0.6026516  0.30850616 0.50906956]\n",
            " [0.67237014 0.70281637 0.6041     0.31456006 0.5071438 ]\n",
            " [0.6610224  0.68774754 0.59385914 0.3235307  0.4942216 ]]\n"
          ]
        }
      ]
    },
    {
      "cell_type": "markdown",
      "source": [
        "2-3: Model Implementation"
      ],
      "metadata": {
        "id": "2omjIEq2lwoB"
      }
    },
    {
      "cell_type": "code",
      "source": [
        "# Code.2-3-1: Model Implementation with Sequential Method\n",
        "\n",
        "from tensorflow.keras.layers import Dense\n",
        "from tensorflow.keras.models import Sequential\n",
        "\n",
        "model = Sequential() # layer object들을 포함 (layer들이 sequential하게 연결됨)\n",
        "model.add(Dense(units=10, activation='sigmoid'))\n",
        "model.add(Dense(units=20, activation='sigmoid'))"
      ],
      "metadata": {
        "id": "0G-XxSyxlvD_"
      },
      "execution_count": null,
      "outputs": []
    },
    {
      "cell_type": "code",
      "source": [
        "# Code.2-3-2: Model Implementation with Model-subclassing(상속) \n",
        "\n",
        "from tensorflow.keras.layers import Dense\n",
        "from tensorflow.keras.models import Model\n",
        "\n",
        "# 텐서플로우에서 제공하는 모델 상속받기\n",
        "class TestModel(Model):\n",
        "  def __init__(self):\n",
        "    super(TestModel, self).__init__()\n",
        "\n",
        "    self.dense1 = Dense(units=10, activation='sigmoid')\n",
        "    self.dense2 = Dense(units=20, activation='sigmoid')\n",
        "\n",
        "model = TestModel()"
      ],
      "metadata": {
        "id": "HbcrjX2moXmr"
      },
      "execution_count": null,
      "outputs": []
    },
    {
      "cell_type": "code",
      "source": [
        "# Code.2-3-3: Forward Propagation of Model\n",
        "\n",
        "import tensorflow as tf\n",
        "\n",
        "from tensorflow.keras.layers import Dense\n",
        "from tensorflow.keras.models import Sequential\n",
        "from tensorflow.keras.models import Model\n",
        "\n",
        "X = tf.random.normal(shape=(4, 10))\n",
        "\n",
        "# sequenial method\n",
        "model = Sequential()\n",
        "model.add(Dense(units=10, activation='sigmoid'))\n",
        "model.add(Dense(units=20, activation='sigmoid'))\n",
        "\n",
        "Y = model(X)\n",
        "\n",
        "# Model-subclassing\n",
        "class TestModel(Model):\n",
        "  def __init__(self):\n",
        "    super(TestModel, self).__init__()\n",
        "\n",
        "    self.dense1 = Dense(units=10, activation='sigmoid')\n",
        "    self.dense2 = Dense(units=20, activation='sigmoid')\n",
        "\n",
        "  def call(self, x):\n",
        "    x = self.dense1(x)\n",
        "    x = self.dense2(x)\n",
        "    return X\n",
        "\n",
        "model = TestModel()\n",
        "Y = model(X)"
      ],
      "metadata": {
        "colab": {
          "base_uri": "https://localhost:8080/"
        },
        "id": "ozedG_pIrioh",
        "outputId": "ab362bf6-29ac-421b-e280-a8f6f2b6b731"
      },
      "execution_count": null,
      "outputs": [
        {
          "output_type": "execute_result",
          "data": {
            "text/plain": [
              "<tf.Tensor: shape=(4, 10), dtype=float32, numpy=\n",
              "array([[-0.77538806, -0.79431814,  1.1242169 , -0.16516745, -1.7533065 ,\n",
              "         0.83931863, -0.34323192,  1.7822747 , -0.92974985, -0.2061417 ],\n",
              "       [-2.1029775 ,  0.14482184, -1.3477298 , -1.2315358 , -1.9620634 ,\n",
              "         0.8213118 ,  1.139046  ,  0.27639607, -0.30839702,  1.2043407 ],\n",
              "       [-0.6237425 , -0.5489391 , -0.8195602 ,  1.1156944 , -1.5193105 ,\n",
              "        -0.61323917, -1.3036895 , -0.29999664,  0.8427249 ,  0.6045288 ],\n",
              "       [ 0.09045117,  0.9476534 ,  0.4800321 ,  0.49775457, -1.3111477 ,\n",
              "        -0.11441507, -0.02337359,  0.5959432 , -0.908235  ,  0.75575674]],\n",
              "      dtype=float32)>"
            ]
          },
          "metadata": {},
          "execution_count": 11
        }
      ]
    },
    {
      "cell_type": "code",
      "source": [
        "# +\n",
        "class TestModel(Model):\n",
        "  super(TestModel, self).__init__()\n",
        "  self.n_neurons = n_neurons\n",
        "\n",
        "  self.dense_layer = list()\n",
        "  for n_neuron in self.n_neurons:\n",
        "    self.dense_layers.append(Dense(units=n_neuron, activation='sigmoid'))\n",
        "\n",
        "  def call(self, x):\n",
        "    for dense in self.dense_layers:\n",
        "      x = dense(x)\n",
        "    return x\n",
        "  \n",
        "class TestModel(Model):\n",
        "  super(TestModel, self).__init__()\n",
        "  self.n_neurons = n_neurons\n",
        "\n",
        "  self.model = Sequential()\n",
        "  self.model.add(Dense(units=10, activation='sigmoid'))\n",
        "  self.model.add(Dense(units=20, activation='sigmoid'))\n",
        "\n",
        "  def call(self, x):\n",
        "    x = self.model(x)\n",
        "    return x\n",
        "\n",
        "n_neurons = [3, 4, 5]\n",
        "model = TestModel(n_neurons)"
      ],
      "metadata": {
        "id": "y8y2EmRdHlGp"
      },
      "execution_count": null,
      "outputs": []
    },
    {
      "cell_type": "code",
      "source": [
        "# Code.2-3-4: Layers in Models\n",
        "\n",
        "import tensorflow as tf\n",
        "\n",
        "from tensorflow.keras.layers import Dense\n",
        "from tensorflow.keras.models import Sequential\n",
        "\n",
        "X = tf.random.normal(shape=(4, 10))\n",
        "\n",
        "model = Sequential()\n",
        "model.add(Dense(units=10, activation='sigmoid'))\n",
        "model.add(Dense(units=20, activation='sigmoid'))\n",
        "\n",
        "Y = model(X)\n",
        "\n",
        "print(type(model.layers))\n",
        "print(model.layers)\n",
        "\n",
        "for layer in model.layers:\n",
        "  w, b = layer.get_weights()\n",
        "  print(w.shape, b.shape)"
      ],
      "metadata": {
        "colab": {
          "base_uri": "https://localhost:8080/"
        },
        "id": "DmfyDboEJzUe",
        "outputId": "5719f330-1a7b-47d2-ac52-a99eda930f52"
      },
      "execution_count": 3,
      "outputs": [
        {
          "output_type": "stream",
          "name": "stdout",
          "text": [
            "<class 'list'>\n",
            "[<keras.layers.core.dense.Dense object at 0x7f598b93f450>, <keras.layers.core.dense.Dense object at 0x7f598b93ff90>]\n",
            "(10, 10) (10,)\n",
            "(10, 20) (20,)\n"
          ]
        }
      ]
    },
    {
      "cell_type": "code",
      "source": [
        "# Code.2-3-5: Trainable Variables in Models\n",
        "\n",
        "import tensorflow as tf\n",
        "\n",
        "from tensorflow.keras.layers import Dense\n",
        "from tensorflow.keras.models import Sequential\n",
        "\n",
        "X = tf.random.normal(shape=(4, 10))\n",
        "\n",
        "model = Sequential()\n",
        "model.add(Dense(units=10, activation='sigmoid'))\n",
        "model.add(Dense(units=20, activation='sigmoid'))\n",
        "\n",
        "Y = model(X)\n",
        "\n",
        "print(type(model.trainable_variables)) # trainable_variables 안에 w, b 값 포함\n",
        "print(len(model.trainable_variables))\n",
        "\n",
        "for train_var in model.trainable_variables:\n",
        "  print(train_var.shape)"
      ],
      "metadata": {
        "colab": {
          "base_uri": "https://localhost:8080/"
        },
        "id": "KeoKsjGBKCUi",
        "outputId": "bd86b206-f422-4e00-dddd-4380b8da12c6"
      },
      "execution_count": 4,
      "outputs": [
        {
          "output_type": "stream",
          "name": "stdout",
          "text": [
            "<class 'list'>\n",
            "4\n",
            "(10, 10)\n",
            "(10,)\n",
            "(10, 20)\n",
            "(20,)\n"
          ]
        }
      ]
    }
  ]
}