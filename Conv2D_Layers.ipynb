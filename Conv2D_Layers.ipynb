{
 "cells": [
  {
   "cell_type": "markdown",
   "metadata": {
    "id": "cSWN8WlnDoIk"
   },
   "source": [
    "### Shape of Conv Layers"
   ]
  },
  {
   "cell_type": "code",
   "execution_count": 25,
   "metadata": {
    "id": "yb192qLjDnPu"
   },
   "outputs": [
    {
     "name": "stdout",
     "output_type": "stream",
     "text": [
      "(1, 28, 28, 5)\n",
      "(3, 3, 5, 1)\n",
      "(1,)\n",
      "(1, 26, 26, 1)\n"
     ]
    }
   ],
   "source": [
    "import tensorflow as tf\n",
    "\n",
    "from tensorflow.keras.layers import Conv2D\n",
    "\n",
    "N, n_H, n_W, n_C = 1, 28, 28, 5 # input image = 28X28X5, n_C: 깊이\n",
    "n_filter = 1 # 뉴런의 개수\n",
    "k_size = 3 # 커널 = 3X3X5\n",
    "\n",
    "images = tf.random.uniform(minval=0, maxval=1,\n",
    "                          shape=((N, n_H, n_W, n_C)))\n",
    "\n",
    "\n",
    "conv =  Conv2D(filters =n_filter,kernel_size=k_size)\n",
    "\n",
    "y = conv(images) # 커널 통과힌 결과\n",
    "\n",
    "W, B = conv.get_weights()\n",
    "\n",
    "\n",
    "print (image.shape)\n",
    "print (W.shape)\n",
    "print(B.shape)\n",
    "print (y.shape)"
   ]
  },
  {
   "cell_type": "markdown",
   "metadata": {
    "id": "J5ihIUT1Do5t"
   },
   "source": [
    "### Correlation Calculation"
   ]
  },
  {
   "cell_type": "code",
   "execution_count": 26,
   "metadata": {
    "id": "N8VGxtfyDpJN"
   },
   "outputs": [
    {
     "name": "stdout",
     "output_type": "stream",
     "text": [
      "Y(Tensorflow) : \n",
      " [[ 0.44109568  0.24300475  0.36228997]\n",
      " [ 0.6125108   0.04371722  0.5127007 ]\n",
      " [ 0.3571732  -0.05183658  0.24013679]]\n",
      "Y(Manual): \n",
      " [[ 0.44109568  0.24300475  0.36228994]\n",
      " [ 0.6125108   0.04371723  0.51270068]\n",
      " [ 0.3571732  -0.05183658  0.24013677]]\n"
     ]
    }
   ],
   "source": [
    "import numpy as np\n",
    "import tensorflow as tf\n",
    "\n",
    "from tensorflow.keras.layers import Conv2D\n",
    "\n",
    "N, n_H, n_W, n_C = 1, 5, 5, 1\n",
    "n_filter = 1\n",
    "k_size = 3\n",
    "\n",
    "images = tf.random.uniform(minval=0, maxval=1,\n",
    "                          shape=((N, n_H, n_W, n_C)))\n",
    "\n",
    "\n",
    "conv =  Conv2D(filters =n_filter,kernel_size=k_size)\n",
    "\n",
    "y = conv(images)\n",
    "print(\"Y(Tensorflow) : \\n\",y.numpy().squeeze())\n",
    "W, B = conv.get_weights()\n",
    "\n",
    "####\n",
    "images = images.numpy().squeeze()\n",
    "W = W.squeeze()\n",
    "\n",
    "y_man = np.zeros(shape=(n_H - k_size + 1, n_W - k_size + 1))\n",
    "for i in range(n_H - k_size + 1):\n",
    "    for j in range(n_W - k_size + 1):\n",
    "        window = images[i : i+k_size, j : j+k_size]\n",
    "        y_man[i, j] = np.sum(window*W) + B\n",
    "        \n",
    "print(\"Y(Manual): \\n\", y_man)"
   ]
  },
  {
   "cell_type": "markdown",
   "metadata": {
    "id": "jmm7fVt_Dpg1"
   },
   "source": [
    "### Correlation with n-channel"
   ]
  },
  {
   "cell_type": "code",
   "execution_count": 29,
   "metadata": {
    "id": "AD98OCUKDpuv"
   },
   "outputs": [
    {
     "name": "stdout",
     "output_type": "stream",
     "text": [
      "Y(Tensorflow): \n",
      " [[0.6412274  0.90759146 0.8077132 ]\n",
      " [0.7218005  1.0016291  0.82218623]\n",
      " [0.61645126 0.5086763  0.5091823 ]]\n",
      "Y(Manual): \n",
      " [[0.64122742 0.90759152 0.80771321]\n",
      " [0.72180051 1.00162911 0.82218623]\n",
      " [0.6164512  0.50867629 0.50918227]]\n"
     ]
    }
   ],
   "source": [
    "import numpy as np\n",
    "import tensorflow as tf\n",
    "\n",
    "from tensorflow.keras.layers import Conv2D\n",
    "\n",
    "N, n_H, n_W, n_C = 1, 5, 5, 1\n",
    "n_filter = 1\n",
    "k_size = 3\n",
    "\n",
    "images = tf.random.uniform(minval=0, maxval=1,\n",
    "                          shape=((N, n_H, n_W, n_C)))\n",
    "\n",
    "conv = Conv2D(filters=n_filter, kernel_size=k_size)\n",
    "\n",
    "y = conv(images)\n",
    "print(\"Y(Tensorflow): \\n\", y.numpy().squeeze())\n",
    "W, B = conv.get_weights()\n",
    "\n",
    "####\n",
    "images = images.numpy().squeeze()\n",
    "W = W.squeeze()\n",
    "y_man = np.zeros(shape=(n_H - k_size + 1, n_W - k_size + 1))\n",
    "for i in range(n_H - k_size + 1):\n",
    "  for j in range(n_W - k_size + 1):\n",
    "    window = images[i : i+k_size, j : j+k_size]\n",
    "    y_man[i, j] = np.sum(window*W) + B\n",
    "\n",
    "\n",
    "print(\"Y(Manual): \\n\", y_man)"
   ]
  }
 ],
 "metadata": {
  "colab": {
   "authorship_tag": "ABX9TyOwbEp3raiSAHzSs2ZybwdO",
   "collapsed_sections": [],
   "name": "CH05_04. [구현강의]_Conv2D_Layers",
   "provenance": []
  },
  "kernelspec": {
   "display_name": "Python 3 (ipykernel)",
   "language": "python",
   "name": "python3"
  },
  "language_info": {
   "codemirror_mode": {
    "name": "ipython",
    "version": 3
   },
   "file_extension": ".py",
   "mimetype": "text/x-python",
   "name": "python",
   "nbconvert_exporter": "python",
   "pygments_lexer": "ipython3",
   "version": "3.9.7"
  }
 },
 "nbformat": 4,
 "nbformat_minor": 1
}
