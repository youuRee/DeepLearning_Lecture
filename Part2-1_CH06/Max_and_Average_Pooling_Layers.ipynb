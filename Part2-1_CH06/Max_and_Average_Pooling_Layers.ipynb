{
  "nbformat": 4,
  "nbformat_minor": 0,
  "metadata": {
    "colab": {
      "name": "Max_and_Average_Pooling_Layers.ipynb",
      "provenance": [],
      "collapsed_sections": [],
      "include_colab_link": true
    },
    "kernelspec": {
      "name": "python3",
      "display_name": "Python 3"
    },
    "language_info": {
      "name": "python"
    }
  },
  "cells": [
    {
      "cell_type": "markdown",
      "metadata": {
        "id": "view-in-github",
        "colab_type": "text"
      },
      "source": [
        "<a href=\"https://colab.research.google.com/github/youuRee/DeepLearning_Lecture/blob/main/Max_and_Average_Pooling_Layers.ipynb\" target=\"_parent\"><img src=\"https://colab.research.google.com/assets/colab-badge.svg\" alt=\"Open In Colab\"/></a>"
      ]
    },
    {
      "cell_type": "markdown",
      "metadata": {
        "id": "azS591Vf9aPO"
      },
      "source": [
        "### Max Pooling"
      ]
    },
    {
      "cell_type": "code",
      "metadata": {
        "id": "XcKV93MLb2UA",
        "colab": {
          "base_uri": "https://localhost:8080/"
        },
        "outputId": "05fbcc9d-8c99-4760-a7a0-ad63c19ee408"
      },
      "source": [
        "import numpy as np\n",
        "import tensorflow as tf\n",
        "\n",
        "from tensorflow.keras.layers import MaxPooling1D\n",
        "\n",
        "L, f, s = 10, 2, 1 # f: window를 몇개씩 묶을건지, s(strides): window를 몇칸씩 띌건지\n",
        "\n",
        "x = tf.random.normal(shape=(1, L, 1)) # 1 x L vector\n",
        "\n",
        "pool_max = MaxPooling1D(pool_size=f, strides=s) # f=1 -> 1 x 1 shape\n",
        "pooled_max = pool_max(x)\n",
        "\n",
        "print(\"x: {}\\n{}\".format(x.shape, x.numpy().flatten()))\n",
        "print(\"pooled_max(Tensorflow): {}\\n{}\".format(pooled_max.shape,\n",
        "                                        pooled_max.numpy().flatten()))\n",
        "\n",
        "x = x.numpy().flatten()\n",
        "pooled_max_man = np.zeros((L - f + 1, ))\n",
        "for i in range(L-f+1):\n",
        "  window = x[i:i+f]\n",
        "  pooled_max_man[i] = np.max(window)\n",
        "\n",
        "print(\"pooled max(Manual): {}\\n{}\".format (pooled_max_man.shape,\n",
        "                                            pooled_max_man))"
      ],
      "execution_count": 5,
      "outputs": [
        {
          "output_type": "stream",
          "name": "stdout",
          "text": [
            "x: (1, 10, 1)\n",
            "[ 0.49707216 -0.60469514 -1.0814945  -1.5263816  -0.04543524  0.3618649\n",
            " -0.31423506  0.5992497  -1.0249035   0.07633875]\n",
            "pooled_max(Tensorflow): (1, 9, 1)\n",
            "[ 0.49707216 -0.60469514 -1.0814945  -0.04543524  0.3618649   0.3618649\n",
            "  0.5992497   0.5992497   0.07633875]\n",
            "pooled max(Manual): (9,)\n",
            "[ 0.49707216 -0.60469514 -1.08149445 -0.04543524  0.36186489  0.36186489\n",
            "  0.59924972  0.59924972  0.07633875]\n"
          ]
        }
      ]
    },
    {
      "cell_type": "markdown",
      "metadata": {
        "id": "DYTb1JxL9amH"
      },
      "source": [
        "### Average Pooling"
      ]
    },
    {
      "cell_type": "code",
      "metadata": {
        "id": "LkXGYZHC9a0g",
        "colab": {
          "base_uri": "https://localhost:8080/"
        },
        "outputId": "3979a62d-3826-4253-8a99-3d1c282e9571"
      },
      "source": [
        "import numpy as np\n",
        "import tensorflow as tf\n",
        "\n",
        "from tensorflow.keras.layers import MaxPooling1D\n",
        "\n",
        "L, f, s = 10, 2, 1\n",
        "\n",
        "x = tf.random.normal(shape=(1, L, 1))\n",
        "\n",
        "pool_avg = MaxPooling1D(pool_size=f, strides=s)\n",
        "pooled_avg = pool_avg(x)\n",
        "\n",
        "print(\"x: {}\\n{}\".format(x.shape, x.numpy().flatten()))\n",
        "print(\"pooled_avg(Tensorflow): {}\\n{}\".format(pooled_avg.shape,\n",
        "                                        pooled_avg.numpy().flatten()))\n",
        "\n",
        "x = x.numpy().flatten()\n",
        "pooled_avg_man = np.zeros((L - f + 1, ))\n",
        "for i in range(L-f+1):\n",
        "  window = x[i:i+f]\n",
        "  pooled_avg_man[i] = np.mean(window)\n",
        "\n",
        "print(\"pooled_avg(Manual): {}\\n{}\".format(pooled_avg_man.shape,\n",
        "                                            pooled_avg_man))"
      ],
      "execution_count": 8,
      "outputs": [
        {
          "output_type": "stream",
          "name": "stdout",
          "text": [
            "x: (1, 10, 1)\n",
            "[-1.0037761  -1.0361043   0.73231465 -0.1697108  -0.30194202  2.4482028\n",
            " -1.2187166  -1.3861419  -0.48639384  1.0278198 ]\n",
            "pooled_avg(Tensorflow): (1, 9, 1)\n",
            "[-1.0037761   0.73231465  0.73231465 -0.1697108   2.4482028   2.4482028\n",
            " -1.2187166  -0.48639384  1.0278198 ]\n",
            "pooled_avg(Manual): (9,)\n",
            "[-1.01994014 -0.15189484  0.28130192 -0.2358264   1.07313037  0.61474311\n",
            " -1.3024292  -0.93626785  0.27071297]\n"
          ]
        }
      ]
    },
    {
      "cell_type": "markdown",
      "metadata": {
        "id": "E27WphK39bHF"
      },
      "source": [
        "### 2D Max/Avg Pooling"
      ]
    },
    {
      "cell_type": "code",
      "metadata": {
        "id": "MgIXlh1K9bU5",
        "colab": {
          "base_uri": "https://localhost:8080/"
        },
        "outputId": "280ea0f5-0b16-4407-d5f7-6d4b7527c319"
      },
      "source": [
        "import numpy as np\n",
        "import tensorflow as tf\n",
        "\n",
        "from tensorflow.keras.layers import MaxPooling2D\n",
        "\n",
        "N, n_H, n_W, n_C =1, 5, 5, 1\n",
        "f, s = 2, 1\n",
        "\n",
        "x = tf.random.normal(shape=(N, n_H, n_W, n_C))\n",
        "\n",
        "pool_max = MaxPooling2D(pool_size = f, strides=s) # f=2 -> 2 x 2 shape\n",
        "pooled_max = pool_max(x)\n",
        "\n",
        "print(\"x: {}\\n{}\".format(x.shape, x.numpy().squeeze()))\n",
        "print(\"pooled max(Tensorflow): {}\\n{}\". format(pooled_max.shape,\n",
        "                                              pooled_max.numpy().squeeze()))\n",
        "x = x.numpy().squeeze()\n",
        "pooled_max_man = np.zeros(shape=(n_H - f + 1, n_W - f + 1))\n",
        "for i in range(n_H - f + 1):\n",
        "    for j in range(n_W - f + 1):\n",
        "        window = x[i:i+f,j:j+f]\n",
        "        pooled_max_man[i, j] = np.max(window)\n",
        "\n",
        "print(\"pooled max(Manual): {}\\n{}\".format(pooled_max_man.shape, \n",
        "                                          pooled_max_man))"
      ],
      "execution_count": 16,
      "outputs": [
        {
          "output_type": "stream",
          "name": "stdout",
          "text": [
            "x: (1, 5, 5, 1)\n",
            "[[-0.13338763 -0.5453655   0.46082142  1.4656358   0.6979022 ]\n",
            " [-0.55690205  0.7628222   0.66231686  0.71250296 -0.8059913 ]\n",
            " [-0.3210735   0.03913952 -0.13616514  0.8002857   1.2321188 ]\n",
            " [-1.6400495   0.22539862  0.12130111  0.22061998  0.6112773 ]\n",
            " [ 0.2654617   0.14959763  0.5008948  -0.670768    2.3123882 ]]\n",
            "pooled max(Tensorflow): (1, 4, 4, 1)\n",
            "[[0.7628222  0.7628222  1.4656358  1.4656358 ]\n",
            " [0.7628222  0.7628222  0.8002857  1.2321188 ]\n",
            " [0.22539862 0.22539862 0.8002857  1.2321188 ]\n",
            " [0.2654617  0.5008948  0.5008948  2.3123882 ]]\n",
            "pooled max(Manual): (4, 4)\n",
            "[[0.76282221 0.76282221 1.46563578 1.46563578]\n",
            " [0.76282221 0.76282221 0.8002857  1.23211884]\n",
            " [0.22539862 0.22539862 0.8002857  1.23211884]\n",
            " [0.26546171 0.50089478 0.50089478 2.31238818]]\n"
          ]
        }
      ]
    },
    {
      "cell_type": "markdown",
      "metadata": {
        "id": "7NZYCqAv9bmp"
      },
      "source": [
        "### 2D Average Pooling"
      ]
    },
    {
      "cell_type": "code",
      "metadata": {
        "id": "kC9Bm36X9bx6",
        "colab": {
          "base_uri": "https://localhost:8080/"
        },
        "outputId": "ff1beb57-184d-488b-c5ad-78be46b0e177"
      },
      "source": [
        "import numpy as np\n",
        "import tensorflow as tf\n",
        "\n",
        "from tensorflow.keras.layers import AveragePooling2D\n",
        "\n",
        "N, n_H, n_W, n_C  = 1, 5, 5, 1\n",
        "f, s =2, 1\n",
        "\n",
        "x = tf.random.normal(shape=(N, n_H, n_W, n_C))\n",
        "pool_avg = AveragePooling2D(pool_size=f, strides=s)\n",
        "pooled_avg = pool_avg(x)\n",
        "\n",
        "print(\"x: {}\\n{}\".format(x.shape, x.numpy().squeeze()))\n",
        "print(\"pooled_avg(Tensorflow): {}\\n{}\".format(pooled_avg.shape,\n",
        "                                              pooled_avg.numpy().squeeze()))\n",
        "\n",
        "x = x.numpy().squeeze()\n",
        "pooled_avg_man = np.zeros(shape=(n_H - f + 1, n_W- f + 1))\n",
        "for i in range(n_H - f + 1):\n",
        "    for j in range(n_W - f + 1):\n",
        "      window = x[i:i+f, j:j+f]\n",
        "      pooled_avg_man[i, j] = np.mean(window)\n",
        "\n",
        "print(\"pooled avg(Manual): {}\\n{}\". format (pooled_avg_man.shape,\n",
        "                                              pooled_avg_man))"
      ],
      "execution_count": 17,
      "outputs": [
        {
          "output_type": "stream",
          "name": "stdout",
          "text": [
            "x: (1, 5, 5, 1)\n",
            "[[-0.25525704 -1.3182727  -0.9093466   1.0057625  -1.413715  ]\n",
            " [ 1.350178   -0.01735511 -2.195587    0.45582476  0.7800549 ]\n",
            " [ 0.877247    1.3477519  -0.8255786  -1.9918145   1.3495567 ]\n",
            " [-1.6101594  -0.9571623   0.12680942  0.7541149   1.3335668 ]\n",
            " [-1.1531104   0.55598444  0.46689376 -0.4496002  -0.03744446]]\n",
            "pooled_avg(Tensorflow): (1, 4, 4, 1)\n",
            "[[-0.06017671 -1.1101403  -0.4108366   0.20698178]\n",
            " [ 0.88945544 -0.4226922  -1.1392888   0.14840546]\n",
            " [-0.08558069 -0.0770449  -0.4841172   0.36135596]\n",
            " [-0.79111195  0.04813132  0.22455448  0.40015927]]\n",
            "pooled avg(Manual): (4, 4)\n",
            "[[-0.06017671 -1.11014032 -0.41083661  0.20698178]\n",
            " [ 0.88945544 -0.42269221 -1.13928878  0.14840546]\n",
            " [-0.08558069 -0.0770449  -0.48411721  0.36135596]\n",
            " [-0.79111195  0.04813132  0.22455448  0.40015927]]\n"
          ]
        }
      ]
    }
  ]
}
