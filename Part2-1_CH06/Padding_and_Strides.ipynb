{
  "nbformat": 4,
  "nbformat_minor": 0,
  "metadata": {
    "colab": {
      "name": "Padding_and_Strides.ipynb",
      "provenance": [],
      "collapsed_sections": [],
      "include_colab_link": true
    },
    "kernelspec": {
      "name": "python3",
      "display_name": "Python 3"
    },
    "language_info": {
      "name": "python"
    }
  },
  "cells": [
    {
      "cell_type": "markdown",
      "metadata": {
        "id": "view-in-github",
        "colab_type": "text"
      },
      "source": [
        "<a href=\"https://colab.research.google.com/github/youuRee/DeepLearning_Lecture/blob/main/Padding_and_Strides.ipynb\" target=\"_parent\"><img src=\"https://colab.research.google.com/assets/colab-badge.svg\" alt=\"Open In Colab\"/></a>"
      ]
    },
    {
      "cell_type": "markdown",
      "metadata": {
        "id": "qbSJso4sA6Da"
      },
      "source": [
        "### 3D Max Pooling"
      ]
    },
    {
      "cell_type": "code",
      "metadata": {
        "id": "uBLfjH5bb3WS",
        "colab": {
          "base_uri": "https://localhost:8080/"
        },
        "outputId": "2eabd52e-fd8b-4fd2-fcfc-71b25f9fd869"
      },
      "source": [
        "import math\n",
        "import numpy as np\n",
        "import tensorflow as tf\n",
        "\n",
        "from tensorflow.keras.layers import MaxPooling2D\n",
        "N, n_H, n_W, n_C = 1, 5, 5, 3\n",
        "f, s= 2, 2\n",
        "\n",
        "x = tf.random.normal(shape = (N,n_H,n_W,n_C))\n",
        "# print(\"x: {}}\\{(}°. format (x. shape,\n",
        "#                               np.transpose(x.numpy().squeeze(), {2, 0, 1))))\n",
        "\n",
        "pool_max = MaxPooling2D(pool_size=f, strides = s)\n",
        "pooled_max = pool_max(x)\n",
        "\n",
        "pooled_max_t = np.transpose(pooled_max.numpy().squeeze(), (2, 0, 1))\n",
        "print(\"pooled_max(Tensorflow): {}\\n{}\".format(pooled_max.shape,\n",
        "                                              pooled_max_t))\n",
        "x = x.numpy().squeeze()\n",
        "n_H_ = math.floor((n_H - f)/s + 1) # floor: 바닥함수(가우스)\n",
        "n_W_ = math.floor((n_W - f)/s + 1)\n",
        "pooled_max_man = np.zeros(shape=(n_H_, n_W_, n_C))\n",
        "\n",
        "for c in range(n_C):\n",
        "      c_image = x[:, :, c]\n",
        "      h_ = 0\n",
        "      for h in range(0, n_H - f + 1, s):\n",
        "        w_=0\n",
        "        for w in range(0, n_W-f+1 , s):\n",
        "          window = c_image[h:h+f, w:w+f]\n",
        "          pooled_max_man[h_, w_, c] = np.max(window)\n",
        "\n",
        "          w_ +=1\n",
        "        h_ +=1\n",
        "pooled_max_t = np.transpose(pooled_max_man, (2, 0, 1))\n",
        "print(\"pooled max(Manual): {}\\n{}\". format (pooled_max_man.shape,\n",
        "                                            pooled_max_t))"
      ],
      "execution_count": 7,
      "outputs": [
        {
          "output_type": "stream",
          "name": "stdout",
          "text": [
            "pooled_max(Tensorflow): (1, 2, 2, 3)\n",
            "[[[-0.21688476  0.81755435]\n",
            "  [ 1.0875492   1.5872422 ]]\n",
            "\n",
            " [[ 1.8509338   0.59053963]\n",
            "  [ 0.74755836  1.9207478 ]]\n",
            "\n",
            " [[-0.44352725  1.3913611 ]\n",
            "  [ 0.6963096   0.39631042]]]\n",
            "pooled max(Manual): (2, 2, 3)\n",
            "[[[-0.21688476  0.81755435]\n",
            "  [ 1.08754921  1.58724225]]\n",
            "\n",
            " [[ 1.85093379  0.59053963]\n",
            "  [ 0.74755836  1.92074776]]\n",
            "\n",
            " [[-0.44352725  1.39136112]\n",
            "  [ 0.69630963  0.39631042]]]\n"
          ]
        }
      ]
    },
    {
      "cell_type": "markdown",
      "metadata": {
        "id": "qi7dViN8A6km"
      },
      "source": [
        "### ZeroPadding2D Layer"
      ]
    },
    {
      "cell_type": "code",
      "metadata": {
        "id": "M3rsZHEuA6w2",
        "colab": {
          "base_uri": "https://localhost:8080/"
        },
        "outputId": "2e6c8659-4a25-438c-87b8-b3561601d8ae"
      },
      "source": [
        "import numpy as np\n",
        "import tensorflow as tf\n",
        "\n",
        "from tensorflow.keras.layers import ZeroPadding2D\n",
        "\n",
        "images = tf.random.normal(shape=(1, 28, 28, 3))\n",
        "\n",
        "print (images. shape)\n",
        "# print(np.transpose(images.numpy().squeeze(), (2, 0, 1)))\n",
        "\n",
        "zero_padding = ZeroPadding2D(padding=2)\n",
        "y = zero_padding(images)\n",
        "print (y.shape)\n",
        "# print(np.transpoge(y.numpy().squeeze(), (2, 0, 1)))"
      ],
      "execution_count": 8,
      "outputs": [
        {
          "output_type": "stream",
          "name": "stdout",
          "text": [
            "(1, 28, 28, 3)\n",
            "(1, 32, 32, 3)\n"
          ]
        }
      ]
    },
    {
      "cell_type": "markdown",
      "metadata": {
        "id": "SQ7QzYzGA7Hm"
      },
      "source": [
        "### Zero Padding with Conv2D Layers"
      ]
    },
    {
      "cell_type": "code",
      "metadata": {
        "id": "hHeR6iyzA7Uu",
        "colab": {
          "base_uri": "https://localhost:8080/"
        },
        "outputId": "c9f98253-a0e2-475d-be04-b810e6562f67"
      },
      "source": [
        "import tensorflow as tf\n",
        "from tensorflow.keras.layers import Conv2D\n",
        "\n",
        "images = tf.random.normal(shape=(1, 28, 28, 3))\n",
        "\n",
        "conv = Conv2D(filters=1, kernel_size=3, padding='same') # same: size가 줄어들지 않도록 자동으로 패딩 배치, valid: padding 안함\n",
        "y = conv(images)\n",
        "print(y.shape) # input's shape와 동일"
      ],
      "execution_count": 9,
      "outputs": [
        {
          "output_type": "stream",
          "name": "stdout",
          "text": [
            "(1, 28, 28, 1)\n"
          ]
        }
      ]
    },
    {
      "cell_type": "markdown",
      "metadata": {
        "id": "BgcVGcktA7fO"
      },
      "source": [
        "### strides in Conv2D Layers"
      ]
    },
    {
      "cell_type": "code",
      "metadata": {
        "id": "d5j5VJpGA7tO",
        "colab": {
          "base_uri": "https://localhost:8080/"
        },
        "outputId": "5d7036a0-e9af-406b-e8f8-105a8feecda7"
      },
      "source": [
        "import tensorflow as tf\n",
        "from tensorflow.keras.layers import Conv2D\n",
        "\n",
        "images = tf.random.normal(shape=(1, 28, 28, 3))\n",
        "\n",
        "conv = Conv2D(filters=1, kernel_size=3, padding='valid',strides =2)\n",
        "y = conv(images)\n",
        "\n",
        "print(images.shape)\n",
        "print(y.shape)"
      ],
      "execution_count": 11,
      "outputs": [
        {
          "output_type": "stream",
          "name": "stdout",
          "text": [
            "(1, 28, 28, 3)\n",
            "(1, 13, 13, 1)\n"
          ]
        }
      ]
    },
    {
      "cell_type": "markdown",
      "metadata": {
        "id": "pit1l3jgEY4L"
      },
      "source": [
        "### Strides in Pooling Layers"
      ]
    },
    {
      "cell_type": "code",
      "metadata": {
        "id": "5UhjdGe4EZFO",
        "colab": {
          "base_uri": "https://localhost:8080/"
        },
        "outputId": "4db9ebae-524d-4d9b-9001-bdfee0db6689"
      },
      "source": [
        "import tensorflow as tf\n",
        "from tensorflow.keras.layers import Conv2D\n",
        "\n",
        "images = tf.random.normal(shape=(1, 28, 28, 3))\n",
        "\n",
        "pool = MaxPooling2D(pool_size=3, strides =2)\n",
        "y = pool(images)\n",
        "\n",
        "print(images.shape)\n",
        "print(y.shape)"
      ],
      "execution_count": 12,
      "outputs": [
        {
          "output_type": "stream",
          "name": "stdout",
          "text": [
            "(1, 28, 28, 3)\n",
            "(1, 13, 13, 3)\n"
          ]
        }
      ]
    }
  ]
}
