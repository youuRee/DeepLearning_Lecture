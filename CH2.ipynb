{
  "nbformat": 4,
  "nbformat_minor": 0,
  "metadata": {
    "colab": {
      "name": "CH2.ipynb",
      "provenance": [],
      "collapsed_sections": [],
      "authorship_tag": "ABX9TyM5piSxhns5SzZmkPd9iKqF",
      "include_colab_link": true
    },
    "kernelspec": {
      "name": "python3",
      "display_name": "Python 3"
    },
    "language_info": {
      "name": "python"
    }
  },
  "cells": [
    {
      "cell_type": "markdown",
      "metadata": {
        "id": "view-in-github",
        "colab_type": "text"
      },
      "source": [
        "<a href=\"https://colab.research.google.com/github/youuRee/DeepLearning_Lecture/blob/main/CH2.ipynb\" target=\"_parent\"><img src=\"https://colab.research.google.com/assets/colab-badge.svg\" alt=\"Open In Colab\"/></a>"
      ]
    },
    {
      "cell_type": "markdown",
      "source": [
        "2-1: Dense Layers"
      ],
      "metadata": {
        "id": "IJ6sA8P484ZQ"
      }
    },
    {
      "cell_type": "code",
      "source": [
        "# Code.2-1-1: Shapes of Dense Layers\n",
        "\n",
        "import tensorflow as tf\n",
        "from tensorflow.keras.layers import Dense\n",
        "\n",
        "N, n_feature = 1, 10\n",
        "X = tf.random.normal(shape=(N, n_feature)) # X's row vestor = N(1) * n_feature(10)\n",
        "\n",
        "n_neuron = 3 # weights metrix = 10 * 3, bias row vector = 1 * 10\n",
        "dense = Dense(units=n_neuron, activation='sigmoid')\n",
        "Y = dense(X)\n",
        "\n",
        "W, B = dense.get_weights()\n",
        "\n",
        "print('===== Input/Weights/Bias =====')\n",
        "print(\"X: \", X.shape)\n",
        "print(\"W: \", W.shape)\n",
        "print(\"B: \", B.shape)\n",
        "print(\"Y: \", Y.shape)"
      ],
      "metadata": {
        "colab": {
          "base_uri": "https://localhost:8080/"
        },
        "id": "yGNVcmUw85Yq",
        "outputId": "4e3ad990-b9a5-46e6-ab74-bbf5a5b33fe8"
      },
      "execution_count": 2,
      "outputs": [
        {
          "output_type": "stream",
          "name": "stdout",
          "text": [
            "===== Input/Weights/Bias =====\n",
            "X:  (1, 10)\n",
            "W:  (10, 3)\n",
            "B:  (3,)\n",
            "Y:  (1, 3)\n"
          ]
        }
      ]
    },
    {
      "cell_type": "code",
      "source": [
        "# Code.2-1-2: Output Calculations\n",
        "\n",
        "import numpy as np\n",
        "import tensorflow as tf\n",
        "\n",
        "from tensorflow.math import exp\n",
        "from tensorflow.linalg import matmul\n",
        "\n",
        "from tensorflow.keras.layers import Dense\n",
        "\n",
        "N, n_feature = 4, 10\n",
        "X = tf.random.normal(shape=(N, n_feature)) # X's row vestor = N(1) * n_feature(10)\n",
        "\n",
        "n_neuron = 3 # weights metrix = 10 * 3, bias row vector = 1 * 10\n",
        "dense = Dense(units=n_neuron, activation='sigmoid')\n",
        "Y_tf = dense(X)\n",
        "\n",
        "W, B = dense.get_weights()\n",
        "print(\"Y(Tensotflow): \\n\", Y_tf.numpy())\n",
        "\n",
        "# calculate with matrix multplication\n",
        "z = matmul(X, W) + B\n",
        "Y_man_matmul = 1 / (1 + exp(-z))\n",
        "print(\"Y(with matrix multiolication): \\n\", Y_man_matmul.numpy())\n",
        "\n",
        "# calculate with dot products\n",
        "Y_man_vec = np.zeros(shape=(N, n_neuron))\n",
        "for x_idx in range(N):\n",
        "  x = X[x_idx]\n",
        "\n",
        "  for nu_idx in range(n_neuron):\n",
        "    w, b = W[:, nu_idx], B[nu_idx]\n",
        "\n",
        "    z = tf.reduce_sum(x * w) + b\n",
        "    a = 1 / (1 + np.exp(-z))\n",
        "    Y_man_vec[x_idx, nu_idx] = a\n",
        "\n",
        "print(\"Y(with dot products): \\n\", Y_man_vec)"
      ],
      "metadata": {
        "colab": {
          "base_uri": "https://localhost:8080/"
        },
        "id": "sHdWkz8rAvWq",
        "outputId": "9c338bd2-1726-4c5b-c7bd-55f33a556723"
      },
      "execution_count": 6,
      "outputs": [
        {
          "output_type": "stream",
          "name": "stdout",
          "text": [
            "Y(Tensotflow): \n",
            " [[0.3374349  0.8389372  0.8717373 ]\n",
            " [0.553568   0.95240414 0.6866497 ]\n",
            " [0.07051834 0.05846536 0.12135008]\n",
            " [0.7909593  0.28545392 0.667162  ]]\n",
            "Y(with matrix multiolication): \n",
            " [[0.3374349  0.8389372  0.8717373 ]\n",
            " [0.553568   0.952404   0.6866497 ]\n",
            " [0.07051836 0.05846533 0.12135009]\n",
            " [0.7909593  0.28545392 0.667162  ]]\n",
            "Y(with dot products): \n",
            " [[0.33743486 0.83893724 0.8717373 ]\n",
            " [0.55356808 0.95240405 0.6866497 ]\n",
            " [0.07051836 0.05846531 0.12135012]\n",
            " [0.79095932 0.2854539  0.66716203]]\n"
          ]
        }
      ]
    },
    {
      "cell_type": "markdown",
      "source": [
        "2-2: Cascaded Dense Layers"
      ],
      "metadata": {
        "id": "L3QaVi_NGA-n"
      }
    },
    {
      "cell_type": "code",
      "source": [
        "# Code.2-2-1: Shapes of Cacaded Dense Layers\n",
        "\n",
        "import tensorflow as tf\n",
        "from tensorflow.keras.layers import Dense\n",
        "\n",
        "N, n_feature = 4, 10\n",
        "X = tf.random.normal(shape=(N, n_feature))\n",
        "\n",
        "n_neurons = [3, 5]\n",
        "dense1 = Dense(units=n_neurons[0], activation='sigmoid')\n",
        "dense2 = Dense(units=n_neurons[1], activation='sigmoid')\n",
        "\n",
        "# forward propagation\n",
        "A1 = dense1(X)\n",
        "Y = dense2(A1)\n",
        "\n",
        "# get weights/bias\n",
        "W1, B1 = dense1.get_weights()\n",
        "W2, B2 = dense2.get_weights()\n",
        "\n",
        "\n",
        "print(\"X: {}\\n\".format(X.shape))\n",
        "\n",
        "print(\"W1: {}\\n\".format(W1.shape))\n",
        "print(\"B1: {}\\n\".format(B1.shape))\n",
        "print(\"A1: {}\\n\".format(A1.shape))\n",
        "\n",
        "print(\"W2: {}\\n\".format(W2.shape))\n",
        "print(\"B2: {}\\n\".format(B2.shape))\n",
        "print(\"Y: {}\\n\".format(Y.shape))"
      ],
      "metadata": {
        "colab": {
          "base_uri": "https://localhost:8080/"
        },
        "id": "ioamWztmGH6Q",
        "outputId": "59571a2e-0408-4a68-a1f9-7fb98e001c64"
      },
      "execution_count": 9,
      "outputs": [
        {
          "output_type": "stream",
          "name": "stdout",
          "text": [
            "X: (4, 10)\n",
            "\n",
            "W1: (10, 3)\n",
            "\n",
            "B1: (3,)\n",
            "\n",
            "A1: (4, 3)\n",
            "\n",
            "W2: (3, 5)\n",
            "\n",
            "B2: (5,)\n",
            "\n",
            "Y: (4, 5)\n",
            "\n"
          ]
        }
      ]
    }
  ]
}